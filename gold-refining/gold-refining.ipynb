{
 "cells": [
  {
   "cell_type": "markdown",
   "metadata": {},
   "source": [
    "Привет, меня зовут Артем Хуршудов. Сегодня я проверю твой проект.\n",
    "<br> Дальнейшее общение будет происходить на \"ты\" если это не вызывает никаких проблем.\n",
    "<br> Желательно реагировать на каждый мой комментарий ('исправил', 'не понятно как исправить ошибку', ...)\n",
    "<br> Пожалуйста, не удаляй комментарии ревьюера, так как они повышают качество повторного ревью.\n",
    "\n",
    "Комментарии будут в <font color='green'>зеленой</font>, <font color='blue'>синей</font> или <font color='red'>красной</font> рамках:\n",
    "\n",
    "<div class=\"alert alert-block alert-success\">\n",
    "<b>Успех:</b> Если все сделано отлично\n",
    "</div>\n",
    "\n",
    "<div class=\"alert alert-block alert-info\">\n",
    "<b>Совет: </b> Если можно немного улучшить\n",
    "</div>\n",
    "\n",
    "<div class=\"alert alert-block alert-danger\">\n",
    "<b>Ошибка:</b> Если требуются исправления. Работа не может быть принята с красными комментариями.\n",
    "</div>\n",
    "\n",
    "-------------------\n",
    "\n",
    "Будет очень хорошо, если ты будешь помечать свои действия следующим образом:\n",
    "<div class=\"alert alert-block alert-warning\">\n",
    "<b>Комментарий студента:</b> ...\n",
    "</div>\n",
    "\n",
    "<div class=\"alert alert-block alert-warning\">\n",
    "<b>Изменения:</b> Были внесены следующие изменения ...\n",
    "</div>\n",
    "\n",
    "### <font color='orange'>Общее впечатление</font>\n",
    "* Большое спасибо за проделанную работу. Видно, что приложено много усилий.\n",
    "* Выводы и рассуждения получились содержательными, их было интересно читать.\n",
    "* Над этим проектом нужно будет еще немного поработать. Однако, изменения не должны занять много времени.\n",
    "* В работе я оставил несколько советов. Буду рад, если ты учтешь их.\n",
    "* Пожалуйста, не используй plotly графики. Это сильно увеличивает память занимаемую ноутбуком.\n",
    "* С радостью отвечу на твои вопросы, если они есть. Лучше всего их собрать в следующей ячейке. Жду новую версию проекта."
   ]
  },
  {
   "cell_type": "markdown",
   "metadata": {},
   "source": [
    "<div class=\"alert alert-block alert-warning\">\n",
    "<b>Комментарий студента:</b> Привет, Артём! Как общались на \"ты\", так и продолжим) Спасибо за ревью! C plotly со следующего проекта перейду на seaborn. Остальные мои комментарии ниже\n",
    "</div>"
   ]
  },
  {
   "cell_type": "markdown",
   "metadata": {},
   "source": [
    "### <font color='orange'>Общее впечатление (ревью 2)</font>\n",
    "* После исправлений проект улучшился и теперь он может быть зачтен.\n",
    "* Для удобства все новые комментарии обозначены фразой \"ревью 2\".\n",
    "* Спасибо, за переход на seaborn в будущих проектах. Кстати, обычно, во время реальной работы отправляются еще и пдф версии ноутбука, а в таком случае plotly уже не интерактивен.\n",
    "* Удачи в дальнейшем обучении и следующих работах!"
   ]
  },
  {
   "cell_type": "markdown",
   "metadata": {
    "toc": true
   },
   "source": [
    "<h1>Содержание<span class=\"tocSkip\"></span></h1>\n",
    "<div class=\"toc\"><ul class=\"toc-item\"><li><ul class=\"toc-item\"><li><span><a href=\"#Общее-впечатление\" data-toc-modified-id=\"Общее-впечатление-0.1\"><span class=\"toc-item-num\">0.1&nbsp;&nbsp;</span><font color=\"orange\">Общее впечатление</font></a></span></li><li><span><a href=\"#Общее-впечатление-(ревью-2)\" data-toc-modified-id=\"Общее-впечатление-(ревью-2)-0.2\"><span class=\"toc-item-num\">0.2&nbsp;&nbsp;</span><font color=\"orange\">Общее впечатление (ревью 2)</font></a></span></li></ul></li><li><span><a href=\"#Подготовка-данных\" data-toc-modified-id=\"Подготовка-данных-1\"><span class=\"toc-item-num\">1&nbsp;&nbsp;</span>Подготовка данных</a></span><ul class=\"toc-item\"><li><span><a href=\"#Откройте-файлы-и-изучите-их.\" data-toc-modified-id=\"Откройте-файлы-и-изучите-их.-1.1\"><span class=\"toc-item-num\">1.1&nbsp;&nbsp;</span>Откройте файлы и изучите их.</a></span></li><li><span><a href=\"#Проверьте,-что-эффективность-обогащения-рассчитана-правильно.-Вычислите-её-на-обучающей-выборке-для-признака-rougher.output.recovery.-Найдите-MAE-между-вашими-расчётами-и-значением-признака.-Опишите-выводы.\" data-toc-modified-id=\"Проверьте,-что-эффективность-обогащения-рассчитана-правильно.-Вычислите-её-на-обучающей-выборке-для-признака-rougher.output.recovery.-Найдите-MAE-между-вашими-расчётами-и-значением-признака.-Опишите-выводы.-1.2\"><span class=\"toc-item-num\">1.2&nbsp;&nbsp;</span>Проверьте, что эффективность обогащения рассчитана правильно. Вычислите её на обучающей выборке для признака rougher.output.recovery. Найдите MAE между вашими расчётами и значением признака. Опишите выводы.</a></span></li><li><span><a href=\"#Проанализируйте-признаки,-недоступные-в-тестовой-выборке.-Что-это-за-параметры?-К-какому-типу-относятся?\" data-toc-modified-id=\"Проанализируйте-признаки,-недоступные-в-тестовой-выборке.-Что-это-за-параметры?-К-какому-типу-относятся?-1.3\"><span class=\"toc-item-num\">1.3&nbsp;&nbsp;</span>Проанализируйте признаки, недоступные в тестовой выборке. Что это за параметры? К какому типу относятся?</a></span></li><li><span><a href=\"#Проведите-предобработку-данных.\" data-toc-modified-id=\"Проведите-предобработку-данных.-1.4\"><span class=\"toc-item-num\">1.4&nbsp;&nbsp;</span>Проведите предобработку данных.</a></span></li></ul></li><li><span><a href=\"#Анализ-данных\" data-toc-modified-id=\"Анализ-данных-2\"><span class=\"toc-item-num\">2&nbsp;&nbsp;</span>Анализ данных</a></span><ul class=\"toc-item\"><li><span><a href=\"#Посмотрите,-как-меняется-концентрация-металлов-(Au,-Ag,-Pb)-на-различных-этапах-очистки.-Опишите-выводы.\" data-toc-modified-id=\"Посмотрите,-как-меняется-концентрация-металлов-(Au,-Ag,-Pb)-на-различных-этапах-очистки.-Опишите-выводы.-2.1\"><span class=\"toc-item-num\">2.1&nbsp;&nbsp;</span>Посмотрите, как меняется концентрация металлов (Au, Ag, Pb) на различных этапах очистки. Опишите выводы.</a></span></li><li><span><a href=\"#Сравните-распределения-размеров-гранул-сырья-на-обучающей-и-тестовой-выборках.-Если-распределения-сильно-отличаются-друг-от-друга,-оценка-модели-будет-неправильной.\" data-toc-modified-id=\"Сравните-распределения-размеров-гранул-сырья-на-обучающей-и-тестовой-выборках.-Если-распределения-сильно-отличаются-друг-от-друга,-оценка-модели-будет-неправильной.-2.2\"><span class=\"toc-item-num\">2.2&nbsp;&nbsp;</span>Сравните распределения размеров гранул сырья на обучающей и тестовой выборках. Если распределения сильно отличаются друг от друга, оценка модели будет неправильной.</a></span></li><li><span><a href=\"#Исследуйте-суммарную-концентрацию-всех-веществ-на-разных-стадиях:-в-сырье,-в-черновом-и-финальном-концентратах.\" data-toc-modified-id=\"Исследуйте-суммарную-концентрацию-всех-веществ-на-разных-стадиях:-в-сырье,-в-черновом-и-финальном-концентратах.-2.3\"><span class=\"toc-item-num\">2.3&nbsp;&nbsp;</span>Исследуйте суммарную концентрацию всех веществ на разных стадиях: в сырье, в черновом и финальном концентратах.</a></span></li></ul></li><li><span><a href=\"#Модель\" data-toc-modified-id=\"Модель-3\"><span class=\"toc-item-num\">3&nbsp;&nbsp;</span>Модель</a></span><ul class=\"toc-item\"><li><span><a href=\"#Напишите-функцию-для-вычисления-итоговой-sMAPE.\" data-toc-modified-id=\"Напишите-функцию-для-вычисления-итоговой-sMAPE.-3.1\"><span class=\"toc-item-num\">3.1&nbsp;&nbsp;</span>Напишите функцию для вычисления итоговой sMAPE.</a></span></li><li><span><a href=\"#Обучите-разные-модели-и-оцените-их-качество-кросс-валидацией.-Выберите-лучшую-модель-и-проверьте-её-на-тестовой-выборке.-Опишите-выводы.\" data-toc-modified-id=\"Обучите-разные-модели-и-оцените-их-качество-кросс-валидацией.-Выберите-лучшую-модель-и-проверьте-её-на-тестовой-выборке.-Опишите-выводы.-3.2\"><span class=\"toc-item-num\">3.2&nbsp;&nbsp;</span>Обучите разные модели и оцените их качество кросс-валидацией. Выберите лучшую модель и проверьте её на тестовой выборке. Опишите выводы.</a></span></li></ul></li><li><span><a href=\"#Выводы\" data-toc-modified-id=\"Выводы-4\"><span class=\"toc-item-num\">4&nbsp;&nbsp;</span>Выводы</a></span></li><li><span><a href=\"#Чек-лист-готовности-проекта\" data-toc-modified-id=\"Чек-лист-готовности-проекта-5\"><span class=\"toc-item-num\">5&nbsp;&nbsp;</span>Чек-лист готовности проекта</a></span></li></ul></div>"
   ]
  },
  {
   "cell_type": "markdown",
   "metadata": {},
   "source": [
    "# Восстановление золота из руды"
   ]
  },
  {
   "cell_type": "markdown",
   "metadata": {},
   "source": [
    "Подготовьте прототип модели машинного обучения для «Цифры». Компания разрабатывает решения для эффективной работы промышленных предприятий.\n",
    "\n",
    "Модель должна предсказать коэффициент восстановления золота из золотосодержащей руды. Используйте данные с параметрами добычи и очистки. \n",
    "\n",
    "Модель поможет оптимизировать производство, чтобы не запускать предприятие с убыточными характеристиками.\n",
    "\n",
    "Вам нужно:\n",
    "\n",
    "1. Подготовить данные;\n",
    "2. Провести исследовательский анализ данных;\n",
    "3. Построить и обучить модель.\n",
    "\n",
    "Чтобы выполнить проект, обращайтесь к библиотекам *pandas*, *matplotlib* и *sklearn.* Вам поможет их документация."
   ]
  },
  {
   "cell_type": "markdown",
   "metadata": {},
   "source": [
    "## Подготовка данных"
   ]
  },
  {
   "cell_type": "markdown",
   "metadata": {},
   "source": [
    "Напомним задания к первому разделу проекта:\n",
    "\n",
    "1. Откройте файлы и изучите их.\n",
    "2.  Проверьте, что эффективность обогащения рассчитана правильно. Вычислите её на обучающей выборке для признака rougher.output.recovery. Найдите MAE между вашими расчётами и значением признака. Опишите выводы.\n",
    "3.  Проанализируйте признаки, недоступные в тестовой выборке. Что это за параметры? К какому типу относятся?\n",
    "4. Проведите предобработку данных."
   ]
  },
  {
   "cell_type": "markdown",
   "metadata": {},
   "source": [
    "### Откройте файлы и изучите их."
   ]
  },
  {
   "cell_type": "markdown",
   "metadata": {},
   "source": [
    "Сначала подгрузим все необходимые библиотеки."
   ]
  },
  {
   "cell_type": "code",
   "execution_count": null,
   "metadata": {},
   "outputs": [],
   "source": [
    "import pandas as pd\n",
    "import numpy as np\n",
    "\n",
    "from IPython.display import display\n",
    "\n",
    "import matplotlib.pyplot as plt\n",
    "import plotly.figure_factory as ff\n",
    "\n",
    "from sklearn.ensemble import RandomForestRegressor\n",
    "from sklearn.linear_model import LinearRegression\n",
    "from sklearn.model_selection import train_test_split, cross_val_score, GridSearchCV\n",
    "from sklearn.metrics import mean_absolute_error, make_scorer\n",
    "from sklearn.dummy import DummyRegressor\n",
    "\n",
    "from numpy.random import RandomState\n",
    "STATE = np.random.RandomState(12345)"
   ]
  },
  {
   "cell_type": "markdown",
   "metadata": {},
   "source": [
    "<div class=\"alert alert-block alert-success\">\n",
    "<b>Успех:</b> Отлично, что все импорты собраны в первой ячейке ноутбука! Если у того, кто будет запускать твой ноутбук будут отсутствовать некоторые библиотеки, то он это увидит сразу, а не в процессе!\n",
    "</div>"
   ]
  },
  {
   "cell_type": "markdown",
   "metadata": {},
   "source": [
    "Теперь прочитаем и сохраним данные."
   ]
  },
  {
   "cell_type": "code",
   "execution_count": null,
   "metadata": {},
   "outputs": [],
   "source": [
    "train = pd.read_csv('https://code.s3.yandex.net/datasets/gold_recovery_train_new.csv', index_col=['date'])\n",
    "test = pd.read_csv('https://code.s3.yandex.net/datasets/gold_recovery_test_new.csv', index_col=['date'])\n",
    "full = pd.read_csv('https://code.s3.yandex.net/datasets/gold_recovery_full_new.csv', index_col=['date'])"
   ]
  },
  {
   "cell_type": "markdown",
   "metadata": {},
   "source": [
    "<div class=\"alert alert-block alert-warning\">\n",
    "<b>Изменения:</b> Я сразу тут делаю колонку 'date' индексом\n",
    "</div>"
   ]
  },
  {
   "cell_type": "markdown",
   "metadata": {},
   "source": [
    "<div class=\"alert alert-block alert-success\">\n",
    "<b>Успех (ревью 2):</b> ОК.\n",
    "</div>"
   ]
  },
  {
   "cell_type": "markdown",
   "metadata": {},
   "source": [
    "Посмотрим на размеры выборок."
   ]
  },
  {
   "cell_type": "code",
   "execution_count": null,
   "metadata": {},
   "outputs": [],
   "source": [
    "print('Размер обучающей выборки: {} '.format(train.shape))\n",
    "print('Размер тестовой выборки: {} '.format(test.shape))\n",
    "print('Размер общей выборки: {} '.format(full.shape))"
   ]
  },
  {
   "cell_type": "markdown",
   "metadata": {},
   "source": [
    "В обучающей и общей выборках 87 признаков, а в тестовой - 53.\n",
    "\n",
    "Теперь посмотрим на информацию о каждом датасете и выведем по 5 случайных строк из каждого для первого знакомства с данными."
   ]
  },
  {
   "cell_type": "code",
   "execution_count": null,
   "metadata": {
    "scrolled": false
   },
   "outputs": [],
   "source": [
    "train.info(memory_usage='deep')\n",
    "display(train.sample(5))"
   ]
  },
  {
   "cell_type": "code",
   "execution_count": null,
   "metadata": {
    "scrolled": false
   },
   "outputs": [],
   "source": [
    "test.info(memory_usage='deep')\n",
    "display(test.sample(5))"
   ]
  },
  {
   "cell_type": "code",
   "execution_count": null,
   "metadata": {
    "scrolled": false
   },
   "outputs": [],
   "source": [
    "full.info(memory_usage='deep')\n",
    "display(full.sample(5))"
   ]
  },
  {
   "cell_type": "markdown",
   "metadata": {},
   "source": [
    "Во всех датасетах есть пропуски. Типы данных корректные (возможно, только дату можно будет перевести в тип datetime).\n",
    "\n",
    "Проверим датасеты на повторы."
   ]
  },
  {
   "cell_type": "code",
   "execution_count": null,
   "metadata": {},
   "outputs": [],
   "source": [
    "duplicates_train = train[train.duplicated()]\n",
    "display(duplicates_train)"
   ]
  },
  {
   "cell_type": "code",
   "execution_count": null,
   "metadata": {},
   "outputs": [],
   "source": [
    "duplicates_test = test[test.duplicated()]\n",
    "display(duplicates_test)"
   ]
  },
  {
   "cell_type": "code",
   "execution_count": null,
   "metadata": {
    "scrolled": true
   },
   "outputs": [],
   "source": [
    "duplicates_full = full[full.duplicated()]\n",
    "display(duplicates_full)"
   ]
  },
  {
   "cell_type": "markdown",
   "metadata": {},
   "source": [
    "Отлично, повторов нет."
   ]
  },
  {
   "cell_type": "markdown",
   "metadata": {},
   "source": [
    "<div class=\"alert alert-block alert-success\">\n",
    "<b>Успех:</b> Данные загружены корректно, первичный осмотр проведен.\n",
    "</div>"
   ]
  },
  {
   "cell_type": "markdown",
   "metadata": {},
   "source": [
    "### Проверьте, что эффективность обогащения рассчитана правильно. Вычислите её на обучающей выборке для признака rougher.output.recovery. Найдите MAE между вашими расчётами и значением признака. Опишите выводы."
   ]
  },
  {
   "cell_type": "markdown",
   "metadata": {},
   "source": [
    "Формула эффективности обогащения дана нам по условию:\n",
    "((c*(f-t)) / (f*(c-t))) * 100\n",
    "\n",
    "Напишем функцию, которая будет считать эффективность обогащения по трём вводным: c, f и t."
   ]
  },
  {
   "cell_type": "code",
   "execution_count": null,
   "metadata": {},
   "outputs": [],
   "source": [
    "def recovery(c,f,t):\n",
    "\n",
    "    recovery = ((c*(f-t)) / (f*(c-t))) * 100\n",
    "    \n",
    "    return recovery"
   ]
  },
  {
   "cell_type": "code",
   "execution_count": null,
   "metadata": {},
   "outputs": [],
   "source": [
    "c = train['rougher.output.concentrate_au']\n",
    "f = train['rougher.input.feed_au']\n",
    "t = train['rougher.output.tail_au']\n",
    "\n",
    "recovery_list = recovery(c,f,t)"
   ]
  },
  {
   "cell_type": "markdown",
   "metadata": {},
   "source": [
    "Теперь посчитаем MAE между расчётами и значением признака. Чтобы как-то оценить MAE, посмотрим заодно, какие средние значения реальной и предсказанной эффективности."
   ]
  },
  {
   "cell_type": "code",
   "execution_count": null,
   "metadata": {},
   "outputs": [],
   "source": [
    "mae = mean_absolute_error(train['rougher.output.recovery'], recovery_list)\n",
    "print('MAE', mae)\n",
    "print('Среднее значение реальной эффективности', train['rougher.output.recovery'].mean())\n",
    "print('Среднее значение рассчётной эффективности', recovery_list.mean())"
   ]
  },
  {
   "cell_type": "markdown",
   "metadata": {},
   "source": [
    "Средняя абсолютная ошибка находится примерно на уровне 11.7% от средних истинного и предсказанного значения, то есть можно утверждать, что эффективность обогащения рассчитана верно."
   ]
  },
  {
   "cell_type": "markdown",
   "metadata": {},
   "source": [
    "<div class=\"alert alert-block alert-success\">\n",
    "<b>Успех:</b> Эта проверка была сделана абсолютно верно, молодец!\n",
    "</div>"
   ]
  },
  {
   "cell_type": "markdown",
   "metadata": {},
   "source": [
    "### Проанализируйте признаки, недоступные в тестовой выборке. Что это за параметры? К какому типу относятся?"
   ]
  },
  {
   "cell_type": "markdown",
   "metadata": {},
   "source": [
    "Посмотрим, какие признаки отсутствуют в тестовой выборке"
   ]
  },
  {
   "cell_type": "code",
   "execution_count": null,
   "metadata": {},
   "outputs": [],
   "source": [
    "[col for col in list(train.columns) if (col not in list(test.columns))]"
   ]
  },
  {
   "cell_type": "markdown",
   "metadata": {},
   "source": [
    "В тестовой выборке отсутствуют значения 'output' на всех этапах обогащения. Все эти данные появляются во время обработки руды, когда меняются целевые параметры, поэтому эти признаки использовать для обучения моделей не нужно. Ещё в тестовой выборке нет расчётов концентраций металлов 'rougher.calculation', и они нам тоже не понадобятся для обучения моделей."
   ]
  },
  {
   "cell_type": "markdown",
   "metadata": {},
   "source": [
    "<div class=\"alert alert-block alert-success\">\n",
    "<b>Успех:</b> Согласен.\n",
    "</div>"
   ]
  },
  {
   "cell_type": "markdown",
   "metadata": {},
   "source": [
    "### Проведите предобработку данных."
   ]
  },
  {
   "cell_type": "markdown",
   "metadata": {},
   "source": [
    "Для начала удалим из обучающей выборки столбцы, которые отсутствуют в тестовой выборки, и которые не нужны для обучения моделей."
   ]
  },
  {
   "cell_type": "code",
   "execution_count": null,
   "metadata": {},
   "outputs": [],
   "source": [
    "train = train.drop(['final.output.concentrate_ag',\n",
    " 'final.output.concentrate_pb',\n",
    " 'final.output.concentrate_sol',\n",
    " 'final.output.concentrate_au',\n",
    " 'final.output.recovery',\n",
    " 'final.output.tail_ag',\n",
    " 'final.output.tail_pb',\n",
    " 'final.output.tail_sol',\n",
    " 'final.output.tail_au',\n",
    " 'primary_cleaner.output.concentrate_ag',\n",
    " 'primary_cleaner.output.concentrate_pb',\n",
    " 'primary_cleaner.output.concentrate_sol',\n",
    " 'primary_cleaner.output.concentrate_au',\n",
    " 'primary_cleaner.output.tail_ag',\n",
    " 'primary_cleaner.output.tail_pb',\n",
    " 'primary_cleaner.output.tail_sol',\n",
    " 'primary_cleaner.output.tail_au',\n",
    " 'rougher.calculation.sulfate_to_au_concentrate',\n",
    " 'rougher.calculation.floatbank10_sulfate_to_au_feed',\n",
    " 'rougher.calculation.floatbank11_sulfate_to_au_feed',\n",
    " 'rougher.calculation.au_pb_ratio',\n",
    " 'rougher.output.concentrate_ag',\n",
    " 'rougher.output.concentrate_pb',\n",
    " 'rougher.output.concentrate_sol',\n",
    " 'rougher.output.concentrate_au',\n",
    " 'rougher.output.recovery',\n",
    " 'rougher.output.tail_ag',\n",
    " 'rougher.output.tail_pb',\n",
    " 'rougher.output.tail_sol',\n",
    " 'rougher.output.tail_au',\n",
    " 'secondary_cleaner.output.tail_ag',\n",
    " 'secondary_cleaner.output.tail_pb',\n",
    " 'secondary_cleaner.output.tail_sol',\n",
    " 'secondary_cleaner.output.tail_au'], axis=1)"
   ]
  },
  {
   "cell_type": "markdown",
   "metadata": {},
   "source": [
    "Проверим результат:"
   ]
  },
  {
   "cell_type": "code",
   "execution_count": null,
   "metadata": {},
   "outputs": [],
   "source": [
    "print('Размер обучающей выборки: {} '.format(train.shape))\n",
    "print('Размер тестовой выборки: {} '.format(test.shape))"
   ]
  },
  {
   "cell_type": "markdown",
   "metadata": {},
   "source": [
    "Теперь количество признаков в обучающей и тестовой выборках одинаково. Остаются пропуски.\n",
    "\n",
    "Вообще, их количество не такое уж большое, и можно было бы удалить строки с пропусками, но в условии задания сказано: \"данные индексируются датой и временем получения информации (признак date). Соседние по времени параметры часто похожи\".\n",
    "\n",
    "Поэтому я заменю пропуски на предыдущие значения с помощью метода ffill функции .fillna()."
   ]
  },
  {
   "cell_type": "code",
   "execution_count": null,
   "metadata": {},
   "outputs": [],
   "source": [
    "train = train.fillna(method='ffill')\n",
    "test = test.fillna(method='ffill')"
   ]
  },
  {
   "cell_type": "markdown",
   "metadata": {},
   "source": [
    "Посмотрим, что получилось:"
   ]
  },
  {
   "cell_type": "code",
   "execution_count": null,
   "metadata": {
    "scrolled": false
   },
   "outputs": [],
   "source": [
    "train.info(memory_usage='deep')\n",
    "test.info(memory_usage='deep')"
   ]
  },
  {
   "cell_type": "markdown",
   "metadata": {},
   "source": [
    "Отлично, пропусков нет. Можно переходить к анализу данных."
   ]
  },
  {
   "cell_type": "markdown",
   "metadata": {},
   "source": [
    "<div class=\"alert alert-block alert-success\">\n",
    "<b>Успех:</b> В данном случае это наиболее подходящий метод заполнить пропуски.\n",
    "</div>"
   ]
  },
  {
   "cell_type": "markdown",
   "metadata": {},
   "source": [
    "## Анализ данных"
   ]
  },
  {
   "cell_type": "markdown",
   "metadata": {},
   "source": [
    "### Посмотрите, как меняется концентрация металлов (Au, Ag, Pb) на различных этапах очистки. Опишите выводы."
   ]
  },
  {
   "cell_type": "markdown",
   "metadata": {},
   "source": [
    "Смотреть концентрацию металлов мы будем на полном датасете, а в нём есть пропуски в интересующих нас столбцах. Заполним пропуски, руководствуюясь той же логикой, которой мы заполняли пропуски в предыдущем шаге."
   ]
  },
  {
   "cell_type": "code",
   "execution_count": null,
   "metadata": {},
   "outputs": [],
   "source": [
    "full = full.fillna(method='ffill')"
   ]
  },
  {
   "cell_type": "markdown",
   "metadata": {},
   "source": [
    "Теперь можно построить графики распределения трёх металлов на различных этапах очистки (хвосты не смотрим, так как это по сути отбраковка)."
   ]
  },
  {
   "cell_type": "code",
   "execution_count": null,
   "metadata": {},
   "outputs": [],
   "source": [
    "x1 = full['rougher.input.feed_au']\n",
    "x2 = full['rougher.output.concentrate_au']\n",
    "x3 = full['primary_cleaner.output.concentrate_au']\n",
    "x4 = full['final.output.concentrate_au']\n",
    "\n",
    "hist_data = [x1, x2, x3, x4]\n",
    "\n",
    "group_labels = ['В сырье', 'Флотация', 'Первичная очистка', 'Вторичная очистка']\n",
    "\n",
    "fig = ff.create_distplot(hist_data, group_labels, show_rug=False)\n",
    "fig.update_layout(title_text='Концентрация золота на различных этапах очистки')\n",
    "\n",
    "fig.show()"
   ]
  },
  {
   "cell_type": "code",
   "execution_count": null,
   "metadata": {},
   "outputs": [],
   "source": [
    "x1 = full['rougher.input.feed_ag']\n",
    "x2 = full['rougher.output.concentrate_ag']\n",
    "x3 = full['primary_cleaner.output.concentrate_ag']\n",
    "x4 = full['final.output.concentrate_ag']\n",
    "\n",
    "hist_data = [x1, x2, x3, x4]\n",
    "\n",
    "group_labels = ['В сырье', 'Флотация', 'Первичная очистка', 'Вторичная очистка']\n",
    "\n",
    "fig = ff.create_distplot(hist_data, group_labels, show_rug=False)\n",
    "fig.update_layout(title_text='Концентрация серебра на различных этапах очистки')\n",
    "\n",
    "fig.show()"
   ]
  },
  {
   "cell_type": "code",
   "execution_count": null,
   "metadata": {},
   "outputs": [],
   "source": [
    "x1 = full['rougher.input.feed_pb']\n",
    "x2 = full['rougher.output.concentrate_pb']\n",
    "x3 = full['primary_cleaner.output.concentrate_pb']\n",
    "x4 = full['final.output.concentrate_pb']\n",
    "\n",
    "hist_data = [x1, x2, x3, x4]\n",
    "\n",
    "group_labels = ['В сырье', 'Флотация', 'Первичная очистка', 'Вторичная очистка']\n",
    "\n",
    "fig = ff.create_distplot(hist_data, group_labels, show_rug=False)\n",
    "fig.update_layout(title_text='Концентрация свинца на различных этапах очистки')\n",
    "\n",
    "fig.show()"
   ]
  },
  {
   "cell_type": "markdown",
   "metadata": {},
   "source": [
    "По графикам видно, что концентрация золота растёт на каждом этапе очистки, а концентрации других металлов падают (нелинейно, но в конечном продукте их концентрации ниже, чем в сырье на входе).\n",
    "\n",
    "На всех графиках есть некоторое количество нулевых концентраций. Видимо, это какие-то части нерудных пород, загрязняющие продукт."
   ]
  },
  {
   "cell_type": "markdown",
   "metadata": {},
   "source": [
    "<div class=\"alert alert-block alert-success\">\n",
    "<b>Успех:</b> Гистограммы получиились хорошо, молодец!\n",
    "</div>"
   ]
  },
  {
   "cell_type": "markdown",
   "metadata": {},
   "source": [
    "### Сравните распределения размеров гранул сырья на обучающей и тестовой выборках. Если распределения сильно отличаются друг от друга, оценка модели будет неправильной."
   ]
  },
  {
   "cell_type": "markdown",
   "metadata": {},
   "source": [
    "Построим график распределения размеров гранул в обеих выборках:"
   ]
  },
  {
   "cell_type": "code",
   "execution_count": null,
   "metadata": {
    "scrolled": false
   },
   "outputs": [],
   "source": [
    "x1 = train['rougher.input.feed_size']\n",
    "x2 = test['rougher.input.feed_size']\n",
    "\n",
    "hist_data = [x1, x2]\n",
    "\n",
    "group_labels = ['Обучающая выборка', 'Тестовая выборка']\n",
    "\n",
    "fig = ff.create_distplot(hist_data, group_labels, bin_size=25, show_rug=False)\n",
    "fig.update_layout(title_text='Распределение размеров гранул сырья')\n",
    "\n",
    "fig.show()"
   ]
  },
  {
   "cell_type": "markdown",
   "metadata": {},
   "source": [
    "Размеры гранул на обеих выборках отличаются не сильно, и модели должны обучаться и работать корректно."
   ]
  },
  {
   "cell_type": "markdown",
   "metadata": {},
   "source": [
    "<div class=\"alert alert-block alert-success\">\n",
    "<b>Успех:</b> Хорошо, что ты перешел к долям в этом случае.\n",
    "</div>"
   ]
  },
  {
   "cell_type": "markdown",
   "metadata": {},
   "source": [
    "### Исследуйте суммарную концентрацию всех веществ на разных стадиях: в сырье, в черновом и финальном концентратах."
   ]
  },
  {
   "cell_type": "markdown",
   "metadata": {},
   "source": [
    "Для начала добавим колонки с суммой концентрации всех веществ по стадиям очистки в полный датасет."
   ]
  },
  {
   "cell_type": "code",
   "execution_count": null,
   "metadata": {},
   "outputs": [],
   "source": [
    "full['input_concentration'] = full['rougher.input.feed_ag'] + full['rougher.input.feed_pb'] +\\\n",
    "            full['rougher.input.feed_sol'] + full['rougher.input.feed_au']\n",
    "full['rougher_concentration'] = full['rougher.output.concentrate_ag'] + full['rougher.output.concentrate_pb'] +\\\n",
    "            full['rougher.output.concentrate_sol'] + full['rougher.output.concentrate_au']\n",
    "full['final_concentration'] = full['final.output.concentrate_ag'] + full['final.output.concentrate_pb'] +\\\n",
    "            full['final.output.concentrate_sol'] + full['final.output.concentrate_au']"
   ]
  },
  {
   "cell_type": "markdown",
   "metadata": {},
   "source": [
    "А теперь построим график распределения концентраций по стадиям очистки."
   ]
  },
  {
   "cell_type": "code",
   "execution_count": null,
   "metadata": {
    "scrolled": false
   },
   "outputs": [],
   "source": [
    "x1 = full['input_concentration']\n",
    "x2 = full['rougher_concentration']\n",
    "x3 = full['final_concentration']\n",
    "\n",
    "hist_data = [x1, x2, x3]\n",
    "\n",
    "group_labels = ['Сырьё', 'Черновой концентрат', 'Финальный концентрат']\n",
    "\n",
    "fig = ff.create_distplot(hist_data, group_labels, show_rug=False)\n",
    "fig.update_layout(title_text='Суммарная концентрация всех веществ по стадиям')\n",
    "\n",
    "fig.show()"
   ]
  },
  {
   "cell_type": "markdown",
   "metadata": {},
   "source": [
    "Любопытно, что суммарная концентрация всех веществ в сырье и в черновом концентрате практически одинаковы (в сырье она даже немного выше), однако после финальной очистки концентрация резко повышается.\n",
    "\n",
    "Выбросы около нуля стоит удалить. Исходя из графика, думаю, будет логично удалить все строки, где концентрации ниже 30."
   ]
  },
  {
   "cell_type": "markdown",
   "metadata": {},
   "source": [
    "<div class=\"alert alert-block alert-danger\">\n",
    "<b>Ошибка:</b> Выбросы около нуля стоит удалить. Они вызваны поломкой оборудования. Важно, чтобы они были удалены из треина и из теста. Это можно сделать используя дату как индекс.\n",
    "</div>\n",
    "\n",
    "<div class=\"alert alert-block alert-warning\">\n",
    "<b>Изменения:</b> Немного переписал абзац выше, а ниже удаляю выбросы из всех датасетов:\n",
    "</div>"
   ]
  },
  {
   "cell_type": "code",
   "execution_count": null,
   "metadata": {},
   "outputs": [],
   "source": [
    "delete_rows = full[(full['input_concentration'] < 30) |\n",
    "                   (full['rougher_concentration'] < 30) |\n",
    "                   (full['final_concentration'] < 30)]"
   ]
  },
  {
   "cell_type": "code",
   "execution_count": null,
   "metadata": {},
   "outputs": [],
   "source": [
    "full = full[~full.index.isin(delete_rows.index)]\n",
    "train = train[~train.index.isin(delete_rows.index)]\n",
    "test = test[~test.index.isin(delete_rows.index)]"
   ]
  },
  {
   "cell_type": "markdown",
   "metadata": {},
   "source": [
    "<div class=\"alert alert-block alert-success\">\n",
    "<b>Успех (ревью 2):</b> Абсолютно верно!\n",
    "</div>"
   ]
  },
  {
   "cell_type": "markdown",
   "metadata": {},
   "source": [
    "## Модель"
   ]
  },
  {
   "cell_type": "markdown",
   "metadata": {},
   "source": [
    "### Напишите функцию для вычисления итоговой sMAPE."
   ]
  },
  {
   "cell_type": "markdown",
   "metadata": {},
   "source": [
    "Формула sMAPE дана по условию. Напишем функцию, которая будет считать sMAPE."
   ]
  },
  {
   "cell_type": "code",
   "execution_count": null,
   "metadata": {},
   "outputs": [],
   "source": [
    "def smape(target, predicted):\n",
    "    return ((1/len(target)) * np.sum(2 * np.abs(target - predicted) / (np.abs(target) + np.abs(predicted)))) * 100"
   ]
  },
  {
   "cell_type": "markdown",
   "metadata": {},
   "source": [
    "По формуле итогового sMAPE, так же данной в условии, легко написать функцию, которая будет считать его."
   ]
  },
  {
   "cell_type": "code",
   "execution_count": null,
   "metadata": {},
   "outputs": [],
   "source": [
    "def general_smape(smape_rougher, smape_final):\n",
    "    \n",
    "    return 0.25 * smape_rougher + 0.75 * smape_final"
   ]
  },
  {
   "cell_type": "markdown",
   "metadata": {},
   "source": [
    "<div class=\"alert alert-block alert-success\">\n",
    "<b>Успех:</b> Радует, что в функция выше не были использованы циклы.\n",
    "</div>"
   ]
  },
  {
   "cell_type": "markdown",
   "metadata": {},
   "source": [
    "### Обучите разные модели и оцените их качество кросс-валидацией. Выберите лучшую модель и проверьте её на тестовой выборке. Опишите выводы."
   ]
  },
  {
   "cell_type": "markdown",
   "metadata": {},
   "source": [
    "Целевые признаки:\n",
    "\n",
    "1. Эффективность обогащения чернового концентрата - 'rougher.output.recovery';\n",
    "2. эффективность обогащения финального концентрата - 'final.output.recovery'.\n",
    "\n",
    "Итоговая метрика складывается из двух величин:\n",
    "sMAPE(general) = 25% * sMAPE(rougher) + 75% * sMAPE(final)\n",
    "\n",
    "Попробуем обучить линейную регрессию и случайный лес."
   ]
  },
  {
   "cell_type": "markdown",
   "metadata": {},
   "source": [
    "Напишем функцию, которая будет делить датасет на обучающую и валидационную выборки."
   ]
  },
  {
   "cell_type": "code",
   "execution_count": null,
   "metadata": {},
   "outputs": [],
   "source": [
    "def test_split(features, target):\n",
    "    \n",
    "    features_train, target_train = train_test_split(\n",
    "    features, target, test_size=0.25, random_state=STATE)\n",
    "    \n",
    "    return features_train, target_train"
   ]
  },
  {
   "cell_type": "markdown",
   "metadata": {},
   "source": [
    "Теперь создадим выборки для обучения моделей."
   ]
  },
  {
   "cell_type": "code",
   "execution_count": null,
   "metadata": {},
   "outputs": [],
   "source": [
    "display(train.info())"
   ]
  },
  {
   "cell_type": "code",
   "execution_count": null,
   "metadata": {},
   "outputs": [],
   "source": [
    "features_rougher = train\n",
    "target_rougher = full.loc[features_rougher.index, 'rougher.output.recovery']\n",
    "\n",
    "features_final = train\n",
    "target_final = full.loc[features_final.index, 'final.output.recovery']"
   ]
  },
  {
   "cell_type": "markdown",
   "metadata": {},
   "source": [
    "<div class=\"alert alert-block alert-danger\">\n",
    "<b>Ошибка:</b> Между датасетами нет соответствия по индексу. В качестве индекса нужно использовать дату,\n",
    "</div>\n",
    "\n",
    "<div class=\"alert alert-block alert-warning\">\n",
    "<b>Изменения:</b> Исправил этот недочёт в самом начале\n",
    "</div>"
   ]
  },
  {
   "cell_type": "markdown",
   "metadata": {},
   "source": [
    "<div class=\"alert alert-block alert-success\">\n",
    "<b>Успех (ревью 2):</b> Спасибо.\n",
    "</div>"
   ]
  },
  {
   "cell_type": "markdown",
   "metadata": {},
   "source": [
    "Обучим и проверим модели с использованием кросс-валидации. Начнём с линейной регрессии. Отдельно обучим её для каждого целевого признака."
   ]
  },
  {
   "cell_type": "code",
   "execution_count": null,
   "metadata": {},
   "outputs": [],
   "source": [
    "lin_reg_rougher = LinearRegression()\n",
    "\n",
    "smape_lin_reg_rougher = cross_val_score(lin_reg_rougher, features_rougher, target_rougher,\\\n",
    "                                        scoring = make_scorer(smape, greater_is_better=False), cv = 20).mean()"
   ]
  },
  {
   "cell_type": "code",
   "execution_count": null,
   "metadata": {},
   "outputs": [],
   "source": [
    "lin_reg_final = LinearRegression()\n",
    "\n",
    "smape_lin_reg_final = cross_val_score(lin_reg_final, features_final, target_final,\\\n",
    "                                      scoring = make_scorer(smape, greater_is_better=False), cv = 20).mean()"
   ]
  },
  {
   "cell_type": "markdown",
   "metadata": {},
   "source": [
    "<div class=\"alert alert-block alert-info\">\n",
    "<b>Совет: </b> При использовании кросс-валидации нет смысла выделять валидационную выборку.\n",
    "</div>\n",
    "\n",
    "<div class=\"alert alert-block alert-warning\">\n",
    "<b>Изменения:</b> Удалил валидационные выборки\n",
    "</div>"
   ]
  },
  {
   "cell_type": "markdown",
   "metadata": {},
   "source": [
    "<div class=\"alert alert-block alert-success\">\n",
    "<b>Успех (ревью 2):</b> ОК.\n",
    "</div>"
   ]
  },
  {
   "cell_type": "markdown",
   "metadata": {},
   "source": [
    "Проверим, что получилось."
   ]
  },
  {
   "cell_type": "code",
   "execution_count": null,
   "metadata": {},
   "outputs": [],
   "source": [
    "print('sMAPE rougher: {:.2f} %'.format(smape_lin_reg_rougher))\n",
    "print('sMAPE final: {:.2f} %'.format(smape_lin_reg_final))\n",
    "print('General sMAPE: {:.2f} %'.format(general_smape(smape_lin_reg_rougher, smape_lin_reg_final)))"
   ]
  },
  {
   "cell_type": "markdown",
   "metadata": {},
   "source": [
    "Теперь очередь за случайным лесом. Шаги те же, но для случайного леса подберём гиперпараметры с помощью GridSearchCV."
   ]
  },
  {
   "cell_type": "code",
   "execution_count": null,
   "metadata": {
    "scrolled": true
   },
   "outputs": [],
   "source": [
    "%%time\n",
    "\n",
    "gridsearch_model = RandomForestRegressor(random_state=STATE)\n",
    "parameters = { 'n_estimators': range (1, 30),\n",
    "              'max_depth': range (1, 10) }\n",
    "\n",
    "\n",
    "grid = GridSearchCV(gridsearch_model, parameters, cv=5, scoring=make_scorer(smape, greater_is_better=False),\\\n",
    "                    verbose=3, n_jobs=-1, refit=True)\n",
    "grid.fit(features_rougher, target_rougher)\n",
    "\n",
    "print(grid.best_params_)"
   ]
  },
  {
   "cell_type": "code",
   "execution_count": null,
   "metadata": {
    "scrolled": true
   },
   "outputs": [],
   "source": [
    "%%time\n",
    "\n",
    "grid = GridSearchCV(gridsearch_model, parameters, cv=5, scoring=make_scorer(smape, greater_is_better=False),\\\n",
    "                    verbose=3, n_jobs=-1, refit=True)\n",
    "grid.fit(features_final, target_final)\n",
    "\n",
    "print(grid.best_params_)"
   ]
  },
  {
   "cell_type": "markdown",
   "metadata": {},
   "source": [
    "Используя полученные гиперпараметры, протестируем случайный лес и в конце выведем результаты теста."
   ]
  },
  {
   "cell_type": "code",
   "execution_count": null,
   "metadata": {
    "scrolled": true
   },
   "outputs": [],
   "source": [
    "%%time\n",
    "\n",
    "rand_for_rougher = RandomForestRegressor(random_state=STATE, n_estimators=4, max_depth=5,\\\n",
    "                                         verbose=3, n_jobs=-1).fit(features_rougher, target_rougher)\n",
    "\n",
    "smape_rand_for_rougher = cross_val_score(rand_for_rougher, features_rougher, target_rougher,\\\n",
    "                                      scoring = make_scorer(smape, greater_is_better=False), cv = 5).mean()"
   ]
  },
  {
   "cell_type": "code",
   "execution_count": null,
   "metadata": {},
   "outputs": [],
   "source": [
    "%%time\n",
    "\n",
    "rand_for_final = RandomForestRegressor(random_state=STATE, n_estimators=29, max_depth=4,\\\n",
    "                                       verbose=3, n_jobs=-1).fit(features_final, target_final)\n",
    "\n",
    "smape_rand_for_final = cross_val_score(rand_for_final, features_final, target_final,\\\n",
    "                                      scoring = make_scorer(smape, greater_is_better=False), cv = 5).mean()"
   ]
  },
  {
   "cell_type": "code",
   "execution_count": null,
   "metadata": {},
   "outputs": [],
   "source": [
    "print('sMAPE rougher: {:.2f} %'.format(smape_rand_for_rougher))\n",
    "print('sMAPE final: {:.2f} %'.format(smape_rand_for_final))\n",
    "print('General sMAPE: {:.2f} %'.format(general_smape(smape_rand_for_rougher, smape_rand_for_final)))"
   ]
  },
  {
   "cell_type": "markdown",
   "metadata": {},
   "source": [
    "Итак, модели показали следующие результаты:\n",
    "\n",
    "**Линейная регрессия**\n",
    "* sMAPE rougher: -5.74 %\n",
    "* sMAPE final: -9.48 %\n",
    "* General sMAPE: -8.55 %\n",
    "\n",
    "**Случайный лес**\n",
    "* sMAPE rougher: -6.45 %\n",
    "* sMAPE final: -8.82 %\n",
    "* General sMAPE: -8.23 %\n",
    "\n",
    "Случайный лес явно лидирует."
   ]
  },
  {
   "cell_type": "markdown",
   "metadata": {},
   "source": [
    "<div class=\"alert alert-block alert-success\">\n",
    "<b>Успех:</b> Подбор парамтеров был сделан верно, молодец!\n",
    "</div>"
   ]
  },
  {
   "cell_type": "markdown",
   "metadata": {},
   "source": [
    "Для проверки на тестовой выборке обучаем случайный лес с гиперпараметрами, полученными с помощью GridSearchCV', но сначала создадим выборки с признаками и целевым признаком из датасета 'test'."
   ]
  },
  {
   "cell_type": "code",
   "execution_count": null,
   "metadata": {},
   "outputs": [],
   "source": [
    "general_features_rougher = test\n",
    "general_target_rougher = full.loc[general_features_rougher.index, 'rougher.output.recovery']\n",
    "\n",
    "general_features_final = test\n",
    "general_target_final = full.loc[general_features_final.index, 'final.output.recovery']"
   ]
  },
  {
   "cell_type": "code",
   "execution_count": null,
   "metadata": {},
   "outputs": [],
   "source": [
    "%%time\n",
    "\n",
    "general_rand_for_rougher = RandomForestRegressor(random_state=STATE, n_estimators=4, max_depth=5, verbose=3, n_jobs=-1)\n",
    "\n",
    "general_rand_for_rougher.fit(features_rougher, target_rougher)\n",
    "\n",
    "rougher_predictions = general_rand_for_rougher.predict(general_features_rougher)\n",
    "\n",
    "smape_rougher = smape(general_target_rougher, rougher_predictions)"
   ]
  },
  {
   "cell_type": "code",
   "execution_count": null,
   "metadata": {},
   "outputs": [],
   "source": [
    "%%time\n",
    "\n",
    "general_rand_for_final = RandomForestRegressor(random_state=STATE, n_estimators=29, max_depth=4, verbose=3, n_jobs=-1)\n",
    "\n",
    "general_rand_for_final.fit(features_final, target_final)\n",
    "\n",
    "final_predictions = general_rand_for_final.predict(general_features_final)\n",
    "\n",
    "smape_final = smape(general_target_final, final_predictions)"
   ]
  },
  {
   "cell_type": "code",
   "execution_count": null,
   "metadata": {},
   "outputs": [],
   "source": [
    "print('sMAPE rougher: {:.2f} %'.format(smape_rougher))\n",
    "print('sMAPE final: {:.2f} %'.format(smape_final))\n",
    "print('General sMAPE: {:.2f} %'.format(general_smape(smape_rougher, smape_final)))"
   ]
  },
  {
   "cell_type": "markdown",
   "metadata": {},
   "source": [
    "<div class=\"alert alert-block alert-danger\">\n",
    "<b>Ошибка:</b> На этапе тестирования нельзя использовать кросс-валидацию. Просто обучаешь на треине и предсказываешь на тесте и измеряешь RMSE. Кросс-валидация используется только для подбора параметров.\n",
    "</div>"
   ]
  },
  {
   "cell_type": "markdown",
   "metadata": {},
   "source": [
    "General sMAPE равен 7.35%. Это хорошо или плохо? Попробуем сравнить со статичной моделью."
   ]
  },
  {
   "cell_type": "code",
   "execution_count": null,
   "metadata": {},
   "outputs": [],
   "source": [
    "dummy_regressor = DummyRegressor(strategy='mean')\n",
    "\n",
    "dummy_regressor.fit(features_rougher, target_rougher)\n",
    "dummy_rougher = dummy_regressor.predict(target_rougher)\n",
    "\n",
    "dummy_regressor.fit(features_final, target_final)\n",
    "dummy_final = dummy_regressor.predict(target_final)"
   ]
  },
  {
   "cell_type": "code",
   "execution_count": null,
   "metadata": {
    "scrolled": true
   },
   "outputs": [],
   "source": [
    "smape_dummy_rougher = smape(target_rougher, dummy_rougher)\n",
    "smape_dummy_final = smape(target_final, dummy_final)\n",
    "\n",
    "print('General sMAPE: {:.2f} %'.format(general_smape(smape_dummy_rougher, smape_dummy_final)))"
   ]
  },
  {
   "cell_type": "markdown",
   "metadata": {},
   "source": [
    "У статичной модели General sMAPE равен 9.29 %, то есть рандомный лес с General sMAPE 7.35% достаточно хорошо справляется с предсказаниями."
   ]
  },
  {
   "cell_type": "markdown",
   "metadata": {},
   "source": [
    "<div class=\"alert alert-block alert-info\">\n",
    "<b>Совет: </b> После исправления ошибок выше результаты изменятся.\n",
    "</div>"
   ]
  },
  {
   "cell_type": "markdown",
   "metadata": {},
   "source": [
    "<div class=\"alert alert-block alert-warning\">\n",
    "<b>Комментарий студента:</b> Поменял промежуточные и финальные выводы\n",
    "</div>"
   ]
  },
  {
   "cell_type": "markdown",
   "metadata": {},
   "source": [
    "<div class=\"alert alert-block alert-success\">\n",
    "<b>Успех (ревью 2):</b> Теперь все сделано абсолютно корректно, молодец!\n",
    "</div>"
   ]
  },
  {
   "cell_type": "markdown",
   "metadata": {},
   "source": [
    "## Выводы"
   ]
  },
  {
   "cell_type": "markdown",
   "metadata": {},
   "source": [
    "**Подготовка данных**\n",
    "\n",
    "Предоставленные исходные данные содержали пропуски, которые мы заполнили историческими данными, так как по условиям задания было известно, что они похожи.\n",
    "\n",
    "Мы проверили корректность расчёта показателя эффективности очистки руды и пришли к выводу, что он был рассчитан верно.\n",
    "\n",
    "В тестовой выборке отсутствовал ряд признаков, и мы выяснили, что это данные появляются во время обработки руды, а также расчёты концентраций металлов. Следовательно, эти признаки использовать для обучения моделей не нужно, и эти признаки были удалены из обучающей выборки.\n",
    "\n",
    "**Анализ данных**\n",
    "\n",
    "Мы исследовали изменения концентрации металлов (Au, Ag, Pb) на различных этапах очистки и пришли к выводу, что концентрация золота растёт на каждом этапе очистки, а концентрации других металлов падают.\n",
    "\n",
    "Также мы сравнили распределения размеров гранул сырья на обучающей и тестовой выборках и пришли к выводу, что их распределения отличаются друг от друга незначительно, и что это не повлияет на работу моделей. \n",
    "\n",
    "Кроме того, мы исследовали суммарную концентрацию всех веществ на разных стадиях и обнаружили, что суммарная концентрация всех веществ в сырье и в черновом концентрате практически одинаковы (в сырье она даже немного выше), однако после финальной очистки концентрация резко повышается.\n",
    "\n",
    "**Построение моделей**\n",
    "\n",
    "Мы написали функцию для вычисления итоговой sMAPE и обучили линейную регрессию и случайный лес. По результатам тестирования sMAPE итогового леса оказался ниже, и эта модель была обучена и использована для финальной проверке на тестовой выборке с результатами:\n",
    "\n",
    "* sMAPE rougher: 5.29 %\n",
    "* sMAPE final: 8.03 %\n",
    "* General sMAPE: 7.35 %\n",
    "\n",
    "При этом, General sMAPE статичной модели равен 9.29%, то есть можно считать, что случайный лес справился с предсказанием успешно."
   ]
  },
  {
   "cell_type": "markdown",
   "metadata": {},
   "source": [
    "<div class=\"alert alert-block alert-success\">\n",
    "<b>Успех:</b> Приятно видеть подробный вывод в конце проекта!\n",
    "</div>"
   ]
  },
  {
   "cell_type": "markdown",
   "metadata": {},
   "source": [
    "## Чек-лист готовности проекта"
   ]
  },
  {
   "cell_type": "markdown",
   "metadata": {},
   "source": [
    "- [x]  Jupyter Notebook открыт\n",
    "- [ ]  Весь код выполняется без ошибок\n",
    "- [ ]  Ячейки с кодом расположены в порядке выполнения\n",
    "- [ ]  Выполнен шаг 1: данные подготовлены\n",
    "    - [ ]  Проверена формула вычисления эффективности обогащения\n",
    "    - [ ]  Проанализированы признаки, недоступные в тестовой выборке\n",
    "    - [ ]  Проведена предобработка данных\n",
    "- [ ]  Выполнен шаг 2: данные проанализированы\n",
    "    - [ ]  Исследовано изменение концентрации элементов на каждом этапе\n",
    "    - [ ]  Проанализированы распределения размеров гранул на обучающей и тестовой выборках\n",
    "    - [ ]  Исследованы суммарные концентрации\n",
    "- [ ]  Выполнен шаг 3: построена модель прогнозирования\n",
    "    - [ ]  Написана функция для вычисления итогового *sMAPE*\n",
    "    - [ ]  Обучено и проверено несколько моделей\n",
    "    - [ ]  Выбрана лучшая модель, её качество проверено на тестовой выборке"
   ]
  }
 ],
 "metadata": {
  "ExecuteTimeLog": [
   {
    "duration": 2192,
    "start_time": "2021-11-09T21:01:02.188Z"
   },
   {
    "duration": 2418,
    "start_time": "2021-11-09T21:01:04.383Z"
   },
   {
    "duration": 438,
    "start_time": "2021-11-09T21:01:06.804Z"
   },
   {
    "duration": -2179,
    "start_time": "2021-11-09T21:01:09.423Z"
   },
   {
    "duration": -2180,
    "start_time": "2021-11-09T21:01:09.426Z"
   },
   {
    "duration": -2182,
    "start_time": "2021-11-09T21:01:09.429Z"
   },
   {
    "duration": -2182,
    "start_time": "2021-11-09T21:01:09.430Z"
   },
   {
    "duration": -2185,
    "start_time": "2021-11-09T21:01:09.434Z"
   },
   {
    "duration": -2184,
    "start_time": "2021-11-09T21:01:09.435Z"
   },
   {
    "duration": 1430,
    "start_time": "2021-11-09T21:01:52.344Z"
   },
   {
    "duration": 2015,
    "start_time": "2021-11-09T21:01:53.776Z"
   },
   {
    "duration": 79,
    "start_time": "2021-11-09T21:01:55.794Z"
   },
   {
    "duration": 68,
    "start_time": "2021-11-09T21:01:55.876Z"
   },
   {
    "duration": 106,
    "start_time": "2021-11-09T21:01:55.947Z"
   },
   {
    "duration": 582,
    "start_time": "2021-11-09T21:01:56.056Z"
   },
   {
    "duration": -2181,
    "start_time": "2021-11-09T21:01:58.821Z"
   },
   {
    "duration": -2180,
    "start_time": "2021-11-09T21:01:58.822Z"
   },
   {
    "duration": -2179,
    "start_time": "2021-11-09T21:01:58.823Z"
   },
   {
    "duration": 1449,
    "start_time": "2021-11-09T21:03:29.620Z"
   },
   {
    "duration": 2099,
    "start_time": "2021-11-09T21:03:31.071Z"
   },
   {
    "duration": 83,
    "start_time": "2021-11-09T21:03:33.175Z"
   },
   {
    "duration": 63,
    "start_time": "2021-11-09T21:03:33.261Z"
   },
   {
    "duration": 66,
    "start_time": "2021-11-09T21:03:33.326Z"
   },
   {
    "duration": 207,
    "start_time": "2021-11-09T21:03:33.394Z"
   },
   {
    "duration": 54,
    "start_time": "2021-11-09T21:03:33.603Z"
   },
   {
    "duration": 175,
    "start_time": "2021-11-09T21:03:33.660Z"
   },
   {
    "duration": 681,
    "start_time": "2021-11-09T21:03:33.838Z"
   },
   {
    "duration": 1309,
    "start_time": "2021-11-09T21:17:42.971Z"
   },
   {
    "duration": 1827,
    "start_time": "2021-11-09T21:17:44.283Z"
   },
   {
    "duration": 69,
    "start_time": "2021-11-09T21:17:46.113Z"
   },
   {
    "duration": 65,
    "start_time": "2021-11-09T21:17:46.185Z"
   },
   {
    "duration": 90,
    "start_time": "2021-11-09T21:17:46.253Z"
   },
   {
    "duration": 206,
    "start_time": "2021-11-09T21:17:46.345Z"
   },
   {
    "duration": 49,
    "start_time": "2021-11-09T21:17:46.554Z"
   },
   {
    "duration": 193,
    "start_time": "2021-11-09T21:17:46.605Z"
   },
   {
    "duration": 1349,
    "start_time": "2021-11-09T21:19:04.479Z"
   },
   {
    "duration": 2094,
    "start_time": "2021-11-09T21:19:05.830Z"
   },
   {
    "duration": 72,
    "start_time": "2021-11-09T21:19:07.928Z"
   },
   {
    "duration": 62,
    "start_time": "2021-11-09T21:19:08.003Z"
   },
   {
    "duration": 86,
    "start_time": "2021-11-09T21:19:08.068Z"
   },
   {
    "duration": 199,
    "start_time": "2021-11-09T21:19:08.156Z"
   },
   {
    "duration": 48,
    "start_time": "2021-11-09T21:19:08.358Z"
   },
   {
    "duration": 183,
    "start_time": "2021-11-09T21:19:08.422Z"
   },
   {
    "duration": 89,
    "start_time": "2021-11-09T21:22:34.038Z"
   },
   {
    "duration": 1042,
    "start_time": "2021-11-14T13:56:49.948Z"
   },
   {
    "duration": 1960,
    "start_time": "2021-11-14T13:56:50.992Z"
   },
   {
    "duration": 4,
    "start_time": "2021-11-14T13:56:52.954Z"
   },
   {
    "duration": 45,
    "start_time": "2021-11-14T13:56:52.960Z"
   },
   {
    "duration": 46,
    "start_time": "2021-11-14T13:56:53.006Z"
   },
   {
    "duration": 38,
    "start_time": "2021-11-14T13:56:53.054Z"
   },
   {
    "duration": 127,
    "start_time": "2021-11-14T13:56:53.093Z"
   },
   {
    "duration": 31,
    "start_time": "2021-11-14T13:56:53.221Z"
   },
   {
    "duration": 91,
    "start_time": "2021-11-14T13:56:53.254Z"
   },
   {
    "duration": 1016,
    "start_time": "2021-11-14T14:13:30.473Z"
   },
   {
    "duration": 2317,
    "start_time": "2021-11-14T14:13:31.491Z"
   },
   {
    "duration": 3,
    "start_time": "2021-11-14T14:13:33.810Z"
   },
   {
    "duration": 58,
    "start_time": "2021-11-14T14:13:33.815Z"
   },
   {
    "duration": 28,
    "start_time": "2021-11-14T14:13:33.875Z"
   },
   {
    "duration": 65,
    "start_time": "2021-11-14T14:13:33.905Z"
   },
   {
    "duration": 121,
    "start_time": "2021-11-14T14:13:33.971Z"
   },
   {
    "duration": 28,
    "start_time": "2021-11-14T14:13:34.094Z"
   },
   {
    "duration": 101,
    "start_time": "2021-11-14T14:13:34.124Z"
   },
   {
    "duration": 4,
    "start_time": "2021-11-14T14:13:34.227Z"
   },
   {
    "duration": 16,
    "start_time": "2021-11-14T14:13:34.245Z"
   },
   {
    "duration": 362,
    "start_time": "2021-11-14T14:13:34.263Z"
   },
   {
    "duration": -8580,
    "start_time": "2021-11-14T14:13:43.207Z"
   },
   {
    "duration": 1146,
    "start_time": "2021-11-14T14:14:30.253Z"
   },
   {
    "duration": 2548,
    "start_time": "2021-11-14T14:14:31.402Z"
   },
   {
    "duration": 5,
    "start_time": "2021-11-14T14:14:33.953Z"
   },
   {
    "duration": 45,
    "start_time": "2021-11-14T14:14:33.969Z"
   },
   {
    "duration": 47,
    "start_time": "2021-11-14T14:14:34.016Z"
   },
   {
    "duration": 54,
    "start_time": "2021-11-14T14:14:34.065Z"
   },
   {
    "duration": 132,
    "start_time": "2021-11-14T14:14:34.120Z"
   },
   {
    "duration": 33,
    "start_time": "2021-11-14T14:14:34.254Z"
   },
   {
    "duration": 114,
    "start_time": "2021-11-14T14:14:34.290Z"
   },
   {
    "duration": 4,
    "start_time": "2021-11-14T14:14:34.407Z"
   },
   {
    "duration": 80,
    "start_time": "2021-11-14T14:14:34.413Z"
   },
   {
    "duration": 5,
    "start_time": "2021-11-14T14:14:34.495Z"
   },
   {
    "duration": 13,
    "start_time": "2021-11-14T14:14:34.501Z"
   },
   {
    "duration": 1098,
    "start_time": "2021-11-14T14:19:38.511Z"
   },
   {
    "duration": 1596,
    "start_time": "2021-11-14T14:19:39.612Z"
   },
   {
    "duration": 4,
    "start_time": "2021-11-14T14:19:41.211Z"
   },
   {
    "duration": 56,
    "start_time": "2021-11-14T14:19:41.217Z"
   },
   {
    "duration": 35,
    "start_time": "2021-11-14T14:19:41.275Z"
   },
   {
    "duration": 62,
    "start_time": "2021-11-14T14:19:41.313Z"
   },
   {
    "duration": 121,
    "start_time": "2021-11-14T14:19:41.377Z"
   },
   {
    "duration": 28,
    "start_time": "2021-11-14T14:19:41.500Z"
   },
   {
    "duration": 84,
    "start_time": "2021-11-14T14:19:41.543Z"
   },
   {
    "duration": 15,
    "start_time": "2021-11-14T14:19:41.630Z"
   },
   {
    "duration": 17,
    "start_time": "2021-11-14T14:19:41.646Z"
   },
   {
    "duration": 6,
    "start_time": "2021-11-14T14:19:41.664Z"
   },
   {
    "duration": 6,
    "start_time": "2021-11-14T14:19:41.671Z"
   },
   {
    "duration": 1059,
    "start_time": "2021-11-14T14:20:25.638Z"
   },
   {
    "duration": 1780,
    "start_time": "2021-11-14T14:20:26.698Z"
   },
   {
    "duration": 4,
    "start_time": "2021-11-14T14:20:28.480Z"
   },
   {
    "duration": 59,
    "start_time": "2021-11-14T14:20:28.486Z"
   },
   {
    "duration": 31,
    "start_time": "2021-11-14T14:20:28.547Z"
   },
   {
    "duration": 39,
    "start_time": "2021-11-14T14:20:28.580Z"
   },
   {
    "duration": 121,
    "start_time": "2021-11-14T14:20:28.645Z"
   },
   {
    "duration": 27,
    "start_time": "2021-11-14T14:20:28.768Z"
   },
   {
    "duration": 94,
    "start_time": "2021-11-14T14:20:28.798Z"
   },
   {
    "duration": 3,
    "start_time": "2021-11-14T14:20:28.894Z"
   },
   {
    "duration": 14,
    "start_time": "2021-11-14T14:20:28.899Z"
   },
   {
    "duration": 4,
    "start_time": "2021-11-14T14:20:28.915Z"
   },
   {
    "duration": 5,
    "start_time": "2021-11-14T14:20:28.921Z"
   },
   {
    "duration": 1145,
    "start_time": "2021-11-14T14:21:55.597Z"
   },
   {
    "duration": 1558,
    "start_time": "2021-11-14T14:21:56.744Z"
   },
   {
    "duration": 4,
    "start_time": "2021-11-14T14:21:58.304Z"
   },
   {
    "duration": 59,
    "start_time": "2021-11-14T14:21:58.310Z"
   },
   {
    "duration": 31,
    "start_time": "2021-11-14T14:21:58.371Z"
   },
   {
    "duration": 61,
    "start_time": "2021-11-14T14:21:58.404Z"
   },
   {
    "duration": 136,
    "start_time": "2021-11-14T14:21:58.466Z"
   },
   {
    "duration": 55,
    "start_time": "2021-11-14T14:21:58.605Z"
   },
   {
    "duration": 101,
    "start_time": "2021-11-14T14:21:58.663Z"
   },
   {
    "duration": 3,
    "start_time": "2021-11-14T14:21:58.767Z"
   },
   {
    "duration": 17,
    "start_time": "2021-11-14T14:21:58.772Z"
   },
   {
    "duration": 5,
    "start_time": "2021-11-14T14:21:58.791Z"
   },
   {
    "duration": 7,
    "start_time": "2021-11-14T14:21:58.798Z"
   },
   {
    "duration": 1062,
    "start_time": "2021-11-14T14:25:38.124Z"
   },
   {
    "duration": 1517,
    "start_time": "2021-11-14T14:25:39.188Z"
   },
   {
    "duration": 3,
    "start_time": "2021-11-14T14:25:40.707Z"
   },
   {
    "duration": 57,
    "start_time": "2021-11-14T14:25:40.712Z"
   },
   {
    "duration": 29,
    "start_time": "2021-11-14T14:25:40.770Z"
   },
   {
    "duration": 56,
    "start_time": "2021-11-14T14:25:40.800Z"
   },
   {
    "duration": 121,
    "start_time": "2021-11-14T14:25:40.858Z"
   },
   {
    "duration": 27,
    "start_time": "2021-11-14T14:25:40.981Z"
   },
   {
    "duration": 92,
    "start_time": "2021-11-14T14:25:41.010Z"
   },
   {
    "duration": 3,
    "start_time": "2021-11-14T14:25:41.104Z"
   },
   {
    "duration": 21,
    "start_time": "2021-11-14T14:25:41.108Z"
   },
   {
    "duration": 5,
    "start_time": "2021-11-14T14:25:41.131Z"
   },
   {
    "duration": 1014,
    "start_time": "2021-11-14T14:27:45.178Z"
   },
   {
    "duration": 1561,
    "start_time": "2021-11-14T14:27:46.194Z"
   },
   {
    "duration": 4,
    "start_time": "2021-11-14T14:27:47.758Z"
   },
   {
    "duration": 48,
    "start_time": "2021-11-14T14:27:47.764Z"
   },
   {
    "duration": 44,
    "start_time": "2021-11-14T14:27:47.814Z"
   },
   {
    "duration": 38,
    "start_time": "2021-11-14T14:27:47.860Z"
   },
   {
    "duration": 122,
    "start_time": "2021-11-14T14:27:47.899Z"
   },
   {
    "duration": 36,
    "start_time": "2021-11-14T14:27:48.022Z"
   },
   {
    "duration": 88,
    "start_time": "2021-11-14T14:27:48.060Z"
   },
   {
    "duration": 2,
    "start_time": "2021-11-14T14:27:48.150Z"
   },
   {
    "duration": 14,
    "start_time": "2021-11-14T14:27:48.154Z"
   },
   {
    "duration": 4,
    "start_time": "2021-11-14T14:27:48.169Z"
   },
   {
    "duration": 5,
    "start_time": "2021-11-14T14:27:55.483Z"
   },
   {
    "duration": 993,
    "start_time": "2021-11-14T14:28:26.491Z"
   },
   {
    "duration": 2412,
    "start_time": "2021-11-14T14:28:27.486Z"
   },
   {
    "duration": 4,
    "start_time": "2021-11-14T14:28:29.900Z"
   },
   {
    "duration": 58,
    "start_time": "2021-11-14T14:28:29.906Z"
   },
   {
    "duration": 30,
    "start_time": "2021-11-14T14:28:29.966Z"
   },
   {
    "duration": 59,
    "start_time": "2021-11-14T14:28:29.998Z"
   },
   {
    "duration": 122,
    "start_time": "2021-11-14T14:28:30.058Z"
   },
   {
    "duration": 28,
    "start_time": "2021-11-14T14:28:30.182Z"
   },
   {
    "duration": 93,
    "start_time": "2021-11-14T14:28:30.212Z"
   },
   {
    "duration": 2,
    "start_time": "2021-11-14T14:28:30.307Z"
   },
   {
    "duration": 27,
    "start_time": "2021-11-14T14:28:30.311Z"
   },
   {
    "duration": 6,
    "start_time": "2021-11-14T14:28:30.340Z"
   },
   {
    "duration": 6,
    "start_time": "2021-11-14T14:29:55.260Z"
   },
   {
    "duration": 1052,
    "start_time": "2021-11-14T14:30:06.137Z"
   },
   {
    "duration": 1747,
    "start_time": "2021-11-14T14:30:07.191Z"
   },
   {
    "duration": 4,
    "start_time": "2021-11-14T14:30:08.940Z"
   },
   {
    "duration": 44,
    "start_time": "2021-11-14T14:30:08.946Z"
   },
   {
    "duration": 27,
    "start_time": "2021-11-14T14:30:08.991Z"
   },
   {
    "duration": 53,
    "start_time": "2021-11-14T14:30:09.020Z"
   },
   {
    "duration": 115,
    "start_time": "2021-11-14T14:30:09.075Z"
   },
   {
    "duration": 26,
    "start_time": "2021-11-14T14:30:09.191Z"
   },
   {
    "duration": 95,
    "start_time": "2021-11-14T14:30:09.219Z"
   },
   {
    "duration": 3,
    "start_time": "2021-11-14T14:30:09.315Z"
   },
   {
    "duration": 19,
    "start_time": "2021-11-14T14:30:09.319Z"
   },
   {
    "duration": 16,
    "start_time": "2021-11-14T14:30:09.340Z"
   },
   {
    "duration": 998,
    "start_time": "2021-11-14T14:39:22.187Z"
   },
   {
    "duration": 2130,
    "start_time": "2021-11-14T14:39:23.187Z"
   },
   {
    "duration": 3,
    "start_time": "2021-11-14T14:39:25.319Z"
   },
   {
    "duration": 53,
    "start_time": "2021-11-14T14:39:25.324Z"
   },
   {
    "duration": 26,
    "start_time": "2021-11-14T14:39:25.379Z"
   },
   {
    "duration": 46,
    "start_time": "2021-11-14T14:39:25.406Z"
   },
   {
    "duration": 117,
    "start_time": "2021-11-14T14:39:25.454Z"
   },
   {
    "duration": 29,
    "start_time": "2021-11-14T14:39:25.573Z"
   },
   {
    "duration": 100,
    "start_time": "2021-11-14T14:39:25.605Z"
   },
   {
    "duration": 3,
    "start_time": "2021-11-14T14:39:25.707Z"
   },
   {
    "duration": 22,
    "start_time": "2021-11-14T14:39:25.712Z"
   },
   {
    "duration": 13,
    "start_time": "2021-11-14T14:39:25.735Z"
   },
   {
    "duration": 15,
    "start_time": "2021-11-14T14:39:25.749Z"
   },
   {
    "duration": 1074,
    "start_time": "2021-11-14T15:30:03.758Z"
   },
   {
    "duration": 2368,
    "start_time": "2021-11-14T15:30:04.834Z"
   },
   {
    "duration": 4,
    "start_time": "2021-11-14T15:30:07.204Z"
   },
   {
    "duration": 57,
    "start_time": "2021-11-14T15:30:07.210Z"
   },
   {
    "duration": 28,
    "start_time": "2021-11-14T15:30:07.269Z"
   },
   {
    "duration": 70,
    "start_time": "2021-11-14T15:30:07.299Z"
   },
   {
    "duration": 125,
    "start_time": "2021-11-14T15:30:07.371Z"
   },
   {
    "duration": 28,
    "start_time": "2021-11-14T15:30:07.497Z"
   },
   {
    "duration": 97,
    "start_time": "2021-11-14T15:30:07.527Z"
   },
   {
    "duration": 3,
    "start_time": "2021-11-14T15:30:07.626Z"
   },
   {
    "duration": 24,
    "start_time": "2021-11-14T15:30:07.630Z"
   },
   {
    "duration": 8,
    "start_time": "2021-11-14T15:30:07.656Z"
   },
   {
    "duration": 11,
    "start_time": "2021-11-14T15:30:07.666Z"
   },
   {
    "duration": 10,
    "start_time": "2021-11-14T15:30:07.678Z"
   },
   {
    "duration": 36,
    "start_time": "2021-11-14T15:30:07.690Z"
   },
   {
    "duration": 382,
    "start_time": "2021-11-14T15:50:01.822Z"
   },
   {
    "duration": 33,
    "start_time": "2021-11-14T15:50:10.638Z"
   },
   {
    "duration": 24,
    "start_time": "2021-11-14T15:51:38.913Z"
   },
   {
    "duration": 5492,
    "start_time": "2021-11-14T15:52:07.188Z"
   },
   {
    "duration": 2455,
    "start_time": "2021-11-14T15:52:12.682Z"
   },
   {
    "duration": 6,
    "start_time": "2021-11-14T15:52:15.139Z"
   },
   {
    "duration": 56,
    "start_time": "2021-11-14T15:52:15.147Z"
   },
   {
    "duration": 56,
    "start_time": "2021-11-14T15:52:15.205Z"
   },
   {
    "duration": 42,
    "start_time": "2021-11-14T15:52:15.263Z"
   },
   {
    "duration": 134,
    "start_time": "2021-11-14T15:52:15.307Z"
   },
   {
    "duration": 35,
    "start_time": "2021-11-14T15:52:15.444Z"
   },
   {
    "duration": 102,
    "start_time": "2021-11-14T15:52:15.482Z"
   },
   {
    "duration": 3,
    "start_time": "2021-11-14T15:52:15.587Z"
   },
   {
    "duration": 11,
    "start_time": "2021-11-14T15:52:15.592Z"
   },
   {
    "duration": 6,
    "start_time": "2021-11-14T15:52:15.604Z"
   },
   {
    "duration": 8,
    "start_time": "2021-11-14T15:52:15.611Z"
   },
   {
    "duration": 28,
    "start_time": "2021-11-14T15:52:15.621Z"
   },
   {
    "duration": 10,
    "start_time": "2021-11-14T15:52:15.651Z"
   },
   {
    "duration": 26,
    "start_time": "2021-11-14T15:52:15.663Z"
   },
   {
    "duration": 415,
    "start_time": "2021-11-14T15:52:15.691Z"
   },
   {
    "duration": -74,
    "start_time": "2021-11-14T15:52:16.182Z"
   },
   {
    "duration": 1063,
    "start_time": "2021-11-14T15:52:54.119Z"
   },
   {
    "duration": 1837,
    "start_time": "2021-11-14T15:52:55.184Z"
   },
   {
    "duration": 4,
    "start_time": "2021-11-14T15:52:57.023Z"
   },
   {
    "duration": 56,
    "start_time": "2021-11-14T15:52:57.029Z"
   },
   {
    "duration": 30,
    "start_time": "2021-11-14T15:52:57.086Z"
   },
   {
    "duration": 61,
    "start_time": "2021-11-14T15:52:57.118Z"
   },
   {
    "duration": 121,
    "start_time": "2021-11-14T15:52:57.180Z"
   },
   {
    "duration": 27,
    "start_time": "2021-11-14T15:52:57.302Z"
   },
   {
    "duration": 105,
    "start_time": "2021-11-14T15:52:57.331Z"
   },
   {
    "duration": 3,
    "start_time": "2021-11-14T15:52:57.437Z"
   },
   {
    "duration": 23,
    "start_time": "2021-11-14T15:52:57.441Z"
   },
   {
    "duration": 6,
    "start_time": "2021-11-14T15:52:57.465Z"
   },
   {
    "duration": 7,
    "start_time": "2021-11-14T15:52:57.472Z"
   },
   {
    "duration": 11,
    "start_time": "2021-11-14T15:52:57.480Z"
   },
   {
    "duration": 9,
    "start_time": "2021-11-14T15:52:57.492Z"
   },
   {
    "duration": 30,
    "start_time": "2021-11-14T15:52:57.503Z"
   },
   {
    "duration": 12,
    "start_time": "2021-11-14T15:52:57.535Z"
   },
   {
    "duration": 27,
    "start_time": "2021-11-14T15:52:57.557Z"
   },
   {
    "duration": 1081,
    "start_time": "2021-11-14T17:37:35.505Z"
   },
   {
    "duration": 1970,
    "start_time": "2021-11-14T17:37:36.588Z"
   },
   {
    "duration": 4,
    "start_time": "2021-11-14T17:37:38.560Z"
   },
   {
    "duration": 45,
    "start_time": "2021-11-14T17:37:38.566Z"
   },
   {
    "duration": 49,
    "start_time": "2021-11-14T17:37:38.613Z"
   },
   {
    "duration": 39,
    "start_time": "2021-11-14T17:37:38.664Z"
   },
   {
    "duration": 125,
    "start_time": "2021-11-14T17:37:38.705Z"
   },
   {
    "duration": 36,
    "start_time": "2021-11-14T17:37:38.831Z"
   },
   {
    "duration": 86,
    "start_time": "2021-11-14T17:37:38.869Z"
   },
   {
    "duration": 3,
    "start_time": "2021-11-14T17:37:38.957Z"
   },
   {
    "duration": 11,
    "start_time": "2021-11-14T17:37:38.962Z"
   },
   {
    "duration": 6,
    "start_time": "2021-11-14T17:37:38.974Z"
   },
   {
    "duration": 7,
    "start_time": "2021-11-14T17:37:38.981Z"
   },
   {
    "duration": 14,
    "start_time": "2021-11-14T17:37:38.989Z"
   },
   {
    "duration": 11,
    "start_time": "2021-11-14T17:37:39.004Z"
   },
   {
    "duration": 28,
    "start_time": "2021-11-14T17:37:39.017Z"
   },
   {
    "duration": 27,
    "start_time": "2021-11-14T17:37:39.046Z"
   },
   {
    "duration": 15,
    "start_time": "2021-11-14T17:37:39.074Z"
   },
   {
    "duration": 3,
    "start_time": "2021-11-14T17:37:39.090Z"
   },
   {
    "duration": 10,
    "start_time": "2021-11-14T17:37:39.095Z"
   },
   {
    "duration": 730,
    "start_time": "2021-11-14T17:37:39.107Z"
   },
   {
    "duration": 1190,
    "start_time": "2021-11-14T17:38:17.611Z"
   },
   {
    "duration": 1672,
    "start_time": "2021-11-14T17:38:18.803Z"
   },
   {
    "duration": 4,
    "start_time": "2021-11-14T17:38:20.477Z"
   },
   {
    "duration": 48,
    "start_time": "2021-11-14T17:38:20.483Z"
   },
   {
    "duration": 46,
    "start_time": "2021-11-14T17:38:20.532Z"
   },
   {
    "duration": 40,
    "start_time": "2021-11-14T17:38:20.580Z"
   },
   {
    "duration": 137,
    "start_time": "2021-11-14T17:38:20.622Z"
   },
   {
    "duration": 28,
    "start_time": "2021-11-14T17:38:20.761Z"
   },
   {
    "duration": 101,
    "start_time": "2021-11-14T17:38:20.791Z"
   },
   {
    "duration": 2,
    "start_time": "2021-11-14T17:38:20.894Z"
   },
   {
    "duration": 13,
    "start_time": "2021-11-14T17:38:20.898Z"
   },
   {
    "duration": 7,
    "start_time": "2021-11-14T17:38:20.912Z"
   },
   {
    "duration": 7,
    "start_time": "2021-11-14T17:38:20.920Z"
   },
   {
    "duration": 6,
    "start_time": "2021-11-14T17:38:20.945Z"
   },
   {
    "duration": 14,
    "start_time": "2021-11-14T17:38:20.953Z"
   },
   {
    "duration": 17,
    "start_time": "2021-11-14T17:38:20.969Z"
   },
   {
    "duration": 26,
    "start_time": "2021-11-14T17:38:20.987Z"
   },
   {
    "duration": 13,
    "start_time": "2021-11-14T17:38:21.015Z"
   },
   {
    "duration": 15,
    "start_time": "2021-11-14T17:38:21.030Z"
   },
   {
    "duration": 7,
    "start_time": "2021-11-14T17:38:21.046Z"
   },
   {
    "duration": 642,
    "start_time": "2021-11-14T17:38:21.055Z"
   },
   {
    "duration": 1174,
    "start_time": "2021-11-14T17:38:56.047Z"
   },
   {
    "duration": 1457,
    "start_time": "2021-11-14T17:38:57.223Z"
   },
   {
    "duration": 4,
    "start_time": "2021-11-14T17:38:58.682Z"
   },
   {
    "duration": 42,
    "start_time": "2021-11-14T17:38:58.688Z"
   },
   {
    "duration": 37,
    "start_time": "2021-11-14T17:38:58.732Z"
   },
   {
    "duration": 40,
    "start_time": "2021-11-14T17:38:58.771Z"
   },
   {
    "duration": 136,
    "start_time": "2021-11-14T17:38:58.813Z"
   },
   {
    "duration": 28,
    "start_time": "2021-11-14T17:38:58.951Z"
   },
   {
    "duration": 101,
    "start_time": "2021-11-14T17:38:58.981Z"
   },
   {
    "duration": 2,
    "start_time": "2021-11-14T17:38:59.084Z"
   },
   {
    "duration": 12,
    "start_time": "2021-11-14T17:38:59.088Z"
   },
   {
    "duration": 5,
    "start_time": "2021-11-14T17:38:59.102Z"
   },
   {
    "duration": 7,
    "start_time": "2021-11-14T17:38:59.109Z"
   },
   {
    "duration": 27,
    "start_time": "2021-11-14T17:38:59.118Z"
   },
   {
    "duration": 7,
    "start_time": "2021-11-14T17:38:59.146Z"
   },
   {
    "duration": 19,
    "start_time": "2021-11-14T17:38:59.155Z"
   },
   {
    "duration": 29,
    "start_time": "2021-11-14T17:38:59.176Z"
   },
   {
    "duration": 14,
    "start_time": "2021-11-14T17:38:59.207Z"
   },
   {
    "duration": 3,
    "start_time": "2021-11-14T17:38:59.222Z"
   },
   {
    "duration": 20,
    "start_time": "2021-11-14T17:38:59.227Z"
   },
   {
    "duration": 967,
    "start_time": "2021-11-14T17:38:59.249Z"
   },
   {
    "duration": 1155,
    "start_time": "2021-11-14T17:41:32.843Z"
   },
   {
    "duration": 1468,
    "start_time": "2021-11-14T17:41:34.000Z"
   },
   {
    "duration": 3,
    "start_time": "2021-11-14T17:41:35.470Z"
   },
   {
    "duration": 46,
    "start_time": "2021-11-14T17:41:35.475Z"
   },
   {
    "duration": 40,
    "start_time": "2021-11-14T17:41:35.522Z"
   },
   {
    "duration": 40,
    "start_time": "2021-11-14T17:41:35.563Z"
   },
   {
    "duration": 129,
    "start_time": "2021-11-14T17:41:35.604Z"
   },
   {
    "duration": 34,
    "start_time": "2021-11-14T17:41:35.735Z"
   },
   {
    "duration": 97,
    "start_time": "2021-11-14T17:41:35.771Z"
   },
   {
    "duration": 3,
    "start_time": "2021-11-14T17:41:35.870Z"
   },
   {
    "duration": 15,
    "start_time": "2021-11-14T17:41:35.874Z"
   },
   {
    "duration": 10,
    "start_time": "2021-11-14T17:41:35.891Z"
   },
   {
    "duration": 15,
    "start_time": "2021-11-14T17:41:35.902Z"
   },
   {
    "duration": 14,
    "start_time": "2021-11-14T17:41:35.919Z"
   },
   {
    "duration": 14,
    "start_time": "2021-11-14T17:41:35.935Z"
   },
   {
    "duration": 18,
    "start_time": "2021-11-14T17:41:35.950Z"
   },
   {
    "duration": 27,
    "start_time": "2021-11-14T17:41:35.970Z"
   },
   {
    "duration": 4,
    "start_time": "2021-11-14T17:41:35.999Z"
   },
   {
    "duration": 19,
    "start_time": "2021-11-14T17:41:36.005Z"
   },
   {
    "duration": 504,
    "start_time": "2021-11-14T17:41:36.025Z"
   },
   {
    "duration": 1386,
    "start_time": "2021-11-14T17:42:28.795Z"
   },
   {
    "duration": 1434,
    "start_time": "2021-11-14T17:42:30.184Z"
   },
   {
    "duration": 3,
    "start_time": "2021-11-14T17:42:31.621Z"
   },
   {
    "duration": 55,
    "start_time": "2021-11-14T17:42:31.626Z"
   },
   {
    "duration": 28,
    "start_time": "2021-11-14T17:42:31.683Z"
   },
   {
    "duration": 55,
    "start_time": "2021-11-14T17:42:31.713Z"
   },
   {
    "duration": 120,
    "start_time": "2021-11-14T17:42:31.770Z"
   },
   {
    "duration": 28,
    "start_time": "2021-11-14T17:42:31.891Z"
   },
   {
    "duration": 100,
    "start_time": "2021-11-14T17:42:31.922Z"
   },
   {
    "duration": 3,
    "start_time": "2021-11-14T17:42:32.024Z"
   },
   {
    "duration": 20,
    "start_time": "2021-11-14T17:42:32.028Z"
   },
   {
    "duration": 9,
    "start_time": "2021-11-14T17:42:32.050Z"
   },
   {
    "duration": 9,
    "start_time": "2021-11-14T17:42:32.060Z"
   },
   {
    "duration": 11,
    "start_time": "2021-11-14T17:42:32.071Z"
   },
   {
    "duration": 13,
    "start_time": "2021-11-14T17:42:32.084Z"
   },
   {
    "duration": 17,
    "start_time": "2021-11-14T17:42:32.099Z"
   },
   {
    "duration": 36,
    "start_time": "2021-11-14T17:42:32.118Z"
   },
   {
    "duration": 2027,
    "start_time": "2021-11-14T17:42:32.156Z"
   },
   {
    "duration": 1131,
    "start_time": "2021-11-14T17:43:10.882Z"
   },
   {
    "duration": 1429,
    "start_time": "2021-11-14T17:43:12.015Z"
   },
   {
    "duration": 4,
    "start_time": "2021-11-14T17:43:13.446Z"
   },
   {
    "duration": 65,
    "start_time": "2021-11-14T17:43:13.452Z"
   },
   {
    "duration": 30,
    "start_time": "2021-11-14T17:43:13.518Z"
   },
   {
    "duration": 40,
    "start_time": "2021-11-14T17:43:13.549Z"
   },
   {
    "duration": 121,
    "start_time": "2021-11-14T17:43:13.591Z"
   },
   {
    "duration": 31,
    "start_time": "2021-11-14T17:43:13.714Z"
   },
   {
    "duration": 84,
    "start_time": "2021-11-14T17:43:13.747Z"
   },
   {
    "duration": 12,
    "start_time": "2021-11-14T17:43:13.833Z"
   },
   {
    "duration": 20,
    "start_time": "2021-11-14T17:43:13.846Z"
   },
   {
    "duration": 6,
    "start_time": "2021-11-14T17:43:13.868Z"
   },
   {
    "duration": 6,
    "start_time": "2021-11-14T17:43:13.876Z"
   },
   {
    "duration": 8,
    "start_time": "2021-11-14T17:43:13.883Z"
   },
   {
    "duration": 12,
    "start_time": "2021-11-14T17:43:13.893Z"
   },
   {
    "duration": 15,
    "start_time": "2021-11-14T17:43:13.907Z"
   },
   {
    "duration": 34,
    "start_time": "2021-11-14T17:43:13.923Z"
   },
   {
    "duration": 1781,
    "start_time": "2021-11-14T17:43:13.958Z"
   },
   {
    "duration": 1353,
    "start_time": "2021-11-14T17:44:29.747Z"
   },
   {
    "duration": 1652,
    "start_time": "2021-11-14T17:44:31.102Z"
   },
   {
    "duration": 4,
    "start_time": "2021-11-14T17:44:32.757Z"
   },
   {
    "duration": 45,
    "start_time": "2021-11-14T17:44:32.763Z"
   },
   {
    "duration": 46,
    "start_time": "2021-11-14T17:44:32.809Z"
   },
   {
    "duration": 39,
    "start_time": "2021-11-14T17:44:32.856Z"
   },
   {
    "duration": 140,
    "start_time": "2021-11-14T17:44:32.897Z"
   },
   {
    "duration": 44,
    "start_time": "2021-11-14T17:44:33.045Z"
   },
   {
    "duration": 139,
    "start_time": "2021-11-14T17:44:33.091Z"
   },
   {
    "duration": 3,
    "start_time": "2021-11-14T17:44:33.232Z"
   },
   {
    "duration": 17,
    "start_time": "2021-11-14T17:44:33.236Z"
   },
   {
    "duration": 7,
    "start_time": "2021-11-14T17:44:33.256Z"
   },
   {
    "duration": 8,
    "start_time": "2021-11-14T17:44:33.266Z"
   },
   {
    "duration": 7,
    "start_time": "2021-11-14T17:44:33.276Z"
   },
   {
    "duration": 5,
    "start_time": "2021-11-14T17:44:33.285Z"
   },
   {
    "duration": 17,
    "start_time": "2021-11-14T17:44:33.292Z"
   },
   {
    "duration": 72,
    "start_time": "2021-11-14T17:44:33.310Z"
   },
   {
    "duration": 14,
    "start_time": "2021-11-14T17:44:33.384Z"
   },
   {
    "duration": 1737,
    "start_time": "2021-11-14T17:44:33.400Z"
   },
   {
    "duration": 1816,
    "start_time": "2021-11-15T12:17:56.747Z"
   },
   {
    "duration": 3882,
    "start_time": "2021-11-15T12:17:58.565Z"
   },
   {
    "duration": 10,
    "start_time": "2021-11-15T12:18:02.452Z"
   },
   {
    "duration": 414,
    "start_time": "2021-11-15T12:18:02.465Z"
   },
   {
    "duration": 76,
    "start_time": "2021-11-15T12:18:02.883Z"
   },
   {
    "duration": 64,
    "start_time": "2021-11-15T12:18:02.961Z"
   },
   {
    "duration": 190,
    "start_time": "2021-11-15T12:18:03.027Z"
   },
   {
    "duration": 50,
    "start_time": "2021-11-15T12:18:03.221Z"
   },
   {
    "duration": 164,
    "start_time": "2021-11-15T12:18:03.274Z"
   },
   {
    "duration": 4,
    "start_time": "2021-11-15T12:18:03.440Z"
   },
   {
    "duration": 15,
    "start_time": "2021-11-15T12:18:03.446Z"
   },
   {
    "duration": 8,
    "start_time": "2021-11-15T12:18:03.464Z"
   },
   {
    "duration": 8,
    "start_time": "2021-11-15T12:18:03.474Z"
   },
   {
    "duration": 10,
    "start_time": "2021-11-15T12:18:03.484Z"
   },
   {
    "duration": 12,
    "start_time": "2021-11-15T12:18:03.496Z"
   },
   {
    "duration": 13,
    "start_time": "2021-11-15T12:18:03.510Z"
   },
   {
    "duration": 46,
    "start_time": "2021-11-15T12:18:03.526Z"
   },
   {
    "duration": 17,
    "start_time": "2021-11-15T12:18:03.574Z"
   },
   {
    "duration": 1207,
    "start_time": "2021-11-15T12:18:03.593Z"
   },
   {
    "duration": -2530,
    "start_time": "2021-11-15T12:18:07.333Z"
   },
   {
    "duration": 2278,
    "start_time": "2021-11-15T12:18:38.991Z"
   },
   {
    "duration": 3559,
    "start_time": "2021-11-15T12:18:41.272Z"
   },
   {
    "duration": 5,
    "start_time": "2021-11-15T12:18:44.834Z"
   },
   {
    "duration": 78,
    "start_time": "2021-11-15T12:18:44.842Z"
   },
   {
    "duration": 63,
    "start_time": "2021-11-15T12:18:44.922Z"
   },
   {
    "duration": 92,
    "start_time": "2021-11-15T12:18:44.989Z"
   },
   {
    "duration": 200,
    "start_time": "2021-11-15T12:18:45.083Z"
   },
   {
    "duration": 46,
    "start_time": "2021-11-15T12:18:45.285Z"
   },
   {
    "duration": 182,
    "start_time": "2021-11-15T12:18:45.334Z"
   },
   {
    "duration": 4,
    "start_time": "2021-11-15T12:18:45.519Z"
   },
   {
    "duration": 20,
    "start_time": "2021-11-15T12:18:45.525Z"
   },
   {
    "duration": 17,
    "start_time": "2021-11-15T12:18:45.548Z"
   },
   {
    "duration": 9,
    "start_time": "2021-11-15T12:18:45.567Z"
   },
   {
    "duration": 15,
    "start_time": "2021-11-15T12:18:45.578Z"
   },
   {
    "duration": 11,
    "start_time": "2021-11-15T12:18:45.595Z"
   },
   {
    "duration": 15,
    "start_time": "2021-11-15T12:18:45.608Z"
   },
   {
    "duration": 96,
    "start_time": "2021-11-15T12:18:45.626Z"
   },
   {
    "duration": 16,
    "start_time": "2021-11-15T12:18:45.725Z"
   },
   {
    "duration": 1624,
    "start_time": "2021-11-15T12:18:45.760Z"
   },
   {
    "duration": -1684,
    "start_time": "2021-11-15T12:18:49.071Z"
   },
   {
    "duration": 1985,
    "start_time": "2021-11-15T12:20:53.406Z"
   },
   {
    "duration": 4933,
    "start_time": "2021-11-15T12:20:55.395Z"
   },
   {
    "duration": 5,
    "start_time": "2021-11-15T12:21:00.332Z"
   },
   {
    "duration": 85,
    "start_time": "2021-11-15T12:21:00.340Z"
   },
   {
    "duration": 57,
    "start_time": "2021-11-15T12:21:00.427Z"
   },
   {
    "duration": 85,
    "start_time": "2021-11-15T12:21:00.486Z"
   },
   {
    "duration": 200,
    "start_time": "2021-11-15T12:21:00.574Z"
   },
   {
    "duration": 48,
    "start_time": "2021-11-15T12:21:00.777Z"
   },
   {
    "duration": 189,
    "start_time": "2021-11-15T12:21:00.829Z"
   },
   {
    "duration": 4,
    "start_time": "2021-11-15T12:21:01.021Z"
   },
   {
    "duration": 47,
    "start_time": "2021-11-15T12:21:01.027Z"
   },
   {
    "duration": 22,
    "start_time": "2021-11-15T12:21:01.076Z"
   },
   {
    "duration": 30,
    "start_time": "2021-11-15T12:21:01.100Z"
   },
   {
    "duration": 37,
    "start_time": "2021-11-15T12:21:01.133Z"
   },
   {
    "duration": 126,
    "start_time": "2021-11-15T12:21:01.172Z"
   },
   {
    "duration": 191,
    "start_time": "2021-11-15T12:21:01.300Z"
   },
   {
    "duration": 60,
    "start_time": "2021-11-15T12:21:01.494Z"
   },
   {
    "duration": 12,
    "start_time": "2021-11-15T12:21:01.556Z"
   },
   {
    "duration": 1602,
    "start_time": "2021-11-15T12:21:01.571Z"
   },
   {
    "duration": 3372,
    "start_time": "2021-11-15T12:21:03.177Z"
   },
   {
    "duration": 2835,
    "start_time": "2021-11-15T12:23:41.545Z"
   },
   {
    "duration": 4907,
    "start_time": "2021-11-15T12:23:44.384Z"
   },
   {
    "duration": 6,
    "start_time": "2021-11-15T12:23:49.294Z"
   },
   {
    "duration": 83,
    "start_time": "2021-11-15T12:23:49.302Z"
   },
   {
    "duration": 45,
    "start_time": "2021-11-15T12:23:49.388Z"
   },
   {
    "duration": 87,
    "start_time": "2021-11-15T12:23:49.435Z"
   },
   {
    "duration": 229,
    "start_time": "2021-11-15T12:23:49.525Z"
   },
   {
    "duration": 50,
    "start_time": "2021-11-15T12:23:49.757Z"
   },
   {
    "duration": 194,
    "start_time": "2021-11-15T12:23:49.813Z"
   },
   {
    "duration": 5,
    "start_time": "2021-11-15T12:23:50.011Z"
   },
   {
    "duration": 14,
    "start_time": "2021-11-15T12:23:50.019Z"
   },
   {
    "duration": 31,
    "start_time": "2021-11-15T12:23:50.035Z"
   },
   {
    "duration": 11,
    "start_time": "2021-11-15T12:23:50.069Z"
   },
   {
    "duration": 11,
    "start_time": "2021-11-15T12:23:50.097Z"
   },
   {
    "duration": 7,
    "start_time": "2021-11-15T12:23:50.111Z"
   },
   {
    "duration": 47,
    "start_time": "2021-11-15T12:23:50.121Z"
   },
   {
    "duration": 48,
    "start_time": "2021-11-15T12:23:50.170Z"
   },
   {
    "duration": 38,
    "start_time": "2021-11-15T12:23:50.221Z"
   },
   {
    "duration": 1052,
    "start_time": "2021-11-15T12:23:50.263Z"
   },
   {
    "duration": -1545,
    "start_time": "2021-11-15T12:23:52.863Z"
   },
   {
    "duration": 2808,
    "start_time": "2021-11-15T12:24:22.569Z"
   },
   {
    "duration": 155447,
    "start_time": "2021-11-15T12:24:25.381Z"
   },
   {
    "duration": -1668,
    "start_time": "2021-11-15T12:27:02.500Z"
   },
   {
    "duration": -1667,
    "start_time": "2021-11-15T12:27:02.501Z"
   },
   {
    "duration": -1667,
    "start_time": "2021-11-15T12:27:02.502Z"
   },
   {
    "duration": -1666,
    "start_time": "2021-11-15T12:27:02.503Z"
   },
   {
    "duration": -1667,
    "start_time": "2021-11-15T12:27:02.505Z"
   },
   {
    "duration": -1667,
    "start_time": "2021-11-15T12:27:02.507Z"
   },
   {
    "duration": -1667,
    "start_time": "2021-11-15T12:27:02.508Z"
   },
   {
    "duration": -1666,
    "start_time": "2021-11-15T12:27:02.509Z"
   },
   {
    "duration": -1666,
    "start_time": "2021-11-15T12:27:02.510Z"
   },
   {
    "duration": -1665,
    "start_time": "2021-11-15T12:27:02.511Z"
   },
   {
    "duration": -1665,
    "start_time": "2021-11-15T12:27:02.512Z"
   },
   {
    "duration": -1664,
    "start_time": "2021-11-15T12:27:02.513Z"
   },
   {
    "duration": -1663,
    "start_time": "2021-11-15T12:27:02.514Z"
   },
   {
    "duration": -1771,
    "start_time": "2021-11-15T12:27:02.623Z"
   },
   {
    "duration": -1768,
    "start_time": "2021-11-15T12:27:02.624Z"
   },
   {
    "duration": -1768,
    "start_time": "2021-11-15T12:27:02.625Z"
   },
   {
    "duration": -1767,
    "start_time": "2021-11-15T12:27:02.626Z"
   },
   {
    "duration": -1766,
    "start_time": "2021-11-15T12:27:02.627Z"
   },
   {
    "duration": 2006,
    "start_time": "2021-11-15T12:27:10.188Z"
   },
   {
    "duration": 3838,
    "start_time": "2021-11-15T12:27:12.197Z"
   },
   {
    "duration": 9,
    "start_time": "2021-11-15T12:27:16.038Z"
   },
   {
    "duration": 76,
    "start_time": "2021-11-15T12:27:16.059Z"
   },
   {
    "duration": 49,
    "start_time": "2021-11-15T12:27:16.159Z"
   },
   {
    "duration": 116,
    "start_time": "2021-11-15T12:27:16.210Z"
   },
   {
    "duration": 194,
    "start_time": "2021-11-15T12:27:16.328Z"
   },
   {
    "duration": 67,
    "start_time": "2021-11-15T12:27:16.525Z"
   },
   {
    "duration": 183,
    "start_time": "2021-11-15T12:27:16.598Z"
   },
   {
    "duration": 4,
    "start_time": "2021-11-15T12:27:16.784Z"
   },
   {
    "duration": 14,
    "start_time": "2021-11-15T12:27:16.791Z"
   },
   {
    "duration": 8,
    "start_time": "2021-11-15T12:27:16.808Z"
   },
   {
    "duration": 9,
    "start_time": "2021-11-15T12:27:16.818Z"
   },
   {
    "duration": 10,
    "start_time": "2021-11-15T12:27:16.860Z"
   },
   {
    "duration": 20,
    "start_time": "2021-11-15T12:27:16.872Z"
   },
   {
    "duration": 22,
    "start_time": "2021-11-15T12:27:16.895Z"
   },
   {
    "duration": 95,
    "start_time": "2021-11-15T12:27:16.920Z"
   },
   {
    "duration": 15,
    "start_time": "2021-11-15T12:27:17.018Z"
   },
   {
    "duration": 1165,
    "start_time": "2021-11-15T12:27:17.036Z"
   },
   {
    "duration": -1655,
    "start_time": "2021-11-15T12:27:19.859Z"
   },
   {
    "duration": 2054,
    "start_time": "2021-11-15T12:27:51.224Z"
   },
   {
    "duration": 10977,
    "start_time": "2021-11-15T12:27:53.281Z"
   },
   {
    "duration": -1664,
    "start_time": "2021-11-15T12:28:05.927Z"
   },
   {
    "duration": -1665,
    "start_time": "2021-11-15T12:28:05.929Z"
   },
   {
    "duration": -1664,
    "start_time": "2021-11-15T12:28:05.931Z"
   },
   {
    "duration": -1663,
    "start_time": "2021-11-15T12:28:05.932Z"
   },
   {
    "duration": -1661,
    "start_time": "2021-11-15T12:28:05.933Z"
   },
   {
    "duration": -1660,
    "start_time": "2021-11-15T12:28:05.934Z"
   },
   {
    "duration": -1660,
    "start_time": "2021-11-15T12:28:05.936Z"
   },
   {
    "duration": -1659,
    "start_time": "2021-11-15T12:28:05.937Z"
   },
   {
    "duration": -1658,
    "start_time": "2021-11-15T12:28:05.938Z"
   },
   {
    "duration": -1657,
    "start_time": "2021-11-15T12:28:05.939Z"
   },
   {
    "duration": -1656,
    "start_time": "2021-11-15T12:28:05.940Z"
   },
   {
    "duration": -1655,
    "start_time": "2021-11-15T12:28:05.941Z"
   },
   {
    "duration": -1760,
    "start_time": "2021-11-15T12:28:06.048Z"
   },
   {
    "duration": -1759,
    "start_time": "2021-11-15T12:28:06.050Z"
   },
   {
    "duration": -1758,
    "start_time": "2021-11-15T12:28:06.051Z"
   },
   {
    "duration": -1757,
    "start_time": "2021-11-15T12:28:06.052Z"
   },
   {
    "duration": -1755,
    "start_time": "2021-11-15T12:28:06.053Z"
   },
   {
    "duration": -1755,
    "start_time": "2021-11-15T12:28:06.055Z"
   },
   {
    "duration": 3036,
    "start_time": "2021-11-15T12:28:13.928Z"
   },
   {
    "duration": 4659,
    "start_time": "2021-11-15T12:28:16.969Z"
   },
   {
    "duration": 7,
    "start_time": "2021-11-15T12:28:21.632Z"
   },
   {
    "duration": 76,
    "start_time": "2021-11-15T12:28:21.641Z"
   },
   {
    "duration": 72,
    "start_time": "2021-11-15T12:28:21.719Z"
   },
   {
    "duration": 89,
    "start_time": "2021-11-15T12:28:21.793Z"
   },
   {
    "duration": 200,
    "start_time": "2021-11-15T12:28:21.885Z"
   },
   {
    "duration": 47,
    "start_time": "2021-11-15T12:28:22.089Z"
   },
   {
    "duration": 191,
    "start_time": "2021-11-15T12:28:22.139Z"
   },
   {
    "duration": 3,
    "start_time": "2021-11-15T12:28:22.333Z"
   },
   {
    "duration": 29,
    "start_time": "2021-11-15T12:28:22.339Z"
   },
   {
    "duration": 7,
    "start_time": "2021-11-15T12:28:22.371Z"
   },
   {
    "duration": 15,
    "start_time": "2021-11-15T12:28:22.381Z"
   },
   {
    "duration": 11,
    "start_time": "2021-11-15T12:28:22.398Z"
   },
   {
    "duration": 8,
    "start_time": "2021-11-15T12:28:22.411Z"
   },
   {
    "duration": 52,
    "start_time": "2021-11-15T12:28:22.421Z"
   },
   {
    "duration": 42,
    "start_time": "2021-11-15T12:28:22.475Z"
   },
   {
    "duration": 12,
    "start_time": "2021-11-15T12:28:22.520Z"
   },
   {
    "duration": 1214,
    "start_time": "2021-11-15T12:28:22.564Z"
   },
   {
    "duration": -1655,
    "start_time": "2021-11-15T12:28:25.436Z"
   },
   {
    "duration": 2023,
    "start_time": "2021-11-15T12:29:27.642Z"
   },
   {
    "duration": 5520,
    "start_time": "2021-11-15T12:29:29.669Z"
   },
   {
    "duration": 6,
    "start_time": "2021-11-15T12:29:35.193Z"
   },
   {
    "duration": 89,
    "start_time": "2021-11-15T12:29:35.202Z"
   },
   {
    "duration": 66,
    "start_time": "2021-11-15T12:29:35.295Z"
   },
   {
    "duration": 68,
    "start_time": "2021-11-15T12:29:35.364Z"
   },
   {
    "duration": 213,
    "start_time": "2021-11-15T12:29:35.434Z"
   },
   {
    "duration": 52,
    "start_time": "2021-11-15T12:29:35.649Z"
   },
   {
    "duration": 182,
    "start_time": "2021-11-15T12:29:35.705Z"
   },
   {
    "duration": 4,
    "start_time": "2021-11-15T12:29:35.890Z"
   },
   {
    "duration": 114,
    "start_time": "2021-11-15T12:29:35.896Z"
   },
   {
    "duration": 9,
    "start_time": "2021-11-15T12:29:36.012Z"
   },
   {
    "duration": 10,
    "start_time": "2021-11-15T12:29:36.024Z"
   },
   {
    "duration": 10,
    "start_time": "2021-11-15T12:29:36.036Z"
   },
   {
    "duration": 11,
    "start_time": "2021-11-15T12:29:36.049Z"
   },
   {
    "duration": 17,
    "start_time": "2021-11-15T12:29:36.063Z"
   },
   {
    "duration": 44,
    "start_time": "2021-11-15T12:29:36.083Z"
   },
   {
    "duration": 33,
    "start_time": "2021-11-15T12:29:36.130Z"
   },
   {
    "duration": 1381,
    "start_time": "2021-11-15T12:29:36.165Z"
   },
   {
    "duration": -1654,
    "start_time": "2021-11-15T12:29:39.203Z"
   },
   {
    "duration": 1948,
    "start_time": "2021-11-15T12:34:35.166Z"
   },
   {
    "duration": 3751,
    "start_time": "2021-11-15T12:34:37.116Z"
   },
   {
    "duration": 6,
    "start_time": "2021-11-15T12:34:40.869Z"
   },
   {
    "duration": 89,
    "start_time": "2021-11-15T12:34:40.878Z"
   },
   {
    "duration": 90,
    "start_time": "2021-11-15T12:34:40.970Z"
   },
   {
    "duration": 107,
    "start_time": "2021-11-15T12:34:41.063Z"
   },
   {
    "duration": 213,
    "start_time": "2021-11-15T12:34:41.173Z"
   },
   {
    "duration": 46,
    "start_time": "2021-11-15T12:34:41.388Z"
   },
   {
    "duration": 175,
    "start_time": "2021-11-15T12:34:41.438Z"
   },
   {
    "duration": 4,
    "start_time": "2021-11-15T12:34:41.615Z"
   },
   {
    "duration": 32,
    "start_time": "2021-11-15T12:34:41.621Z"
   },
   {
    "duration": 8,
    "start_time": "2021-11-15T12:34:41.656Z"
   },
   {
    "duration": 9,
    "start_time": "2021-11-15T12:34:41.667Z"
   },
   {
    "duration": 12,
    "start_time": "2021-11-15T12:34:41.678Z"
   },
   {
    "duration": 10,
    "start_time": "2021-11-15T12:34:41.693Z"
   },
   {
    "duration": 17,
    "start_time": "2021-11-15T12:34:41.705Z"
   },
   {
    "duration": 75,
    "start_time": "2021-11-15T12:34:41.724Z"
   },
   {
    "duration": 13,
    "start_time": "2021-11-15T12:34:41.801Z"
   },
   {
    "duration": 557,
    "start_time": "2021-11-15T12:34:41.816Z"
   },
   {
    "duration": -1549,
    "start_time": "2021-11-15T12:34:43.926Z"
   },
   {
    "duration": 2030,
    "start_time": "2021-11-15T12:35:03.849Z"
   },
   {
    "duration": 2964,
    "start_time": "2021-11-15T12:35:05.882Z"
   },
   {
    "duration": 5,
    "start_time": "2021-11-15T12:35:08.849Z"
   },
   {
    "duration": 69,
    "start_time": "2021-11-15T12:35:08.860Z"
   },
   {
    "duration": 70,
    "start_time": "2021-11-15T12:35:08.932Z"
   },
   {
    "duration": 87,
    "start_time": "2021-11-15T12:35:09.004Z"
   },
   {
    "duration": 197,
    "start_time": "2021-11-15T12:35:09.095Z"
   },
   {
    "duration": 47,
    "start_time": "2021-11-15T12:35:09.294Z"
   },
   {
    "duration": 166,
    "start_time": "2021-11-15T12:35:09.360Z"
   },
   {
    "duration": 4,
    "start_time": "2021-11-15T12:35:09.529Z"
   },
   {
    "duration": 24,
    "start_time": "2021-11-15T12:35:09.535Z"
   },
   {
    "duration": 7,
    "start_time": "2021-11-15T12:35:09.562Z"
   },
   {
    "duration": 13,
    "start_time": "2021-11-15T12:35:09.571Z"
   },
   {
    "duration": 17,
    "start_time": "2021-11-15T12:35:09.587Z"
   },
   {
    "duration": 10,
    "start_time": "2021-11-15T12:35:09.607Z"
   },
   {
    "duration": 15,
    "start_time": "2021-11-15T12:35:09.619Z"
   },
   {
    "duration": 57,
    "start_time": "2021-11-15T12:35:09.637Z"
   },
   {
    "duration": 12,
    "start_time": "2021-11-15T12:35:09.696Z"
   },
   {
    "duration": 615,
    "start_time": "2021-11-15T12:35:09.710Z"
   },
   {
    "duration": -1548,
    "start_time": "2021-11-15T12:35:11.876Z"
   },
   {
    "duration": 1975,
    "start_time": "2021-11-15T12:38:03.451Z"
   },
   {
    "duration": 4755,
    "start_time": "2021-11-15T12:38:05.429Z"
   },
   {
    "duration": 5,
    "start_time": "2021-11-15T12:38:10.187Z"
   },
   {
    "duration": 99,
    "start_time": "2021-11-15T12:38:10.194Z"
   },
   {
    "duration": 81,
    "start_time": "2021-11-15T12:38:10.295Z"
   },
   {
    "duration": 85,
    "start_time": "2021-11-15T12:38:10.380Z"
   },
   {
    "duration": 209,
    "start_time": "2021-11-15T12:38:10.467Z"
   },
   {
    "duration": 52,
    "start_time": "2021-11-15T12:38:10.679Z"
   },
   {
    "duration": 225,
    "start_time": "2021-11-15T12:38:10.735Z"
   },
   {
    "duration": 6,
    "start_time": "2021-11-15T12:38:10.963Z"
   },
   {
    "duration": 20,
    "start_time": "2021-11-15T12:38:10.972Z"
   },
   {
    "duration": 10,
    "start_time": "2021-11-15T12:38:10.995Z"
   },
   {
    "duration": 18,
    "start_time": "2021-11-15T12:38:11.009Z"
   },
   {
    "duration": 37,
    "start_time": "2021-11-15T12:38:11.031Z"
   },
   {
    "duration": 18,
    "start_time": "2021-11-15T12:38:11.071Z"
   },
   {
    "duration": 17,
    "start_time": "2021-11-15T12:38:11.091Z"
   },
   {
    "duration": 72,
    "start_time": "2021-11-15T12:38:11.110Z"
   },
   {
    "duration": 11,
    "start_time": "2021-11-15T12:38:11.185Z"
   },
   {
    "duration": 1373,
    "start_time": "2021-11-15T12:38:11.198Z"
   },
   {
    "duration": 3557,
    "start_time": "2021-11-15T12:38:12.574Z"
   },
   {
    "duration": 1983,
    "start_time": "2021-11-15T12:39:53.943Z"
   },
   {
    "duration": 3103,
    "start_time": "2021-11-15T12:39:55.929Z"
   },
   {
    "duration": 6,
    "start_time": "2021-11-15T12:39:59.035Z"
   },
   {
    "duration": 81,
    "start_time": "2021-11-15T12:39:59.044Z"
   },
   {
    "duration": 76,
    "start_time": "2021-11-15T12:39:59.128Z"
   },
   {
    "duration": 79,
    "start_time": "2021-11-15T12:39:59.206Z"
   },
   {
    "duration": 194,
    "start_time": "2021-11-15T12:39:59.287Z"
   },
   {
    "duration": 45,
    "start_time": "2021-11-15T12:39:59.485Z"
   },
   {
    "duration": 178,
    "start_time": "2021-11-15T12:39:59.532Z"
   },
   {
    "duration": 4,
    "start_time": "2021-11-15T12:39:59.712Z"
   },
   {
    "duration": 21,
    "start_time": "2021-11-15T12:39:59.719Z"
   },
   {
    "duration": 17,
    "start_time": "2021-11-15T12:39:59.742Z"
   },
   {
    "duration": 8,
    "start_time": "2021-11-15T12:39:59.761Z"
   },
   {
    "duration": 11,
    "start_time": "2021-11-15T12:39:59.771Z"
   },
   {
    "duration": 9,
    "start_time": "2021-11-15T12:39:59.785Z"
   },
   {
    "duration": 17,
    "start_time": "2021-11-15T12:39:59.796Z"
   },
   {
    "duration": 70,
    "start_time": "2021-11-15T12:39:59.816Z"
   },
   {
    "duration": 11,
    "start_time": "2021-11-15T12:39:59.888Z"
   },
   {
    "duration": 1301,
    "start_time": "2021-11-15T12:39:59.902Z"
   },
   {
    "duration": -1541,
    "start_time": "2021-11-15T12:40:02.747Z"
   },
   {
    "duration": 1969,
    "start_time": "2021-11-15T12:42:33.427Z"
   },
   {
    "duration": 8446,
    "start_time": "2021-11-15T12:42:35.399Z"
   },
   {
    "duration": 12,
    "start_time": "2021-11-15T12:42:43.848Z"
   },
   {
    "duration": 75,
    "start_time": "2021-11-15T12:42:43.862Z"
   },
   {
    "duration": 68,
    "start_time": "2021-11-15T12:42:43.940Z"
   },
   {
    "duration": 98,
    "start_time": "2021-11-15T12:42:44.012Z"
   },
   {
    "duration": 193,
    "start_time": "2021-11-15T12:42:44.113Z"
   },
   {
    "duration": 59,
    "start_time": "2021-11-15T12:42:44.309Z"
   },
   {
    "duration": 164,
    "start_time": "2021-11-15T12:42:44.371Z"
   },
   {
    "duration": 3,
    "start_time": "2021-11-15T12:42:44.538Z"
   },
   {
    "duration": 12,
    "start_time": "2021-11-15T12:42:44.559Z"
   },
   {
    "duration": 8,
    "start_time": "2021-11-15T12:42:44.573Z"
   },
   {
    "duration": 8,
    "start_time": "2021-11-15T12:42:44.583Z"
   },
   {
    "duration": 8,
    "start_time": "2021-11-15T12:42:44.594Z"
   },
   {
    "duration": 13,
    "start_time": "2021-11-15T12:42:44.605Z"
   },
   {
    "duration": 43,
    "start_time": "2021-11-15T12:42:44.620Z"
   },
   {
    "duration": 41,
    "start_time": "2021-11-15T12:42:44.665Z"
   },
   {
    "duration": 11,
    "start_time": "2021-11-15T12:42:44.709Z"
   },
   {
    "duration": 1608,
    "start_time": "2021-11-15T12:42:44.722Z"
   },
   {
    "duration": 2181,
    "start_time": "2021-11-15T12:42:59.275Z"
   },
   {
    "duration": 5256,
    "start_time": "2021-11-15T12:43:01.459Z"
   },
   {
    "duration": 5,
    "start_time": "2021-11-15T12:43:06.718Z"
   },
   {
    "duration": 90,
    "start_time": "2021-11-15T12:43:06.726Z"
   },
   {
    "duration": 65,
    "start_time": "2021-11-15T12:43:06.818Z"
   },
   {
    "duration": 83,
    "start_time": "2021-11-15T12:43:06.886Z"
   },
   {
    "duration": 202,
    "start_time": "2021-11-15T12:43:06.972Z"
   },
   {
    "duration": 47,
    "start_time": "2021-11-15T12:43:07.179Z"
   },
   {
    "duration": 189,
    "start_time": "2021-11-15T12:43:07.230Z"
   },
   {
    "duration": 4,
    "start_time": "2021-11-15T12:43:07.421Z"
   },
   {
    "duration": 15,
    "start_time": "2021-11-15T12:43:07.428Z"
   },
   {
    "duration": 19,
    "start_time": "2021-11-15T12:43:07.445Z"
   },
   {
    "duration": 21,
    "start_time": "2021-11-15T12:43:07.467Z"
   },
   {
    "duration": 13,
    "start_time": "2021-11-15T12:43:07.491Z"
   },
   {
    "duration": 8,
    "start_time": "2021-11-15T12:43:07.507Z"
   },
   {
    "duration": 48,
    "start_time": "2021-11-15T12:43:07.518Z"
   },
   {
    "duration": 50,
    "start_time": "2021-11-15T12:43:07.569Z"
   },
   {
    "duration": 14,
    "start_time": "2021-11-15T12:43:07.623Z"
   },
   {
    "duration": 1085,
    "start_time": "2021-11-15T12:43:07.640Z"
   },
   {
    "duration": 2607,
    "start_time": "2021-11-15T12:52:16.416Z"
   },
   {
    "duration": 8351,
    "start_time": "2021-11-15T12:52:19.026Z"
   },
   {
    "duration": 5,
    "start_time": "2021-11-15T12:52:27.380Z"
   },
   {
    "duration": 81,
    "start_time": "2021-11-15T12:52:27.387Z"
   },
   {
    "duration": 47,
    "start_time": "2021-11-15T12:52:27.471Z"
   },
   {
    "duration": 93,
    "start_time": "2021-11-15T12:52:27.521Z"
   },
   {
    "duration": 190,
    "start_time": "2021-11-15T12:52:27.617Z"
   },
   {
    "duration": 58,
    "start_time": "2021-11-15T12:52:27.811Z"
   },
   {
    "duration": 168,
    "start_time": "2021-11-15T12:52:27.871Z"
   },
   {
    "duration": 3,
    "start_time": "2021-11-15T12:52:28.041Z"
   },
   {
    "duration": 21,
    "start_time": "2021-11-15T12:52:28.047Z"
   },
   {
    "duration": 8,
    "start_time": "2021-11-15T12:52:28.070Z"
   },
   {
    "duration": 8,
    "start_time": "2021-11-15T12:52:28.081Z"
   },
   {
    "duration": 10,
    "start_time": "2021-11-15T12:52:28.091Z"
   },
   {
    "duration": 11,
    "start_time": "2021-11-15T12:52:28.103Z"
   },
   {
    "duration": 46,
    "start_time": "2021-11-15T12:52:28.117Z"
   },
   {
    "duration": 42,
    "start_time": "2021-11-15T12:52:28.165Z"
   },
   {
    "duration": 11,
    "start_time": "2021-11-15T12:52:28.210Z"
   },
   {
    "duration": 734,
    "start_time": "2021-11-15T12:52:28.224Z"
   },
   {
    "duration": 6,
    "start_time": "2021-11-15T12:53:17.025Z"
   },
   {
    "duration": 5,
    "start_time": "2021-11-15T12:53:35.136Z"
   },
   {
    "duration": 6,
    "start_time": "2021-11-15T12:53:36.451Z"
   },
   {
    "duration": 5,
    "start_time": "2021-11-15T12:53:38.092Z"
   },
   {
    "duration": 1893,
    "start_time": "2021-11-15T12:53:48.309Z"
   },
   {
    "duration": 3767,
    "start_time": "2021-11-15T12:53:50.205Z"
   },
   {
    "duration": 6,
    "start_time": "2021-11-15T12:53:53.975Z"
   },
   {
    "duration": 85,
    "start_time": "2021-11-15T12:53:53.984Z"
   },
   {
    "duration": 47,
    "start_time": "2021-11-15T12:53:54.071Z"
   },
   {
    "duration": 91,
    "start_time": "2021-11-15T12:53:54.120Z"
   },
   {
    "duration": 193,
    "start_time": "2021-11-15T12:53:54.213Z"
   },
   {
    "duration": 55,
    "start_time": "2021-11-15T12:53:54.409Z"
   },
   {
    "duration": 168,
    "start_time": "2021-11-15T12:53:54.468Z"
   },
   {
    "duration": 4,
    "start_time": "2021-11-15T12:53:54.639Z"
   },
   {
    "duration": 25,
    "start_time": "2021-11-15T12:53:54.645Z"
   },
   {
    "duration": 8,
    "start_time": "2021-11-15T12:53:54.672Z"
   },
   {
    "duration": 12,
    "start_time": "2021-11-15T12:53:54.682Z"
   },
   {
    "duration": 10,
    "start_time": "2021-11-15T12:53:54.696Z"
   },
   {
    "duration": 17,
    "start_time": "2021-11-15T12:53:54.708Z"
   },
   {
    "duration": 40,
    "start_time": "2021-11-15T12:53:54.727Z"
   },
   {
    "duration": 41,
    "start_time": "2021-11-15T12:53:54.769Z"
   },
   {
    "duration": 12,
    "start_time": "2021-11-15T12:53:54.812Z"
   },
   {
    "duration": 4,
    "start_time": "2021-11-15T12:53:54.827Z"
   },
   {
    "duration": 30,
    "start_time": "2021-11-15T12:53:54.833Z"
   },
   {
    "duration": 8,
    "start_time": "2021-11-15T12:53:54.866Z"
   },
   {
    "duration": 760,
    "start_time": "2021-11-15T12:53:54.877Z"
   },
   {
    "duration": 1937,
    "start_time": "2021-11-15T12:56:56.731Z"
   },
   {
    "duration": 6483,
    "start_time": "2021-11-15T12:56:58.671Z"
   },
   {
    "duration": 5,
    "start_time": "2021-11-15T12:57:05.159Z"
   },
   {
    "duration": 74,
    "start_time": "2021-11-15T12:57:05.167Z"
   },
   {
    "duration": 61,
    "start_time": "2021-11-15T12:57:05.243Z"
   },
   {
    "duration": 89,
    "start_time": "2021-11-15T12:57:05.307Z"
   },
   {
    "duration": 199,
    "start_time": "2021-11-15T12:57:05.399Z"
   },
   {
    "duration": 61,
    "start_time": "2021-11-15T12:57:05.601Z"
   },
   {
    "duration": 172,
    "start_time": "2021-11-15T12:57:05.666Z"
   },
   {
    "duration": 5,
    "start_time": "2021-11-15T12:57:05.842Z"
   },
   {
    "duration": 14,
    "start_time": "2021-11-15T12:57:05.860Z"
   },
   {
    "duration": 10,
    "start_time": "2021-11-15T12:57:05.877Z"
   },
   {
    "duration": 11,
    "start_time": "2021-11-15T12:57:05.890Z"
   },
   {
    "duration": 10,
    "start_time": "2021-11-15T12:57:05.903Z"
   },
   {
    "duration": 46,
    "start_time": "2021-11-15T12:57:05.916Z"
   },
   {
    "duration": 20,
    "start_time": "2021-11-15T12:57:05.964Z"
   },
   {
    "duration": 47,
    "start_time": "2021-11-15T12:57:05.987Z"
   },
   {
    "duration": 35,
    "start_time": "2021-11-15T12:57:06.036Z"
   },
   {
    "duration": 7,
    "start_time": "2021-11-15T12:57:06.074Z"
   },
   {
    "duration": 7,
    "start_time": "2021-11-15T12:57:06.084Z"
   },
   {
    "duration": 16,
    "start_time": "2021-11-15T12:57:06.094Z"
   },
   {
    "duration": 2878,
    "start_time": "2021-11-15T12:57:06.113Z"
   },
   {
    "duration": 1905,
    "start_time": "2021-11-15T13:05:01.503Z"
   },
   {
    "duration": 3754,
    "start_time": "2021-11-15T13:05:03.411Z"
   },
   {
    "duration": 5,
    "start_time": "2021-11-15T13:05:07.170Z"
   },
   {
    "duration": 87,
    "start_time": "2021-11-15T13:05:07.178Z"
   },
   {
    "duration": 45,
    "start_time": "2021-11-15T13:05:07.268Z"
   },
   {
    "duration": 90,
    "start_time": "2021-11-15T13:05:07.316Z"
   },
   {
    "duration": 203,
    "start_time": "2021-11-15T13:05:07.408Z"
   },
   {
    "duration": 61,
    "start_time": "2021-11-15T13:05:07.614Z"
   },
   {
    "duration": 170,
    "start_time": "2021-11-15T13:05:07.679Z"
   },
   {
    "duration": 8,
    "start_time": "2021-11-15T13:05:07.852Z"
   },
   {
    "duration": 23,
    "start_time": "2021-11-15T13:05:07.862Z"
   },
   {
    "duration": 32,
    "start_time": "2021-11-15T13:05:07.888Z"
   },
   {
    "duration": 17,
    "start_time": "2021-11-15T13:05:07.923Z"
   },
   {
    "duration": 16,
    "start_time": "2021-11-15T13:05:07.943Z"
   },
   {
    "duration": 7,
    "start_time": "2021-11-15T13:05:07.961Z"
   },
   {
    "duration": 16,
    "start_time": "2021-11-15T13:05:07.971Z"
   },
   {
    "duration": 44,
    "start_time": "2021-11-15T13:05:07.990Z"
   },
   {
    "duration": 32,
    "start_time": "2021-11-15T13:05:08.036Z"
   },
   {
    "duration": 2671,
    "start_time": "2021-11-15T13:05:08.070Z"
   },
   {
    "duration": 2236,
    "start_time": "2021-11-15T13:05:10.743Z"
   },
   {
    "duration": 1992,
    "start_time": "2021-11-15T14:02:30.777Z"
   },
   {
    "duration": 36521,
    "start_time": "2021-11-15T14:02:32.772Z"
   },
   {
    "duration": -193,
    "start_time": "2021-11-15T14:03:09.490Z"
   },
   {
    "duration": -192,
    "start_time": "2021-11-15T14:03:09.491Z"
   },
   {
    "duration": -193,
    "start_time": "2021-11-15T14:03:09.493Z"
   },
   {
    "duration": -192,
    "start_time": "2021-11-15T14:03:09.494Z"
   },
   {
    "duration": -192,
    "start_time": "2021-11-15T14:03:09.496Z"
   },
   {
    "duration": -192,
    "start_time": "2021-11-15T14:03:09.497Z"
   },
   {
    "duration": -191,
    "start_time": "2021-11-15T14:03:09.498Z"
   },
   {
    "duration": -191,
    "start_time": "2021-11-15T14:03:09.499Z"
   },
   {
    "duration": -191,
    "start_time": "2021-11-15T14:03:09.500Z"
   },
   {
    "duration": -190,
    "start_time": "2021-11-15T14:03:09.501Z"
   },
   {
    "duration": -190,
    "start_time": "2021-11-15T14:03:09.502Z"
   },
   {
    "duration": -190,
    "start_time": "2021-11-15T14:03:09.504Z"
   },
   {
    "duration": -294,
    "start_time": "2021-11-15T14:03:09.609Z"
   },
   {
    "duration": -294,
    "start_time": "2021-11-15T14:03:09.610Z"
   },
   {
    "duration": -293,
    "start_time": "2021-11-15T14:03:09.611Z"
   },
   {
    "duration": -293,
    "start_time": "2021-11-15T14:03:09.612Z"
   },
   {
    "duration": -292,
    "start_time": "2021-11-15T14:03:09.613Z"
   },
   {
    "duration": -292,
    "start_time": "2021-11-15T14:03:09.614Z"
   },
   {
    "duration": -291,
    "start_time": "2021-11-15T14:03:09.615Z"
   },
   {
    "duration": 1918,
    "start_time": "2021-11-15T14:03:33.886Z"
   },
   {
    "duration": 5602,
    "start_time": "2021-11-15T14:03:35.807Z"
   },
   {
    "duration": 6,
    "start_time": "2021-11-15T14:03:41.413Z"
   },
   {
    "duration": 84,
    "start_time": "2021-11-15T14:03:41.422Z"
   },
   {
    "duration": 58,
    "start_time": "2021-11-15T14:03:41.508Z"
   },
   {
    "duration": 68,
    "start_time": "2021-11-15T14:03:41.569Z"
   },
   {
    "duration": 185,
    "start_time": "2021-11-15T14:03:41.659Z"
   },
   {
    "duration": 53,
    "start_time": "2021-11-15T14:03:41.846Z"
   },
   {
    "duration": 174,
    "start_time": "2021-11-15T14:03:41.903Z"
   },
   {
    "duration": 5,
    "start_time": "2021-11-15T14:03:42.080Z"
   },
   {
    "duration": 15,
    "start_time": "2021-11-15T14:03:42.088Z"
   },
   {
    "duration": 10,
    "start_time": "2021-11-15T14:03:42.106Z"
   },
   {
    "duration": 41,
    "start_time": "2021-11-15T14:03:42.119Z"
   },
   {
    "duration": 9,
    "start_time": "2021-11-15T14:03:42.163Z"
   },
   {
    "duration": 7,
    "start_time": "2021-11-15T14:03:42.175Z"
   },
   {
    "duration": 14,
    "start_time": "2021-11-15T14:03:42.185Z"
   },
   {
    "duration": 79,
    "start_time": "2021-11-15T14:03:42.202Z"
   },
   {
    "duration": 11,
    "start_time": "2021-11-15T14:03:42.284Z"
   },
   {
    "duration": 2752,
    "start_time": "2021-11-15T14:03:42.298Z"
   },
   {
    "duration": 2413,
    "start_time": "2021-11-15T14:03:45.053Z"
   },
   {
    "duration": 2083,
    "start_time": "2021-11-15T14:03:47.468Z"
   },
   {
    "duration": 1933,
    "start_time": "2021-11-15T14:07:00.391Z"
   },
   {
    "duration": 3551,
    "start_time": "2021-11-15T14:07:02.327Z"
   },
   {
    "duration": 5,
    "start_time": "2021-11-15T14:07:05.881Z"
   },
   {
    "duration": 85,
    "start_time": "2021-11-15T14:07:05.889Z"
   },
   {
    "duration": 47,
    "start_time": "2021-11-15T14:07:05.976Z"
   },
   {
    "duration": 98,
    "start_time": "2021-11-15T14:07:06.026Z"
   },
   {
    "duration": 207,
    "start_time": "2021-11-15T14:07:06.127Z"
   },
   {
    "duration": 63,
    "start_time": "2021-11-15T14:07:06.337Z"
   },
   {
    "duration": 173,
    "start_time": "2021-11-15T14:07:06.405Z"
   },
   {
    "duration": 4,
    "start_time": "2021-11-15T14:07:06.581Z"
   },
   {
    "duration": 15,
    "start_time": "2021-11-15T14:07:06.587Z"
   },
   {
    "duration": 8,
    "start_time": "2021-11-15T14:07:06.604Z"
   },
   {
    "duration": 12,
    "start_time": "2021-11-15T14:07:06.615Z"
   },
   {
    "duration": 38,
    "start_time": "2021-11-15T14:07:06.629Z"
   },
   {
    "duration": 17,
    "start_time": "2021-11-15T14:07:06.670Z"
   },
   {
    "duration": 21,
    "start_time": "2021-11-15T14:07:06.690Z"
   },
   {
    "duration": 51,
    "start_time": "2021-11-15T14:07:06.714Z"
   },
   {
    "duration": 12,
    "start_time": "2021-11-15T14:07:06.767Z"
   },
   {
    "duration": 2930,
    "start_time": "2021-11-15T14:07:06.782Z"
   },
   {
    "duration": 2430,
    "start_time": "2021-11-15T14:07:09.715Z"
   },
   {
    "duration": 2267,
    "start_time": "2021-11-15T14:07:12.147Z"
   },
   {
    "duration": 1922,
    "start_time": "2021-11-15T14:28:04.945Z"
   },
   {
    "duration": 3916,
    "start_time": "2021-11-15T14:28:06.870Z"
   },
   {
    "duration": 6,
    "start_time": "2021-11-15T14:28:10.790Z"
   },
   {
    "duration": 87,
    "start_time": "2021-11-15T14:28:10.800Z"
   },
   {
    "duration": 47,
    "start_time": "2021-11-15T14:28:10.890Z"
   },
   {
    "duration": 111,
    "start_time": "2021-11-15T14:28:10.960Z"
   },
   {
    "duration": 231,
    "start_time": "2021-11-15T14:28:11.074Z"
   },
   {
    "duration": 56,
    "start_time": "2021-11-15T14:28:11.308Z"
   },
   {
    "duration": 165,
    "start_time": "2021-11-15T14:28:11.368Z"
   },
   {
    "duration": 4,
    "start_time": "2021-11-15T14:28:11.535Z"
   },
   {
    "duration": 18,
    "start_time": "2021-11-15T14:28:11.541Z"
   },
   {
    "duration": 8,
    "start_time": "2021-11-15T14:28:11.561Z"
   },
   {
    "duration": 9,
    "start_time": "2021-11-15T14:28:11.571Z"
   },
   {
    "duration": 9,
    "start_time": "2021-11-15T14:28:11.583Z"
   },
   {
    "duration": 14,
    "start_time": "2021-11-15T14:28:11.595Z"
   },
   {
    "duration": 47,
    "start_time": "2021-11-15T14:28:11.612Z"
   },
   {
    "duration": 40,
    "start_time": "2021-11-15T14:28:11.661Z"
   },
   {
    "duration": 12,
    "start_time": "2021-11-15T14:28:11.704Z"
   },
   {
    "duration": 3394,
    "start_time": "2021-11-15T14:28:11.718Z"
   },
   {
    "duration": 2644,
    "start_time": "2021-11-15T14:28:15.115Z"
   },
   {
    "duration": 2900,
    "start_time": "2021-11-15T14:28:17.762Z"
   },
   {
    "duration": 939,
    "start_time": "2021-11-15T14:34:21.080Z"
   },
   {
    "duration": 882,
    "start_time": "2021-11-15T14:35:16.214Z"
   },
   {
    "duration": 767,
    "start_time": "2021-11-15T14:35:24.410Z"
   },
   {
    "duration": 854,
    "start_time": "2021-11-15T14:36:18.262Z"
   },
   {
    "duration": 979,
    "start_time": "2021-11-15T14:36:26.280Z"
   },
   {
    "duration": 2459,
    "start_time": "2021-11-15T14:47:17.925Z"
   },
   {
    "duration": 4463,
    "start_time": "2021-11-15T14:47:20.387Z"
   },
   {
    "duration": 10,
    "start_time": "2021-11-15T14:47:24.853Z"
   },
   {
    "duration": 68,
    "start_time": "2021-11-15T14:47:24.865Z"
   },
   {
    "duration": 65,
    "start_time": "2021-11-15T14:47:24.936Z"
   },
   {
    "duration": 85,
    "start_time": "2021-11-15T14:47:25.004Z"
   },
   {
    "duration": 192,
    "start_time": "2021-11-15T14:47:25.092Z"
   },
   {
    "duration": 47,
    "start_time": "2021-11-15T14:47:25.286Z"
   },
   {
    "duration": 180,
    "start_time": "2021-11-15T14:47:25.337Z"
   },
   {
    "duration": 4,
    "start_time": "2021-11-15T14:47:25.520Z"
   },
   {
    "duration": 14,
    "start_time": "2021-11-15T14:47:25.526Z"
   },
   {
    "duration": 21,
    "start_time": "2021-11-15T14:47:25.542Z"
   },
   {
    "duration": 15,
    "start_time": "2021-11-15T14:47:25.565Z"
   },
   {
    "duration": 10,
    "start_time": "2021-11-15T14:47:25.583Z"
   },
   {
    "duration": 11,
    "start_time": "2021-11-15T14:47:25.595Z"
   },
   {
    "duration": 15,
    "start_time": "2021-11-15T14:47:25.608Z"
   },
   {
    "duration": 70,
    "start_time": "2021-11-15T14:47:25.625Z"
   },
   {
    "duration": 11,
    "start_time": "2021-11-15T14:47:25.698Z"
   },
   {
    "duration": 3420,
    "start_time": "2021-11-15T14:47:25.712Z"
   },
   {
    "duration": 2938,
    "start_time": "2021-11-15T14:47:29.134Z"
   },
   {
    "duration": 2733,
    "start_time": "2021-11-15T14:47:32.074Z"
   },
   {
    "duration": 1200,
    "start_time": "2021-11-15T14:47:34.811Z"
   },
   {
    "duration": 11,
    "start_time": "2021-11-15T14:47:36.015Z"
   },
   {
    "duration": 2120,
    "start_time": "2021-11-15T14:47:36.028Z"
   },
   {
    "duration": 146,
    "start_time": "2021-11-15T14:51:40.162Z"
   },
   {
    "duration": 1937,
    "start_time": "2021-11-15T14:52:28.258Z"
   },
   {
    "duration": 5134,
    "start_time": "2021-11-15T14:52:30.198Z"
   },
   {
    "duration": 5,
    "start_time": "2021-11-15T14:52:35.335Z"
   },
   {
    "duration": 83,
    "start_time": "2021-11-15T14:52:35.342Z"
   },
   {
    "duration": 60,
    "start_time": "2021-11-15T14:52:35.428Z"
   },
   {
    "duration": 80,
    "start_time": "2021-11-15T14:52:35.491Z"
   },
   {
    "duration": 197,
    "start_time": "2021-11-15T14:52:35.573Z"
   },
   {
    "duration": 50,
    "start_time": "2021-11-15T14:52:35.773Z"
   },
   {
    "duration": 212,
    "start_time": "2021-11-15T14:52:35.829Z"
   },
   {
    "duration": 4,
    "start_time": "2021-11-15T14:52:36.044Z"
   },
   {
    "duration": 14,
    "start_time": "2021-11-15T14:52:36.060Z"
   },
   {
    "duration": 8,
    "start_time": "2021-11-15T14:52:36.077Z"
   },
   {
    "duration": 14,
    "start_time": "2021-11-15T14:52:36.088Z"
   },
   {
    "duration": 14,
    "start_time": "2021-11-15T14:52:36.105Z"
   },
   {
    "duration": 30,
    "start_time": "2021-11-15T14:52:36.122Z"
   },
   {
    "duration": 12,
    "start_time": "2021-11-15T14:52:36.160Z"
   },
   {
    "duration": 89,
    "start_time": "2021-11-15T14:52:36.174Z"
   },
   {
    "duration": 13,
    "start_time": "2021-11-15T14:52:36.266Z"
   },
   {
    "duration": 3329,
    "start_time": "2021-11-15T14:52:36.281Z"
   },
   {
    "duration": 2847,
    "start_time": "2021-11-15T14:52:39.612Z"
   },
   {
    "duration": 2905,
    "start_time": "2021-11-15T14:52:42.462Z"
   },
   {
    "duration": 1349,
    "start_time": "2021-11-15T14:52:45.370Z"
   },
   {
    "duration": 37,
    "start_time": "2021-11-15T14:52:46.722Z"
   },
   {
    "duration": 2818,
    "start_time": "2021-11-15T14:52:46.763Z"
   },
   {
    "duration": 1377,
    "start_time": "2021-11-15T20:16:02.727Z"
   },
   {
    "duration": 3026,
    "start_time": "2021-11-15T20:16:04.106Z"
   },
   {
    "duration": 5,
    "start_time": "2021-11-15T20:16:07.134Z"
   },
   {
    "duration": 50,
    "start_time": "2021-11-15T20:16:07.141Z"
   },
   {
    "duration": 27,
    "start_time": "2021-11-15T20:16:07.193Z"
   },
   {
    "duration": 39,
    "start_time": "2021-11-15T20:16:07.222Z"
   },
   {
    "duration": 134,
    "start_time": "2021-11-15T20:16:07.262Z"
   },
   {
    "duration": 26,
    "start_time": "2021-11-15T20:16:07.399Z"
   },
   {
    "duration": 96,
    "start_time": "2021-11-15T20:16:07.427Z"
   },
   {
    "duration": 2,
    "start_time": "2021-11-15T20:16:07.525Z"
   },
   {
    "duration": 17,
    "start_time": "2021-11-15T20:16:07.529Z"
   },
   {
    "duration": 21,
    "start_time": "2021-11-15T20:16:07.548Z"
   },
   {
    "duration": 6,
    "start_time": "2021-11-15T20:16:07.570Z"
   },
   {
    "duration": 8,
    "start_time": "2021-11-15T20:16:07.578Z"
   },
   {
    "duration": 7,
    "start_time": "2021-11-15T20:16:07.588Z"
   },
   {
    "duration": 12,
    "start_time": "2021-11-15T20:16:07.597Z"
   },
   {
    "duration": 24,
    "start_time": "2021-11-15T20:16:07.610Z"
   },
   {
    "duration": 10,
    "start_time": "2021-11-15T20:16:07.636Z"
   },
   {
    "duration": 2065,
    "start_time": "2021-11-15T20:16:07.647Z"
   },
   {
    "duration": 1548,
    "start_time": "2021-11-15T20:16:09.714Z"
   },
   {
    "duration": 1587,
    "start_time": "2021-11-15T20:16:11.264Z"
   },
   {
    "duration": 774,
    "start_time": "2021-11-15T20:16:12.853Z"
   },
   {
    "duration": 7,
    "start_time": "2021-11-15T20:16:13.629Z"
   },
   {
    "duration": 1192,
    "start_time": "2021-11-15T20:16:13.638Z"
   },
   {
    "duration": 1506,
    "start_time": "2021-11-15T20:53:15.049Z"
   },
   {
    "duration": 3512,
    "start_time": "2021-11-15T20:53:16.557Z"
   },
   {
    "duration": 5,
    "start_time": "2021-11-15T20:53:20.072Z"
   },
   {
    "duration": 67,
    "start_time": "2021-11-15T20:53:20.079Z"
   },
   {
    "duration": 29,
    "start_time": "2021-11-15T20:53:20.147Z"
   },
   {
    "duration": 51,
    "start_time": "2021-11-15T20:53:20.178Z"
   },
   {
    "duration": 122,
    "start_time": "2021-11-15T20:53:20.231Z"
   },
   {
    "duration": 40,
    "start_time": "2021-11-15T20:53:20.356Z"
   },
   {
    "duration": 93,
    "start_time": "2021-11-15T20:53:20.399Z"
   },
   {
    "duration": 4,
    "start_time": "2021-11-15T20:53:20.494Z"
   },
   {
    "duration": 18,
    "start_time": "2021-11-15T20:53:20.499Z"
   },
   {
    "duration": 29,
    "start_time": "2021-11-15T20:53:20.518Z"
   },
   {
    "duration": 15,
    "start_time": "2021-11-15T20:53:20.548Z"
   },
   {
    "duration": 22,
    "start_time": "2021-11-15T20:53:20.564Z"
   },
   {
    "duration": 20,
    "start_time": "2021-11-15T20:53:20.587Z"
   },
   {
    "duration": 31,
    "start_time": "2021-11-15T20:53:20.608Z"
   },
   {
    "duration": 29,
    "start_time": "2021-11-15T20:53:20.641Z"
   },
   {
    "duration": 11,
    "start_time": "2021-11-15T20:53:20.672Z"
   },
   {
    "duration": 2035,
    "start_time": "2021-11-15T20:53:20.685Z"
   },
   {
    "duration": 1548,
    "start_time": "2021-11-15T20:53:22.722Z"
   },
   {
    "duration": 1605,
    "start_time": "2021-11-15T20:53:24.272Z"
   },
   {
    "duration": 764,
    "start_time": "2021-11-15T20:53:25.880Z"
   },
   {
    "duration": 7,
    "start_time": "2021-11-15T20:53:26.647Z"
   },
   {
    "duration": 1182,
    "start_time": "2021-11-15T20:53:26.656Z"
   },
   {
    "duration": 3,
    "start_time": "2021-11-15T20:53:27.840Z"
   },
   {
    "duration": 12,
    "start_time": "2021-11-15T20:53:27.844Z"
   },
   {
    "duration": 6,
    "start_time": "2021-11-15T20:53:27.857Z"
   },
   {
    "duration": 28,
    "start_time": "2021-11-15T20:53:27.864Z"
   },
   {
    "duration": 2,
    "start_time": "2021-11-15T20:53:27.894Z"
   },
   {
    "duration": 383,
    "start_time": "2021-11-15T20:53:27.898Z"
   },
   {
    "duration": -1132,
    "start_time": "2021-11-15T20:53:29.414Z"
   },
   {
    "duration": 1403,
    "start_time": "2021-11-15T20:59:00.681Z"
   },
   {
    "duration": 3102,
    "start_time": "2021-11-15T20:59:02.086Z"
   },
   {
    "duration": 3,
    "start_time": "2021-11-15T20:59:05.190Z"
   },
   {
    "duration": 46,
    "start_time": "2021-11-15T20:59:05.195Z"
   },
   {
    "duration": 25,
    "start_time": "2021-11-15T20:59:05.243Z"
   },
   {
    "duration": 54,
    "start_time": "2021-11-15T20:59:05.270Z"
   },
   {
    "duration": 118,
    "start_time": "2021-11-15T20:59:05.325Z"
   },
   {
    "duration": 25,
    "start_time": "2021-11-15T20:59:05.444Z"
   },
   {
    "duration": 96,
    "start_time": "2021-11-15T20:59:05.471Z"
   },
   {
    "duration": 2,
    "start_time": "2021-11-15T20:59:05.569Z"
   },
   {
    "duration": 18,
    "start_time": "2021-11-15T20:59:05.573Z"
   },
   {
    "duration": 5,
    "start_time": "2021-11-15T20:59:05.593Z"
   },
   {
    "duration": 6,
    "start_time": "2021-11-15T20:59:05.600Z"
   },
   {
    "duration": 15,
    "start_time": "2021-11-15T20:59:05.608Z"
   },
   {
    "duration": 7,
    "start_time": "2021-11-15T20:59:05.624Z"
   },
   {
    "duration": 12,
    "start_time": "2021-11-15T20:59:05.633Z"
   },
   {
    "duration": 25,
    "start_time": "2021-11-15T20:59:05.647Z"
   },
   {
    "duration": 11,
    "start_time": "2021-11-15T20:59:05.691Z"
   },
   {
    "duration": 2033,
    "start_time": "2021-11-15T20:59:05.704Z"
   },
   {
    "duration": 1713,
    "start_time": "2021-11-15T20:59:07.739Z"
   },
   {
    "duration": 1705,
    "start_time": "2021-11-15T20:59:09.455Z"
   },
   {
    "duration": 786,
    "start_time": "2021-11-15T20:59:11.161Z"
   },
   {
    "duration": 7,
    "start_time": "2021-11-15T20:59:11.948Z"
   },
   {
    "duration": 1175,
    "start_time": "2021-11-15T20:59:11.957Z"
   },
   {
    "duration": 3,
    "start_time": "2021-11-15T20:59:13.133Z"
   },
   {
    "duration": 53,
    "start_time": "2021-11-15T20:59:13.138Z"
   },
   {
    "duration": 3,
    "start_time": "2021-11-15T20:59:13.195Z"
   },
   {
    "duration": 10,
    "start_time": "2021-11-15T20:59:13.200Z"
   },
   {
    "duration": 5,
    "start_time": "2021-11-15T20:59:13.212Z"
   },
   {
    "duration": 3,
    "start_time": "2021-11-15T20:59:13.219Z"
   },
   {
    "duration": 367,
    "start_time": "2021-11-15T20:59:13.224Z"
   },
   {
    "duration": -1156,
    "start_time": "2021-11-15T20:59:14.749Z"
   },
   {
    "duration": 1362,
    "start_time": "2021-11-15T21:00:39.498Z"
   },
   {
    "duration": 3134,
    "start_time": "2021-11-15T21:00:40.862Z"
   },
   {
    "duration": 4,
    "start_time": "2021-11-15T21:00:43.997Z"
   },
   {
    "duration": 42,
    "start_time": "2021-11-15T21:00:44.003Z"
   },
   {
    "duration": 46,
    "start_time": "2021-11-15T21:00:44.046Z"
   },
   {
    "duration": 41,
    "start_time": "2021-11-15T21:00:44.094Z"
   },
   {
    "duration": 127,
    "start_time": "2021-11-15T21:00:44.136Z"
   },
   {
    "duration": 36,
    "start_time": "2021-11-15T21:00:44.265Z"
   },
   {
    "duration": 96,
    "start_time": "2021-11-15T21:00:44.304Z"
   },
   {
    "duration": 3,
    "start_time": "2021-11-15T21:00:44.402Z"
   },
   {
    "duration": 7,
    "start_time": "2021-11-15T21:00:44.407Z"
   },
   {
    "duration": 6,
    "start_time": "2021-11-15T21:00:44.415Z"
   },
   {
    "duration": 5,
    "start_time": "2021-11-15T21:00:44.423Z"
   },
   {
    "duration": 10,
    "start_time": "2021-11-15T21:00:44.429Z"
   },
   {
    "duration": 6,
    "start_time": "2021-11-15T21:00:44.440Z"
   },
   {
    "duration": 12,
    "start_time": "2021-11-15T21:00:44.447Z"
   },
   {
    "duration": 52,
    "start_time": "2021-11-15T21:00:44.460Z"
   },
   {
    "duration": 10,
    "start_time": "2021-11-15T21:00:44.514Z"
   },
   {
    "duration": 2089,
    "start_time": "2021-11-15T21:00:44.526Z"
   },
   {
    "duration": 967,
    "start_time": "2021-11-15T21:00:46.618Z"
   },
   {
    "duration": -1102,
    "start_time": "2021-11-15T21:00:48.689Z"
   },
   {
    "duration": -1102,
    "start_time": "2021-11-15T21:00:48.690Z"
   },
   {
    "duration": -1102,
    "start_time": "2021-11-15T21:00:48.691Z"
   },
   {
    "duration": -1102,
    "start_time": "2021-11-15T21:00:48.692Z"
   },
   {
    "duration": -1102,
    "start_time": "2021-11-15T21:00:48.693Z"
   },
   {
    "duration": -1101,
    "start_time": "2021-11-15T21:00:48.694Z"
   },
   {
    "duration": -1102,
    "start_time": "2021-11-15T21:00:48.696Z"
   },
   {
    "duration": -1103,
    "start_time": "2021-11-15T21:00:48.697Z"
   },
   {
    "duration": -1103,
    "start_time": "2021-11-15T21:00:48.698Z"
   },
   {
    "duration": -1103,
    "start_time": "2021-11-15T21:00:48.699Z"
   },
   {
    "duration": -1103,
    "start_time": "2021-11-15T21:00:48.700Z"
   },
   {
    "duration": -1103,
    "start_time": "2021-11-15T21:00:48.701Z"
   },
   {
    "duration": 1379,
    "start_time": "2021-11-15T21:01:19.269Z"
   },
   {
    "duration": 2374,
    "start_time": "2021-11-15T21:01:20.649Z"
   },
   {
    "duration": 3,
    "start_time": "2021-11-15T21:01:23.025Z"
   },
   {
    "duration": 48,
    "start_time": "2021-11-15T21:01:23.030Z"
   },
   {
    "duration": 38,
    "start_time": "2021-11-15T21:01:23.079Z"
   },
   {
    "duration": 41,
    "start_time": "2021-11-15T21:01:23.119Z"
   },
   {
    "duration": 131,
    "start_time": "2021-11-15T21:01:23.162Z"
   },
   {
    "duration": 25,
    "start_time": "2021-11-15T21:01:23.295Z"
   },
   {
    "duration": 95,
    "start_time": "2021-11-15T21:01:23.323Z"
   },
   {
    "duration": 3,
    "start_time": "2021-11-15T21:01:23.420Z"
   },
   {
    "duration": 8,
    "start_time": "2021-11-15T21:01:23.424Z"
   },
   {
    "duration": 5,
    "start_time": "2021-11-15T21:01:23.434Z"
   },
   {
    "duration": 6,
    "start_time": "2021-11-15T21:01:23.441Z"
   },
   {
    "duration": 8,
    "start_time": "2021-11-15T21:01:23.448Z"
   },
   {
    "duration": 11,
    "start_time": "2021-11-15T21:01:23.457Z"
   },
   {
    "duration": 9,
    "start_time": "2021-11-15T21:01:23.491Z"
   },
   {
    "duration": 24,
    "start_time": "2021-11-15T21:01:23.502Z"
   },
   {
    "duration": 10,
    "start_time": "2021-11-15T21:01:23.528Z"
   },
   {
    "duration": 2119,
    "start_time": "2021-11-15T21:01:23.540Z"
   },
   {
    "duration": 1721,
    "start_time": "2021-11-15T21:01:25.661Z"
   },
   {
    "duration": 1600,
    "start_time": "2021-11-15T21:01:27.383Z"
   },
   {
    "duration": 755,
    "start_time": "2021-11-15T21:01:28.984Z"
   },
   {
    "duration": 8,
    "start_time": "2021-11-15T21:01:29.740Z"
   },
   {
    "duration": 1213,
    "start_time": "2021-11-15T21:01:29.749Z"
   },
   {
    "duration": 3,
    "start_time": "2021-11-15T21:01:30.964Z"
   },
   {
    "duration": 35,
    "start_time": "2021-11-15T21:01:30.969Z"
   },
   {
    "duration": 4,
    "start_time": "2021-11-15T21:01:31.007Z"
   },
   {
    "duration": 17,
    "start_time": "2021-11-15T21:01:31.013Z"
   },
   {
    "duration": 15,
    "start_time": "2021-11-15T21:01:31.031Z"
   },
   {
    "duration": 53,
    "start_time": "2021-11-15T21:01:31.048Z"
   },
   {
    "duration": 45,
    "start_time": "2021-11-15T21:01:31.103Z"
   },
   {
    "duration": 33,
    "start_time": "2021-11-15T21:01:31.192Z"
   },
   {
    "duration": 1373,
    "start_time": "2021-11-15T21:14:52.477Z"
   },
   {
    "duration": 4086,
    "start_time": "2021-11-15T21:14:53.852Z"
   },
   {
    "duration": 3,
    "start_time": "2021-11-15T21:14:57.940Z"
   },
   {
    "duration": 47,
    "start_time": "2021-11-15T21:14:57.945Z"
   },
   {
    "duration": 26,
    "start_time": "2021-11-15T21:14:57.994Z"
   },
   {
    "duration": 38,
    "start_time": "2021-11-15T21:14:58.021Z"
   },
   {
    "duration": 132,
    "start_time": "2021-11-15T21:14:58.060Z"
   },
   {
    "duration": 25,
    "start_time": "2021-11-15T21:14:58.195Z"
   },
   {
    "duration": 94,
    "start_time": "2021-11-15T21:14:58.222Z"
   },
   {
    "duration": 3,
    "start_time": "2021-11-15T21:14:58.317Z"
   },
   {
    "duration": 10,
    "start_time": "2021-11-15T21:14:58.322Z"
   },
   {
    "duration": 13,
    "start_time": "2021-11-15T21:14:58.334Z"
   },
   {
    "duration": 8,
    "start_time": "2021-11-15T21:14:58.348Z"
   },
   {
    "duration": 13,
    "start_time": "2021-11-15T21:14:58.357Z"
   },
   {
    "duration": 16,
    "start_time": "2021-11-15T21:14:58.371Z"
   },
   {
    "duration": 9,
    "start_time": "2021-11-15T21:14:58.391Z"
   },
   {
    "duration": 24,
    "start_time": "2021-11-15T21:14:58.402Z"
   },
   {
    "duration": 11,
    "start_time": "2021-11-15T21:14:58.428Z"
   },
   {
    "duration": 2084,
    "start_time": "2021-11-15T21:14:58.440Z"
   },
   {
    "duration": 1646,
    "start_time": "2021-11-15T21:15:00.526Z"
   },
   {
    "duration": 1586,
    "start_time": "2021-11-15T21:15:02.174Z"
   },
   {
    "duration": 757,
    "start_time": "2021-11-15T21:15:03.762Z"
   },
   {
    "duration": 8,
    "start_time": "2021-11-15T21:15:04.522Z"
   },
   {
    "duration": 1192,
    "start_time": "2021-11-15T21:15:04.531Z"
   },
   {
    "duration": 3,
    "start_time": "2021-11-15T21:15:05.725Z"
   },
   {
    "duration": 24,
    "start_time": "2021-11-15T21:15:05.729Z"
   },
   {
    "duration": 40,
    "start_time": "2021-11-15T21:15:05.754Z"
   },
   {
    "duration": 7,
    "start_time": "2021-11-15T21:15:05.796Z"
   },
   {
    "duration": 6,
    "start_time": "2021-11-15T21:15:05.804Z"
   },
   {
    "duration": 6,
    "start_time": "2021-11-15T21:15:05.811Z"
   },
   {
    "duration": 25,
    "start_time": "2021-11-15T21:15:05.818Z"
   },
   {
    "duration": 67,
    "start_time": "2021-11-15T21:15:05.844Z"
   },
   {
    "duration": 326,
    "start_time": "2021-11-15T21:15:05.913Z"
   },
   {
    "duration": -1076,
    "start_time": "2021-11-15T21:15:07.316Z"
   },
   {
    "duration": -1077,
    "start_time": "2021-11-15T21:15:07.318Z"
   },
   {
    "duration": 1348,
    "start_time": "2021-11-15T21:16:56.204Z"
   },
   {
    "duration": 2789,
    "start_time": "2021-11-15T21:16:57.553Z"
   },
   {
    "duration": 3,
    "start_time": "2021-11-15T21:17:00.345Z"
   },
   {
    "duration": 54,
    "start_time": "2021-11-15T21:17:00.350Z"
   },
   {
    "duration": 28,
    "start_time": "2021-11-15T21:17:00.406Z"
   },
   {
    "duration": 59,
    "start_time": "2021-11-15T21:17:00.436Z"
   },
   {
    "duration": 118,
    "start_time": "2021-11-15T21:17:00.496Z"
   },
   {
    "duration": 27,
    "start_time": "2021-11-15T21:17:00.615Z"
   },
   {
    "duration": 98,
    "start_time": "2021-11-15T21:17:00.645Z"
   },
   {
    "duration": 2,
    "start_time": "2021-11-15T21:17:00.746Z"
   },
   {
    "duration": 48,
    "start_time": "2021-11-15T21:17:00.750Z"
   },
   {
    "duration": 22,
    "start_time": "2021-11-15T21:17:00.800Z"
   },
   {
    "duration": 16,
    "start_time": "2021-11-15T21:17:00.823Z"
   },
   {
    "duration": 18,
    "start_time": "2021-11-15T21:17:00.840Z"
   },
   {
    "duration": 12,
    "start_time": "2021-11-15T21:17:00.860Z"
   },
   {
    "duration": 38,
    "start_time": "2021-11-15T21:17:00.873Z"
   },
   {
    "duration": 29,
    "start_time": "2021-11-15T21:17:00.913Z"
   },
   {
    "duration": 11,
    "start_time": "2021-11-15T21:17:00.944Z"
   },
   {
    "duration": 2104,
    "start_time": "2021-11-15T21:17:00.956Z"
   },
   {
    "duration": 1601,
    "start_time": "2021-11-15T21:17:03.063Z"
   },
   {
    "duration": 1591,
    "start_time": "2021-11-15T21:17:04.667Z"
   },
   {
    "duration": 802,
    "start_time": "2021-11-15T21:17:06.260Z"
   },
   {
    "duration": 8,
    "start_time": "2021-11-15T21:17:07.063Z"
   },
   {
    "duration": 1167,
    "start_time": "2021-11-15T21:17:07.072Z"
   },
   {
    "duration": 3,
    "start_time": "2021-11-15T21:17:08.241Z"
   },
   {
    "duration": 48,
    "start_time": "2021-11-15T21:17:08.245Z"
   },
   {
    "duration": 3,
    "start_time": "2021-11-15T21:17:08.296Z"
   },
   {
    "duration": 7,
    "start_time": "2021-11-15T21:17:08.301Z"
   },
   {
    "duration": 9,
    "start_time": "2021-11-15T21:17:08.310Z"
   },
   {
    "duration": 5,
    "start_time": "2021-11-15T21:17:08.321Z"
   },
   {
    "duration": 73,
    "start_time": "2021-11-15T21:17:08.328Z"
   },
   {
    "duration": 24,
    "start_time": "2021-11-15T21:17:08.403Z"
   },
   {
    "duration": 330,
    "start_time": "2021-11-15T21:17:08.428Z"
   },
   {
    "duration": -1246,
    "start_time": "2021-11-15T21:17:10.005Z"
   },
   {
    "duration": -1246,
    "start_time": "2021-11-15T21:17:10.007Z"
   },
   {
    "duration": 1331,
    "start_time": "2021-11-15T21:18:40.624Z"
   },
   {
    "duration": 3265,
    "start_time": "2021-11-15T21:18:41.957Z"
   },
   {
    "duration": 4,
    "start_time": "2021-11-15T21:18:45.224Z"
   },
   {
    "duration": 54,
    "start_time": "2021-11-15T21:18:45.230Z"
   },
   {
    "duration": 31,
    "start_time": "2021-11-15T21:18:45.285Z"
   },
   {
    "duration": 39,
    "start_time": "2021-11-15T21:18:45.318Z"
   },
   {
    "duration": 129,
    "start_time": "2021-11-15T21:18:45.359Z"
   },
   {
    "duration": 28,
    "start_time": "2021-11-15T21:18:45.491Z"
   },
   {
    "duration": 97,
    "start_time": "2021-11-15T21:18:45.522Z"
   },
   {
    "duration": 4,
    "start_time": "2021-11-15T21:18:45.621Z"
   },
   {
    "duration": 17,
    "start_time": "2021-11-15T21:18:45.626Z"
   },
   {
    "duration": 18,
    "start_time": "2021-11-15T21:18:45.645Z"
   },
   {
    "duration": 16,
    "start_time": "2021-11-15T21:18:45.665Z"
   },
   {
    "duration": 15,
    "start_time": "2021-11-15T21:18:45.683Z"
   },
   {
    "duration": 17,
    "start_time": "2021-11-15T21:18:45.700Z"
   },
   {
    "duration": 20,
    "start_time": "2021-11-15T21:18:45.719Z"
   },
   {
    "duration": 30,
    "start_time": "2021-11-15T21:18:45.740Z"
   },
   {
    "duration": 11,
    "start_time": "2021-11-15T21:18:45.772Z"
   },
   {
    "duration": 2109,
    "start_time": "2021-11-15T21:18:45.784Z"
   },
   {
    "duration": 1671,
    "start_time": "2021-11-15T21:18:47.895Z"
   },
   {
    "duration": 1710,
    "start_time": "2021-11-15T21:18:49.568Z"
   },
   {
    "duration": 875,
    "start_time": "2021-11-15T21:18:51.281Z"
   },
   {
    "duration": 7,
    "start_time": "2021-11-15T21:18:52.159Z"
   },
   {
    "duration": 1187,
    "start_time": "2021-11-15T21:18:52.168Z"
   },
   {
    "duration": 4,
    "start_time": "2021-11-15T21:18:53.356Z"
   },
   {
    "duration": 51,
    "start_time": "2021-11-15T21:18:53.362Z"
   },
   {
    "duration": 3,
    "start_time": "2021-11-15T21:18:53.415Z"
   },
   {
    "duration": 11,
    "start_time": "2021-11-15T21:18:53.420Z"
   },
   {
    "duration": 61,
    "start_time": "2021-11-15T21:18:53.432Z"
   },
   {
    "duration": 17,
    "start_time": "2021-11-15T21:18:53.495Z"
   },
   {
    "duration": 41,
    "start_time": "2021-11-15T21:18:53.513Z"
   },
   {
    "duration": 51,
    "start_time": "2021-11-15T21:18:53.556Z"
   },
   {
    "duration": 353,
    "start_time": "2021-11-15T21:18:53.609Z"
   },
   {
    "duration": -1008,
    "start_time": "2021-11-15T21:18:54.971Z"
   },
   {
    "duration": -1008,
    "start_time": "2021-11-15T21:18:54.972Z"
   },
   {
    "duration": 1390,
    "start_time": "2021-11-15T21:20:51.286Z"
   },
   {
    "duration": 2444,
    "start_time": "2021-11-15T21:20:52.678Z"
   },
   {
    "duration": 3,
    "start_time": "2021-11-15T21:20:55.124Z"
   },
   {
    "duration": 41,
    "start_time": "2021-11-15T21:20:55.129Z"
   },
   {
    "duration": 47,
    "start_time": "2021-11-15T21:20:55.172Z"
   },
   {
    "duration": 38,
    "start_time": "2021-11-15T21:20:55.220Z"
   },
   {
    "duration": 122,
    "start_time": "2021-11-15T21:20:55.260Z"
   },
   {
    "duration": 35,
    "start_time": "2021-11-15T21:20:55.384Z"
   },
   {
    "duration": 96,
    "start_time": "2021-11-15T21:20:55.421Z"
   },
   {
    "duration": 2,
    "start_time": "2021-11-15T21:20:55.519Z"
   },
   {
    "duration": 7,
    "start_time": "2021-11-15T21:20:55.523Z"
   },
   {
    "duration": 5,
    "start_time": "2021-11-15T21:20:55.532Z"
   },
   {
    "duration": 5,
    "start_time": "2021-11-15T21:20:55.539Z"
   },
   {
    "duration": 9,
    "start_time": "2021-11-15T21:20:55.546Z"
   },
   {
    "duration": 4,
    "start_time": "2021-11-15T21:20:55.557Z"
   },
   {
    "duration": 43,
    "start_time": "2021-11-15T21:20:55.563Z"
   },
   {
    "duration": 25,
    "start_time": "2021-11-15T21:20:55.608Z"
   },
   {
    "duration": 11,
    "start_time": "2021-11-15T21:20:55.635Z"
   },
   {
    "duration": 2178,
    "start_time": "2021-11-15T21:20:55.648Z"
   },
   {
    "duration": 1656,
    "start_time": "2021-11-15T21:20:57.829Z"
   },
   {
    "duration": 1711,
    "start_time": "2021-11-15T21:20:59.486Z"
   },
   {
    "duration": 837,
    "start_time": "2021-11-15T21:21:01.199Z"
   },
   {
    "duration": 7,
    "start_time": "2021-11-15T21:21:02.039Z"
   },
   {
    "duration": 1217,
    "start_time": "2021-11-15T21:21:02.048Z"
   },
   {
    "duration": 3,
    "start_time": "2021-11-15T21:21:03.267Z"
   },
   {
    "duration": 47,
    "start_time": "2021-11-15T21:21:03.271Z"
   },
   {
    "duration": 14,
    "start_time": "2021-11-15T21:21:03.319Z"
   },
   {
    "duration": 62,
    "start_time": "2021-11-15T21:21:03.335Z"
   },
   {
    "duration": 4,
    "start_time": "2021-11-15T21:21:03.399Z"
   },
   {
    "duration": 8,
    "start_time": "2021-11-15T21:21:03.405Z"
   },
   {
    "duration": 28,
    "start_time": "2021-11-15T21:21:03.415Z"
   },
   {
    "duration": 70,
    "start_time": "2021-11-15T21:21:03.445Z"
   },
   {
    "duration": 13076,
    "start_time": "2021-11-15T21:21:03.516Z"
   },
   {
    "duration": 14816,
    "start_time": "2021-11-15T21:21:16.595Z"
   },
   {
    "duration": 333,
    "start_time": "2021-11-15T21:21:31.492Z"
   },
   {
    "duration": 1369,
    "start_time": "2021-11-15T21:22:43.812Z"
   },
   {
    "duration": 2877,
    "start_time": "2021-11-15T21:22:45.183Z"
   },
   {
    "duration": 4,
    "start_time": "2021-11-15T21:22:48.062Z"
   },
   {
    "duration": 62,
    "start_time": "2021-11-15T21:22:48.069Z"
   },
   {
    "duration": 28,
    "start_time": "2021-11-15T21:22:48.133Z"
   },
   {
    "duration": 60,
    "start_time": "2021-11-15T21:22:48.162Z"
   },
   {
    "duration": 127,
    "start_time": "2021-11-15T21:22:48.223Z"
   },
   {
    "duration": 27,
    "start_time": "2021-11-15T21:22:48.352Z"
   },
   {
    "duration": 98,
    "start_time": "2021-11-15T21:22:48.380Z"
   },
   {
    "duration": 11,
    "start_time": "2021-11-15T21:22:48.480Z"
   },
   {
    "duration": 6,
    "start_time": "2021-11-15T21:22:48.500Z"
   },
   {
    "duration": 6,
    "start_time": "2021-11-15T21:22:48.507Z"
   },
   {
    "duration": 6,
    "start_time": "2021-11-15T21:22:48.514Z"
   },
   {
    "duration": 9,
    "start_time": "2021-11-15T21:22:48.522Z"
   },
   {
    "duration": 9,
    "start_time": "2021-11-15T21:22:48.533Z"
   },
   {
    "duration": 15,
    "start_time": "2021-11-15T21:22:48.544Z"
   },
   {
    "duration": 47,
    "start_time": "2021-11-15T21:22:48.560Z"
   },
   {
    "duration": 13,
    "start_time": "2021-11-15T21:22:48.609Z"
   },
   {
    "duration": 2113,
    "start_time": "2021-11-15T21:22:48.623Z"
   },
   {
    "duration": 1769,
    "start_time": "2021-11-15T21:22:50.738Z"
   },
   {
    "duration": 1612,
    "start_time": "2021-11-15T21:22:52.510Z"
   },
   {
    "duration": 780,
    "start_time": "2021-11-15T21:22:54.124Z"
   },
   {
    "duration": 7,
    "start_time": "2021-11-15T21:22:54.907Z"
   },
   {
    "duration": 1142,
    "start_time": "2021-11-15T21:22:54.915Z"
   },
   {
    "duration": 3,
    "start_time": "2021-11-15T21:22:56.059Z"
   },
   {
    "duration": 7,
    "start_time": "2021-11-15T21:22:56.064Z"
   },
   {
    "duration": 38,
    "start_time": "2021-11-15T21:22:56.072Z"
   },
   {
    "duration": 3,
    "start_time": "2021-11-15T21:22:56.111Z"
   },
   {
    "duration": 9,
    "start_time": "2021-11-15T21:22:56.116Z"
   },
   {
    "duration": 5,
    "start_time": "2021-11-15T21:22:56.127Z"
   },
   {
    "duration": 5,
    "start_time": "2021-11-15T21:22:56.134Z"
   },
   {
    "duration": 28,
    "start_time": "2021-11-15T21:22:56.195Z"
   },
   {
    "duration": 79,
    "start_time": "2021-11-15T21:22:56.225Z"
   },
   {
    "duration": 15687,
    "start_time": "2021-11-15T21:22:56.306Z"
   },
   {
    "duration": 11500,
    "start_time": "2021-11-15T21:23:11.995Z"
   },
   {
    "duration": 5,
    "start_time": "2021-11-15T21:23:23.497Z"
   },
   {
    "duration": 6,
    "start_time": "2021-11-15T21:30:01.399Z"
   },
   {
    "duration": 1354,
    "start_time": "2021-11-15T21:34:39.199Z"
   },
   {
    "duration": 3441,
    "start_time": "2021-11-15T21:34:40.555Z"
   },
   {
    "duration": 7,
    "start_time": "2021-11-15T21:34:43.998Z"
   },
   {
    "duration": 39,
    "start_time": "2021-11-15T21:34:44.007Z"
   },
   {
    "duration": 26,
    "start_time": "2021-11-15T21:34:44.047Z"
   },
   {
    "duration": 42,
    "start_time": "2021-11-15T21:34:44.093Z"
   },
   {
    "duration": 124,
    "start_time": "2021-11-15T21:34:44.136Z"
   },
   {
    "duration": 38,
    "start_time": "2021-11-15T21:34:44.261Z"
   },
   {
    "duration": 82,
    "start_time": "2021-11-15T21:34:44.301Z"
   },
   {
    "duration": 3,
    "start_time": "2021-11-15T21:34:44.397Z"
   },
   {
    "duration": 7,
    "start_time": "2021-11-15T21:34:44.402Z"
   },
   {
    "duration": 5,
    "start_time": "2021-11-15T21:34:44.411Z"
   },
   {
    "duration": 5,
    "start_time": "2021-11-15T21:34:44.417Z"
   },
   {
    "duration": 7,
    "start_time": "2021-11-15T21:34:44.424Z"
   },
   {
    "duration": 8,
    "start_time": "2021-11-15T21:34:44.432Z"
   },
   {
    "duration": 10,
    "start_time": "2021-11-15T21:34:44.441Z"
   },
   {
    "duration": 53,
    "start_time": "2021-11-15T21:34:44.453Z"
   },
   {
    "duration": 11,
    "start_time": "2021-11-15T21:34:44.508Z"
   },
   {
    "duration": 2161,
    "start_time": "2021-11-15T21:34:44.521Z"
   },
   {
    "duration": 1631,
    "start_time": "2021-11-15T21:34:46.683Z"
   },
   {
    "duration": 1566,
    "start_time": "2021-11-15T21:34:48.315Z"
   },
   {
    "duration": 834,
    "start_time": "2021-11-15T21:34:49.883Z"
   },
   {
    "duration": 7,
    "start_time": "2021-11-15T21:34:50.719Z"
   },
   {
    "duration": 1226,
    "start_time": "2021-11-15T21:34:50.728Z"
   },
   {
    "duration": 3,
    "start_time": "2021-11-15T21:34:51.956Z"
   },
   {
    "duration": 6,
    "start_time": "2021-11-15T21:34:51.960Z"
   },
   {
    "duration": 39,
    "start_time": "2021-11-15T21:34:51.969Z"
   },
   {
    "duration": 4,
    "start_time": "2021-11-15T21:34:52.010Z"
   },
   {
    "duration": 6,
    "start_time": "2021-11-15T21:34:52.015Z"
   },
   {
    "duration": 6,
    "start_time": "2021-11-15T21:34:52.022Z"
   },
   {
    "duration": 4,
    "start_time": "2021-11-15T21:34:52.030Z"
   },
   {
    "duration": 81,
    "start_time": "2021-11-15T21:34:52.035Z"
   },
   {
    "duration": 86,
    "start_time": "2021-11-15T21:34:52.118Z"
   },
   {
    "duration": 59,
    "start_time": "2021-11-15T21:34:52.206Z"
   },
   {
    "duration": -4658,
    "start_time": "2021-11-15T21:34:56.925Z"
   },
   {
    "duration": -4660,
    "start_time": "2021-11-15T21:34:56.928Z"
   },
   {
    "duration": 1385,
    "start_time": "2021-11-15T21:35:19.267Z"
   },
   {
    "duration": 1600,
    "start_time": "2021-11-15T21:35:20.654Z"
   },
   {
    "duration": 3,
    "start_time": "2021-11-15T21:35:22.256Z"
   },
   {
    "duration": 60,
    "start_time": "2021-11-15T21:35:22.261Z"
   },
   {
    "duration": 27,
    "start_time": "2021-11-15T21:35:22.322Z"
   },
   {
    "duration": 61,
    "start_time": "2021-11-15T21:35:22.350Z"
   },
   {
    "duration": 127,
    "start_time": "2021-11-15T21:35:22.412Z"
   },
   {
    "duration": 24,
    "start_time": "2021-11-15T21:35:22.542Z"
   },
   {
    "duration": 102,
    "start_time": "2021-11-15T21:35:22.568Z"
   },
   {
    "duration": 3,
    "start_time": "2021-11-15T21:35:22.671Z"
   },
   {
    "duration": 7,
    "start_time": "2021-11-15T21:35:22.676Z"
   },
   {
    "duration": 11,
    "start_time": "2021-11-15T21:35:22.685Z"
   },
   {
    "duration": 10,
    "start_time": "2021-11-15T21:35:22.698Z"
   },
   {
    "duration": 7,
    "start_time": "2021-11-15T21:35:22.710Z"
   },
   {
    "duration": 8,
    "start_time": "2021-11-15T21:35:22.719Z"
   },
   {
    "duration": 12,
    "start_time": "2021-11-15T21:35:22.728Z"
   },
   {
    "duration": 24,
    "start_time": "2021-11-15T21:35:22.742Z"
   },
   {
    "duration": 35,
    "start_time": "2021-11-15T21:35:22.768Z"
   },
   {
    "duration": 2113,
    "start_time": "2021-11-15T21:35:22.805Z"
   },
   {
    "duration": 1594,
    "start_time": "2021-11-15T21:35:24.920Z"
   },
   {
    "duration": 1713,
    "start_time": "2021-11-15T21:35:26.516Z"
   },
   {
    "duration": 822,
    "start_time": "2021-11-15T21:35:28.231Z"
   },
   {
    "duration": 10,
    "start_time": "2021-11-15T21:35:29.057Z"
   },
   {
    "duration": 1193,
    "start_time": "2021-11-15T21:35:29.069Z"
   },
   {
    "duration": 3,
    "start_time": "2021-11-15T21:35:30.264Z"
   },
   {
    "duration": 8,
    "start_time": "2021-11-15T21:35:30.268Z"
   },
   {
    "duration": 26,
    "start_time": "2021-11-15T21:35:30.297Z"
   },
   {
    "duration": 3,
    "start_time": "2021-11-15T21:35:30.325Z"
   },
   {
    "duration": 7,
    "start_time": "2021-11-15T21:35:30.330Z"
   },
   {
    "duration": 54,
    "start_time": "2021-11-15T21:35:30.339Z"
   },
   {
    "duration": 11,
    "start_time": "2021-11-15T21:35:30.396Z"
   },
   {
    "duration": 30,
    "start_time": "2021-11-15T21:35:30.409Z"
   },
   {
    "duration": 74,
    "start_time": "2021-11-15T21:35:30.440Z"
   },
   {
    "duration": 14091,
    "start_time": "2021-11-15T21:35:30.515Z"
   },
   {
    "duration": 15279,
    "start_time": "2021-11-15T21:35:44.613Z"
   },
   {
    "duration": 560,
    "start_time": "2021-11-15T21:35:59.895Z"
   },
   {
    "duration": 1316,
    "start_time": "2021-11-15T21:36:38.561Z"
   },
   {
    "duration": 1440,
    "start_time": "2021-11-15T21:36:39.879Z"
   },
   {
    "duration": 3,
    "start_time": "2021-11-15T21:36:41.321Z"
   },
   {
    "duration": 47,
    "start_time": "2021-11-15T21:36:41.326Z"
   },
   {
    "duration": 40,
    "start_time": "2021-11-15T21:36:41.374Z"
   },
   {
    "duration": 38,
    "start_time": "2021-11-15T21:36:41.416Z"
   },
   {
    "duration": 132,
    "start_time": "2021-11-15T21:36:41.455Z"
   },
   {
    "duration": 32,
    "start_time": "2021-11-15T21:36:41.589Z"
   },
   {
    "duration": 96,
    "start_time": "2021-11-15T21:36:41.623Z"
   },
   {
    "duration": 2,
    "start_time": "2021-11-15T21:36:41.721Z"
   },
   {
    "duration": 8,
    "start_time": "2021-11-15T21:36:41.725Z"
   },
   {
    "duration": 5,
    "start_time": "2021-11-15T21:36:41.734Z"
   },
   {
    "duration": 7,
    "start_time": "2021-11-15T21:36:41.741Z"
   },
   {
    "duration": 9,
    "start_time": "2021-11-15T21:36:41.749Z"
   },
   {
    "duration": 8,
    "start_time": "2021-11-15T21:36:41.760Z"
   },
   {
    "duration": 16,
    "start_time": "2021-11-15T21:36:41.796Z"
   },
   {
    "duration": 25,
    "start_time": "2021-11-15T21:36:41.813Z"
   },
   {
    "duration": 11,
    "start_time": "2021-11-15T21:36:41.840Z"
   },
   {
    "duration": 2157,
    "start_time": "2021-11-15T21:36:41.853Z"
   },
   {
    "duration": 1676,
    "start_time": "2021-11-15T21:36:44.011Z"
   },
   {
    "duration": 1700,
    "start_time": "2021-11-15T21:36:45.691Z"
   },
   {
    "duration": 818,
    "start_time": "2021-11-15T21:36:47.398Z"
   },
   {
    "duration": 7,
    "start_time": "2021-11-15T21:36:48.220Z"
   },
   {
    "duration": 1230,
    "start_time": "2021-11-15T21:36:48.230Z"
   },
   {
    "duration": 3,
    "start_time": "2021-11-15T21:36:49.462Z"
   },
   {
    "duration": 26,
    "start_time": "2021-11-15T21:36:49.467Z"
   },
   {
    "duration": 36,
    "start_time": "2021-11-15T21:36:49.496Z"
   },
   {
    "duration": 59,
    "start_time": "2021-11-15T21:36:49.534Z"
   },
   {
    "duration": 26,
    "start_time": "2021-11-15T21:36:49.595Z"
   },
   {
    "duration": 24,
    "start_time": "2021-11-15T21:36:49.623Z"
   },
   {
    "duration": 27,
    "start_time": "2021-11-15T21:36:49.649Z"
   },
   {
    "duration": 28,
    "start_time": "2021-11-15T21:36:49.678Z"
   },
   {
    "duration": 21,
    "start_time": "2021-11-15T21:36:49.708Z"
   },
   {
    "duration": 12784,
    "start_time": "2021-11-15T21:36:49.731Z"
   },
   {
    "duration": 13885,
    "start_time": "2021-11-15T21:37:02.605Z"
   },
   {
    "duration": 10,
    "start_time": "2021-11-15T21:37:16.500Z"
   },
   {
    "duration": 1332,
    "start_time": "2021-11-15T21:46:46.227Z"
   },
   {
    "duration": 2522,
    "start_time": "2021-11-15T21:46:47.561Z"
   },
   {
    "duration": 9,
    "start_time": "2021-11-15T21:46:50.086Z"
   },
   {
    "duration": 66,
    "start_time": "2021-11-15T21:46:50.097Z"
   },
   {
    "duration": 37,
    "start_time": "2021-11-15T21:46:50.165Z"
   },
   {
    "duration": 51,
    "start_time": "2021-11-15T21:46:50.205Z"
   },
   {
    "duration": 127,
    "start_time": "2021-11-15T21:46:50.257Z"
   },
   {
    "duration": 32,
    "start_time": "2021-11-15T21:46:50.391Z"
   },
   {
    "duration": 95,
    "start_time": "2021-11-15T21:46:50.425Z"
   },
   {
    "duration": 2,
    "start_time": "2021-11-15T21:46:50.522Z"
   },
   {
    "duration": 11,
    "start_time": "2021-11-15T21:46:50.526Z"
   },
   {
    "duration": 12,
    "start_time": "2021-11-15T21:46:50.538Z"
   },
   {
    "duration": 5,
    "start_time": "2021-11-15T21:46:50.552Z"
   },
   {
    "duration": 15,
    "start_time": "2021-11-15T21:46:50.559Z"
   },
   {
    "duration": 15,
    "start_time": "2021-11-15T21:46:50.575Z"
   },
   {
    "duration": 18,
    "start_time": "2021-11-15T21:46:50.591Z"
   },
   {
    "duration": 25,
    "start_time": "2021-11-15T21:46:50.610Z"
   },
   {
    "duration": 12,
    "start_time": "2021-11-15T21:46:50.636Z"
   },
   {
    "duration": 2153,
    "start_time": "2021-11-15T21:46:50.649Z"
   },
   {
    "duration": 1697,
    "start_time": "2021-11-15T21:46:52.804Z"
   },
   {
    "duration": 1572,
    "start_time": "2021-11-15T21:46:54.506Z"
   },
   {
    "duration": 826,
    "start_time": "2021-11-15T21:46:56.080Z"
   },
   {
    "duration": 8,
    "start_time": "2021-11-15T21:46:56.909Z"
   },
   {
    "duration": 1245,
    "start_time": "2021-11-15T21:46:56.919Z"
   },
   {
    "duration": 3,
    "start_time": "2021-11-15T21:46:58.166Z"
   },
   {
    "duration": 7,
    "start_time": "2021-11-15T21:46:58.170Z"
   },
   {
    "duration": 24,
    "start_time": "2021-11-15T21:46:58.194Z"
   },
   {
    "duration": 4,
    "start_time": "2021-11-15T21:46:58.219Z"
   },
   {
    "duration": 6,
    "start_time": "2021-11-15T21:46:58.224Z"
   },
   {
    "duration": 6,
    "start_time": "2021-11-15T21:46:58.231Z"
   },
   {
    "duration": 55,
    "start_time": "2021-11-15T21:46:58.238Z"
   },
   {
    "duration": 25,
    "start_time": "2021-11-15T21:46:58.296Z"
   },
   {
    "duration": 84,
    "start_time": "2021-11-15T21:46:58.323Z"
   },
   {
    "duration": 13789,
    "start_time": "2021-11-15T21:46:58.408Z"
   },
   {
    "duration": 13689,
    "start_time": "2021-11-15T21:47:12.201Z"
   },
   {
    "duration": 371,
    "start_time": "2021-11-15T21:47:25.910Z"
   },
   {
    "duration": -981,
    "start_time": "2021-11-15T21:47:27.264Z"
   },
   {
    "duration": -983,
    "start_time": "2021-11-15T21:47:27.267Z"
   },
   {
    "duration": -984,
    "start_time": "2021-11-15T21:47:27.269Z"
   },
   {
    "duration": 1425,
    "start_time": "2021-11-15T21:48:20.007Z"
   },
   {
    "duration": 3130,
    "start_time": "2021-11-15T21:48:21.434Z"
   },
   {
    "duration": 4,
    "start_time": "2021-11-15T21:48:24.566Z"
   },
   {
    "duration": 58,
    "start_time": "2021-11-15T21:48:24.572Z"
   },
   {
    "duration": 27,
    "start_time": "2021-11-15T21:48:24.632Z"
   },
   {
    "duration": 70,
    "start_time": "2021-11-15T21:48:24.661Z"
   },
   {
    "duration": 121,
    "start_time": "2021-11-15T21:48:24.733Z"
   },
   {
    "duration": 44,
    "start_time": "2021-11-15T21:48:24.855Z"
   },
   {
    "duration": 89,
    "start_time": "2021-11-15T21:48:24.904Z"
   },
   {
    "duration": 4,
    "start_time": "2021-11-15T21:48:24.997Z"
   },
   {
    "duration": 8,
    "start_time": "2021-11-15T21:48:25.003Z"
   },
   {
    "duration": 8,
    "start_time": "2021-11-15T21:48:25.013Z"
   },
   {
    "duration": 6,
    "start_time": "2021-11-15T21:48:25.022Z"
   },
   {
    "duration": 8,
    "start_time": "2021-11-15T21:48:25.030Z"
   },
   {
    "duration": 12,
    "start_time": "2021-11-15T21:48:25.040Z"
   },
   {
    "duration": 39,
    "start_time": "2021-11-15T21:48:25.053Z"
   },
   {
    "duration": 32,
    "start_time": "2021-11-15T21:48:25.094Z"
   },
   {
    "duration": 11,
    "start_time": "2021-11-15T21:48:25.128Z"
   },
   {
    "duration": 2200,
    "start_time": "2021-11-15T21:48:25.141Z"
   },
   {
    "duration": 1667,
    "start_time": "2021-11-15T21:48:27.343Z"
   },
   {
    "duration": 1598,
    "start_time": "2021-11-15T21:48:29.013Z"
   },
   {
    "duration": 773,
    "start_time": "2021-11-15T21:48:30.612Z"
   },
   {
    "duration": 11,
    "start_time": "2021-11-15T21:48:31.386Z"
   },
   {
    "duration": 1261,
    "start_time": "2021-11-15T21:48:31.399Z"
   },
   {
    "duration": 2,
    "start_time": "2021-11-15T21:48:32.662Z"
   },
   {
    "duration": 27,
    "start_time": "2021-11-15T21:48:32.666Z"
   },
   {
    "duration": 43,
    "start_time": "2021-11-15T21:48:32.696Z"
   },
   {
    "duration": 16,
    "start_time": "2021-11-15T21:48:32.741Z"
   },
   {
    "duration": 6,
    "start_time": "2021-11-15T21:48:32.792Z"
   },
   {
    "duration": 20,
    "start_time": "2021-11-15T21:48:32.800Z"
   },
   {
    "duration": 20,
    "start_time": "2021-11-15T21:48:32.822Z"
   },
   {
    "duration": 45,
    "start_time": "2021-11-15T21:48:32.843Z"
   },
   {
    "duration": 39,
    "start_time": "2021-11-15T21:48:32.890Z"
   },
   {
    "duration": 14479,
    "start_time": "2021-11-15T21:48:32.930Z"
   },
   {
    "duration": 14689,
    "start_time": "2021-11-15T21:48:47.415Z"
   },
   {
    "duration": 89,
    "start_time": "2021-11-15T21:49:02.108Z"
   },
   {
    "duration": 381,
    "start_time": "2021-11-15T21:49:02.199Z"
   },
   {
    "duration": -986,
    "start_time": "2021-11-15T21:49:03.567Z"
   },
   {
    "duration": -986,
    "start_time": "2021-11-15T21:49:03.568Z"
   },
   {
    "duration": 1542,
    "start_time": "2021-11-15T21:50:04.331Z"
   },
   {
    "duration": 1435,
    "start_time": "2021-11-15T21:50:05.875Z"
   },
   {
    "duration": 4,
    "start_time": "2021-11-15T21:50:07.312Z"
   },
   {
    "duration": 49,
    "start_time": "2021-11-15T21:50:07.318Z"
   },
   {
    "duration": 50,
    "start_time": "2021-11-15T21:50:07.368Z"
   },
   {
    "duration": 39,
    "start_time": "2021-11-15T21:50:07.419Z"
   },
   {
    "duration": 128,
    "start_time": "2021-11-15T21:50:07.460Z"
   },
   {
    "duration": 31,
    "start_time": "2021-11-15T21:50:07.593Z"
   },
   {
    "duration": 98,
    "start_time": "2021-11-15T21:50:07.626Z"
   },
   {
    "duration": 3,
    "start_time": "2021-11-15T21:50:07.726Z"
   },
   {
    "duration": 20,
    "start_time": "2021-11-15T21:50:07.731Z"
   },
   {
    "duration": 7,
    "start_time": "2021-11-15T21:50:07.752Z"
   },
   {
    "duration": 15,
    "start_time": "2021-11-15T21:50:07.761Z"
   },
   {
    "duration": 27,
    "start_time": "2021-11-15T21:50:07.778Z"
   },
   {
    "duration": 11,
    "start_time": "2021-11-15T21:50:07.807Z"
   },
   {
    "duration": 16,
    "start_time": "2021-11-15T21:50:07.819Z"
   },
   {
    "duration": 30,
    "start_time": "2021-11-15T21:50:07.836Z"
   },
   {
    "duration": 11,
    "start_time": "2021-11-15T21:50:07.867Z"
   },
   {
    "duration": 2134,
    "start_time": "2021-11-15T21:50:07.880Z"
   },
   {
    "duration": 1772,
    "start_time": "2021-11-15T21:50:10.016Z"
   },
   {
    "duration": 1606,
    "start_time": "2021-11-15T21:50:11.793Z"
   },
   {
    "duration": 799,
    "start_time": "2021-11-15T21:50:13.401Z"
   },
   {
    "duration": 9,
    "start_time": "2021-11-15T21:50:14.202Z"
   },
   {
    "duration": 1148,
    "start_time": "2021-11-15T21:50:14.212Z"
   },
   {
    "duration": 3,
    "start_time": "2021-11-15T21:50:15.362Z"
   },
   {
    "duration": 31,
    "start_time": "2021-11-15T21:50:15.366Z"
   },
   {
    "duration": 37,
    "start_time": "2021-11-15T21:50:15.400Z"
   },
   {
    "duration": 4,
    "start_time": "2021-11-15T21:50:15.439Z"
   },
   {
    "duration": 50,
    "start_time": "2021-11-15T21:50:15.444Z"
   },
   {
    "duration": 4,
    "start_time": "2021-11-15T21:50:15.498Z"
   },
   {
    "duration": 25,
    "start_time": "2021-11-15T21:50:15.504Z"
   },
   {
    "duration": 52,
    "start_time": "2021-11-15T21:50:15.530Z"
   },
   {
    "duration": 44,
    "start_time": "2021-11-15T21:50:15.584Z"
   },
   {
    "duration": 13376,
    "start_time": "2021-11-15T21:50:15.630Z"
   },
   {
    "duration": 13590,
    "start_time": "2021-11-15T21:50:29.009Z"
   },
   {
    "duration": 8,
    "start_time": "2021-11-15T21:50:42.602Z"
   },
   {
    "duration": 335,
    "start_time": "2021-11-15T21:50:42.612Z"
   },
   {
    "duration": -986,
    "start_time": "2021-11-15T21:50:43.934Z"
   },
   {
    "duration": -985,
    "start_time": "2021-11-15T21:50:43.935Z"
   },
   {
    "duration": 1413,
    "start_time": "2021-11-15T21:51:42.799Z"
   },
   {
    "duration": 2565,
    "start_time": "2021-11-15T21:51:44.214Z"
   },
   {
    "duration": 3,
    "start_time": "2021-11-15T21:51:46.781Z"
   },
   {
    "duration": 47,
    "start_time": "2021-11-15T21:51:46.793Z"
   },
   {
    "duration": 29,
    "start_time": "2021-11-15T21:51:46.842Z"
   },
   {
    "duration": 67,
    "start_time": "2021-11-15T21:51:46.872Z"
   },
   {
    "duration": 138,
    "start_time": "2021-11-15T21:51:46.940Z"
   },
   {
    "duration": 41,
    "start_time": "2021-11-15T21:51:47.079Z"
   },
   {
    "duration": 98,
    "start_time": "2021-11-15T21:51:47.123Z"
   },
   {
    "duration": 3,
    "start_time": "2021-11-15T21:51:47.223Z"
   },
   {
    "duration": 6,
    "start_time": "2021-11-15T21:51:47.228Z"
   },
   {
    "duration": 6,
    "start_time": "2021-11-15T21:51:47.236Z"
   },
   {
    "duration": 6,
    "start_time": "2021-11-15T21:51:47.243Z"
   },
   {
    "duration": 8,
    "start_time": "2021-11-15T21:51:47.251Z"
   },
   {
    "duration": 32,
    "start_time": "2021-11-15T21:51:47.260Z"
   },
   {
    "duration": 14,
    "start_time": "2021-11-15T21:51:47.296Z"
   },
   {
    "duration": 26,
    "start_time": "2021-11-15T21:51:47.311Z"
   },
   {
    "duration": 12,
    "start_time": "2021-11-15T21:51:47.338Z"
   },
   {
    "duration": 2207,
    "start_time": "2021-11-15T21:51:47.351Z"
   },
   {
    "duration": 1784,
    "start_time": "2021-11-15T21:51:49.561Z"
   },
   {
    "duration": 1791,
    "start_time": "2021-11-15T21:51:51.348Z"
   },
   {
    "duration": 886,
    "start_time": "2021-11-15T21:51:53.142Z"
   },
   {
    "duration": 8,
    "start_time": "2021-11-15T21:51:54.029Z"
   },
   {
    "duration": 1291,
    "start_time": "2021-11-15T21:51:54.039Z"
   },
   {
    "duration": 3,
    "start_time": "2021-11-15T21:51:55.333Z"
   },
   {
    "duration": 6,
    "start_time": "2021-11-15T21:51:55.338Z"
   },
   {
    "duration": 54,
    "start_time": "2021-11-15T21:51:55.348Z"
   },
   {
    "duration": 8,
    "start_time": "2021-11-15T21:51:55.407Z"
   },
   {
    "duration": 8,
    "start_time": "2021-11-15T21:51:55.417Z"
   },
   {
    "duration": 7,
    "start_time": "2021-11-15T21:51:55.427Z"
   },
   {
    "duration": 10,
    "start_time": "2021-11-15T21:51:55.435Z"
   },
   {
    "duration": 25,
    "start_time": "2021-11-15T21:51:55.495Z"
   },
   {
    "duration": 75,
    "start_time": "2021-11-15T21:51:55.522Z"
   },
   {
    "duration": 15706,
    "start_time": "2021-11-15T21:51:55.599Z"
   },
   {
    "duration": 16088,
    "start_time": "2021-11-15T21:52:11.308Z"
   },
   {
    "duration": 11,
    "start_time": "2021-11-15T21:52:27.398Z"
   },
   {
    "duration": 1924423,
    "start_time": "2021-11-15T21:52:27.412Z"
   },
   {
    "duration": -1231,
    "start_time": "2021-11-15T22:24:33.068Z"
   },
   {
    "duration": -1232,
    "start_time": "2021-11-15T22:24:33.070Z"
   },
   {
    "duration": 1316,
    "start_time": "2021-11-15T22:24:46.550Z"
   },
   {
    "duration": 2817,
    "start_time": "2021-11-15T22:24:47.868Z"
   },
   {
    "duration": 8,
    "start_time": "2021-11-15T22:24:50.687Z"
   },
   {
    "duration": 41,
    "start_time": "2021-11-15T22:24:50.700Z"
   },
   {
    "duration": 28,
    "start_time": "2021-11-15T22:24:50.742Z"
   },
   {
    "duration": 61,
    "start_time": "2021-11-15T22:24:50.771Z"
   },
   {
    "duration": 131,
    "start_time": "2021-11-15T22:24:50.833Z"
   },
   {
    "duration": 49,
    "start_time": "2021-11-15T22:24:50.969Z"
   },
   {
    "duration": 92,
    "start_time": "2021-11-15T22:24:51.020Z"
   },
   {
    "duration": 2,
    "start_time": "2021-11-15T22:24:51.114Z"
   },
   {
    "duration": 10,
    "start_time": "2021-11-15T22:24:51.118Z"
   },
   {
    "duration": 12,
    "start_time": "2021-11-15T22:24:51.129Z"
   },
   {
    "duration": 5,
    "start_time": "2021-11-15T22:24:51.142Z"
   },
   {
    "duration": 9,
    "start_time": "2021-11-15T22:24:51.149Z"
   },
   {
    "duration": 7,
    "start_time": "2021-11-15T22:24:51.160Z"
   },
   {
    "duration": 36,
    "start_time": "2021-11-15T22:24:51.168Z"
   },
   {
    "duration": 28,
    "start_time": "2021-11-15T22:24:51.206Z"
   },
   {
    "duration": 11,
    "start_time": "2021-11-15T22:24:51.236Z"
   },
   {
    "duration": 2227,
    "start_time": "2021-11-15T22:24:51.249Z"
   },
   {
    "duration": 1716,
    "start_time": "2021-11-15T22:24:53.478Z"
   },
   {
    "duration": 1606,
    "start_time": "2021-11-15T22:24:55.196Z"
   },
   {
    "duration": 795,
    "start_time": "2021-11-15T22:24:56.805Z"
   },
   {
    "duration": 8,
    "start_time": "2021-11-15T22:24:57.604Z"
   },
   {
    "duration": 1247,
    "start_time": "2021-11-15T22:24:57.613Z"
   },
   {
    "duration": 3,
    "start_time": "2021-11-15T22:24:58.862Z"
   },
   {
    "duration": 6,
    "start_time": "2021-11-15T22:24:58.866Z"
   },
   {
    "duration": 42,
    "start_time": "2021-11-15T22:24:58.874Z"
   },
   {
    "duration": 4,
    "start_time": "2021-11-15T22:24:58.917Z"
   },
   {
    "duration": 6,
    "start_time": "2021-11-15T22:24:58.922Z"
   },
   {
    "duration": 5,
    "start_time": "2021-11-15T22:24:58.929Z"
   },
   {
    "duration": 7,
    "start_time": "2021-11-15T22:24:58.935Z"
   },
   {
    "duration": 72,
    "start_time": "2021-11-15T22:24:58.944Z"
   },
   {
    "duration": 24,
    "start_time": "2021-11-15T22:24:59.017Z"
   },
   {
    "duration": 14561,
    "start_time": "2021-11-15T22:24:59.043Z"
   },
   {
    "duration": 14688,
    "start_time": "2021-11-15T22:25:13.607Z"
   },
   {
    "duration": 4,
    "start_time": "2021-11-15T22:25:28.297Z"
   },
   {
    "duration": 76246,
    "start_time": "2021-11-15T22:25:28.304Z"
   },
   {
    "duration": -1210,
    "start_time": "2021-11-15T22:26:45.762Z"
   },
   {
    "duration": -1214,
    "start_time": "2021-11-15T22:26:45.767Z"
   },
   {
    "duration": 1401,
    "start_time": "2021-11-15T22:27:04.434Z"
   },
   {
    "duration": 1476,
    "start_time": "2021-11-15T22:27:05.837Z"
   },
   {
    "duration": 3,
    "start_time": "2021-11-15T22:27:07.316Z"
   },
   {
    "duration": 53,
    "start_time": "2021-11-15T22:27:07.321Z"
   },
   {
    "duration": 44,
    "start_time": "2021-11-15T22:27:07.376Z"
   },
   {
    "duration": 40,
    "start_time": "2021-11-15T22:27:07.423Z"
   },
   {
    "duration": 138,
    "start_time": "2021-11-15T22:27:07.465Z"
   },
   {
    "duration": 28,
    "start_time": "2021-11-15T22:27:07.606Z"
   },
   {
    "duration": 99,
    "start_time": "2021-11-15T22:27:07.636Z"
   },
   {
    "duration": 3,
    "start_time": "2021-11-15T22:27:07.737Z"
   },
   {
    "duration": 17,
    "start_time": "2021-11-15T22:27:07.742Z"
   },
   {
    "duration": 11,
    "start_time": "2021-11-15T22:27:07.761Z"
   },
   {
    "duration": 23,
    "start_time": "2021-11-15T22:27:07.774Z"
   },
   {
    "duration": 14,
    "start_time": "2021-11-15T22:27:07.799Z"
   },
   {
    "duration": 11,
    "start_time": "2021-11-15T22:27:07.814Z"
   },
   {
    "duration": 23,
    "start_time": "2021-11-15T22:27:07.827Z"
   },
   {
    "duration": 31,
    "start_time": "2021-11-15T22:27:07.852Z"
   },
   {
    "duration": 19,
    "start_time": "2021-11-15T22:27:07.884Z"
   },
   {
    "duration": 2095,
    "start_time": "2021-11-15T22:27:07.905Z"
   },
   {
    "duration": 1683,
    "start_time": "2021-11-15T22:27:10.002Z"
   },
   {
    "duration": 1717,
    "start_time": "2021-11-15T22:27:11.686Z"
   },
   {
    "duration": 810,
    "start_time": "2021-11-15T22:27:13.405Z"
   },
   {
    "duration": 8,
    "start_time": "2021-11-15T22:27:14.218Z"
   },
   {
    "duration": 1231,
    "start_time": "2021-11-15T22:27:14.227Z"
   },
   {
    "duration": 3,
    "start_time": "2021-11-15T22:27:15.460Z"
   },
   {
    "duration": 6,
    "start_time": "2021-11-15T22:27:15.464Z"
   },
   {
    "duration": 39,
    "start_time": "2021-11-15T22:27:15.471Z"
   },
   {
    "duration": 4,
    "start_time": "2021-11-15T22:27:15.512Z"
   },
   {
    "duration": 8,
    "start_time": "2021-11-15T22:27:15.518Z"
   },
   {
    "duration": 5,
    "start_time": "2021-11-15T22:27:15.528Z"
   },
   {
    "duration": 59,
    "start_time": "2021-11-15T22:27:15.535Z"
   },
   {
    "duration": 31,
    "start_time": "2021-11-15T22:27:15.596Z"
   },
   {
    "duration": 82,
    "start_time": "2021-11-15T22:27:15.628Z"
   },
   {
    "duration": 15603,
    "start_time": "2021-11-15T22:27:15.712Z"
   },
   {
    "duration": 15102,
    "start_time": "2021-11-15T22:27:31.392Z"
   },
   {
    "duration": 6,
    "start_time": "2021-11-15T22:27:46.496Z"
   },
   {
    "duration": 43072,
    "start_time": "2021-11-15T22:27:46.506Z"
   },
   {
    "duration": -1184,
    "start_time": "2021-11-15T22:28:30.764Z"
   },
   {
    "duration": -1187,
    "start_time": "2021-11-15T22:28:30.768Z"
   },
   {
    "duration": 381,
    "start_time": "2021-11-17T11:08:26.972Z"
   }
  ],
  "kernelspec": {
   "display_name": "Python 3 (ipykernel)",
   "language": "python",
   "name": "python3"
  },
  "language_info": {
   "codemirror_mode": {
    "name": "ipython",
    "version": 3
   },
   "file_extension": ".py",
   "mimetype": "text/x-python",
   "name": "python",
   "nbconvert_exporter": "python",
   "pygments_lexer": "ipython3",
   "version": "3.9.5"
  },
  "toc": {
   "base_numbering": 1,
   "nav_menu": {},
   "number_sections": true,
   "sideBar": true,
   "skip_h1_title": true,
   "title_cell": "Содержание",
   "title_sidebar": "Contents",
   "toc_cell": true,
   "toc_position": {},
   "toc_section_display": true,
   "toc_window_display": false
  }
 },
 "nbformat": 4,
 "nbformat_minor": 2
}
